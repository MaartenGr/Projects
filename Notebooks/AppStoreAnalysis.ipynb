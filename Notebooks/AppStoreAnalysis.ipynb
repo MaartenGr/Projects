{
 "cells": [
  {
   "cell_type": "markdown",
   "metadata": {},
   "source": [
    "<img src = \"https://www.tilburguniversity.edu/upload/c67b70dd-9a4f-499b-82e0-0aee20dfe12a_jads%20logo.png\",width=500>\n",
    "\n",
    "## Performance of Mobile Gaming Apps\n",
    "\n",
    "* The Impact of a Business Model on the Relationship between Entrance Timing and Performance among Mobile Games\n",
    "\n",
    "The goal of this notebook is to guide readers through the process of analyzing Apple AppStore data received from Tilburg University. For more information read through the attached paper that was created for the purpose of finishing the master course Strategy and Business Models. "
   ]
  },
  {
   "cell_type": "markdown",
   "metadata": {},
   "source": [
    "## <a name=\"table\">Table of Contents</a> \n",
    " \n",
    "1. [Dataset](#dataset)\n",
    "    \n",
    "2. [Purpose of this Study](#goal)\n",
    "\n",
    "3. [Functions](#functions) \n",
    "\n",
    "4. [Data Preparation](#dataprep)\n",
    "\n",
    "    4.1 [Time Slots](#timeslots)\n",
    "    \n",
    "    4.2 [EDA](#eda)\n",
    "    \n",
    "    4.3 [Creating Final Variables](#variables)\n",
    "    \n",
    "    4.4 [Correlation Matrix](#correlation)\n",
    "\n",
    "5. [Selecting Statistical Model](#selectingmodel)\n",
    "\n",
    "6. [Statistical Analysis - Revenue Model](#revenue)\n",
    "\n",
    "    6.1 [Main Effects](#revenuemain)\n",
    "    \n",
    "    6.2 [Interaction Effects](#revenueinteraction)\n",
    "    \n",
    "    6.3 [Truncated Model](#revenuetruncated)\n",
    "    \n",
    "    6.4 [Logistical Model](#revenuelogistical)\n",
    "    \n",
    "    6.5 [Results](#revenueresults)\n",
    "\n",
    "7. [Statistical Analysis - Technological Innovation](#ti)\n",
    "\n",
    "    7.1 [Main Effects](#timain)\n",
    "    \n",
    "    7.2 [Interaction Effects](#tiinteraction)\n",
    "    \n",
    "    7.3 [Truncated Model](#titruncated)\n",
    "    \n",
    "    7.4 [Logistical Model](#tilogistical)\n",
    "    \n",
    "    7.5 [Results](#tiresults)\n",
    "\n",
    "8. [Conclusion](#conclusion) \n",
    "\n",
    "9. [References](#literature) "
   ]
  },
  {
   "cell_type": "markdown",
   "metadata": {},
   "source": [
    "### <a name=\"dataset\">1. Dataset</a> \n",
    "[Back to Table of Contents](#table)\n",
    "\n",
    "The dataset used in the study is information regarding apps scraped from the Apple AppStore. From those apps their category was collected, average rating, number of ratings, etc. For more details see \"Data Preparation\". \n",
    "\n",
    "### <a name=\"goal\">2. Purpose of this study</a> \n",
    "[Back to Table of Contents](#table)\n",
    "\n",
    "The main purpose of the study is to research the effects of a business model on the performance of Apple AppStore apps. Without going too much into the academic research, the following hypotheses were tested in this paper:  \n",
    "  \n",
    "* Hypothesis 1: Both early and late entrants will perform better when they make use of\n",
    "the free revenue model compared to the paid revenue model\n",
    "\n",
    "* Hypothesis 2: Order of entry and revenue model interact such that free apps will\n",
    "perform better when they are late entrants versus early entrants, whereas paid apps will\n",
    "perform better when they are early entrants versus late entrants.\n",
    "  \n",
    "* Hypothesis 3: Order of entry and technological innovation interact such that apps using\n",
    "technological innovation will perform better when they are early entrants versus late\n",
    "entrants, whereas apps not using technological innovation will perform better when they\n",
    "are late entrants versus early entrants.\n",
    "\n",
    "I start by cleaning the data and doing some exploratory data analysis (EDA) before doing the statistical analysis. I try to be as clear as possible during the process what is done and for which reason. It should be noted though that for details you might want to look in the paper that was written with my fellow students. Moreover, since I'm not able to share the data this notebook cannot be run on your system. This notebook is to show my thought process when doing the analysis. "
   ]
  },
  {
   "cell_type": "markdown",
   "metadata": {},
   "source": [
    "### <a name=\"functions\">3. Functions</a> \n",
    "[Back to Table of Contents](#table)\n",
    "Here are all the functions used in this study. It's a lot, I know! Normally this would all be in a separate .py file, but the goal is to be transparent, so here it is :-)"
   ]
  },
  {
   "cell_type": "code",
   "execution_count": 1,
   "metadata": {
    "collapsed": true
   },
   "outputs": [],
   "source": [
    "import re                 as re\n",
    "import pandas             as pd\n",
    "import matplotlib.pyplot  as plt\n",
    "import numpy              as np\n",
    "import seaborn            as sns\n",
    "\n",
    "import string\n",
    "\n",
    "from collections          import Counter\n",
    "from nltk.corpus          import stopwords\n",
    "from collections          import Counter\n",
    "\n",
    "%matplotlib inline \n",
    "%load_ext rpy2.ipython\n",
    "\n",
    "def create_4_timeslots(df):\n",
    "    \"\"\" Creates and returns dataframes in 4 timeslots:\n",
    "        - first_seen_2015: Apps in 2015 that were first seen around may\n",
    "        - last_seen_2015: Apps in 2015 that were last seen around september\n",
    "        - first_seen_2017: Apps in 2017 that were first seen around may\n",
    "        - last_seen_2017: Apps in 2017 that were last seen around september\n",
    "    \"\"\"\n",
    "    # Create a dataframe with apps in 2015 that were first seen around may\n",
    "    first_seen_2015 = df[(df['timestamp'] == df['firstseen']) & (df['firstseen'].str.contains('2015'))].groupby(by='id').first()\n",
    "    first_seen_2015 = first_seen_2015.reset_index()\n",
    "\n",
    "    # Create a dataframe with apps in 2017 that were first seen around may\n",
    "    first_seen_2017 = df[(df['timestamp'] == df['firstseen']) & (df['firstseen'].str.contains('2017'))].groupby(by='id').first()\n",
    "    first_seen_2017 = first_seen_2017.reset_index()\n",
    "\n",
    "    # Create dataframes with apps in 2015 and 2017 that were last seen around september\n",
    "    last_seen_2015 = df[(df['week'] > 30) & (df['week'] < 40)].groupby(by='id').last().reset_index()\n",
    "    last_seen_2017 = df[df['week'] > 90].groupby(by='id').last().reset_index()\n",
    "    \n",
    "    return first_seen_2015, last_seen_2015, first_seen_2017, last_seen_2017\n",
    "\n",
    "def create_4_equal_timeslots(first_seen_2015, last_seen_2015, first_seen_2017, last_seen_2017):\n",
    "    \"\"\" Returns the dataframes of the 4 timeslots so that they include the exact same apps.\n",
    "        - first_seen_2015 and last_seen_2015 contain the same apps\n",
    "        - first_seen_2017 and last_seen_2017 contain the same apps\n",
    "    \"\"\"\n",
    "    # Making sure all id's that are in last_seen are also in first_seen\n",
    "    list_ls_2015 = list(last_seen_2015['id'])\n",
    "    first_seen_2015 = first_seen_2015[first_seen_2015['id'].isin(list_ls_2015)]\n",
    "\n",
    "    # Making sure all id's that are in first_seen are also in last_seen\n",
    "    list_fs_2015 = list(first_seen_2015['id'])\n",
    "    last_seen_2015 = last_seen_2015[last_seen_2015['id'].isin(list_fs_2015)]\n",
    "\n",
    "    # Making sure all id's that are in last_seen are also in first_seen\n",
    "    list_ls_2017 = list(last_seen_2017['id'])\n",
    "    first_seen_2017 = first_seen_2017[first_seen_2017['id'].isin(list_ls_2017)]\n",
    "\n",
    "    # Making sure all id's that are in first_seen are also in last_seen\n",
    "    list_fs_2017 = list(first_seen_2017['id'])\n",
    "    last_seen_2017 = last_seen_2017[last_seen_2017['id'].isin(list_fs_2017)]\n",
    "    \n",
    "    return first_seen_2015, last_seen_2015, first_seen_2017, last_seen_2017\n",
    "\n",
    "def create_common_words():\n",
    "    \"\"\" Returns a dataframe that contains the most common words for apps found in 2015 and 2017. \n",
    "        I specifically choose to only include first seen apps seeing as that was their initial strategy. \n",
    "    \"\"\"\n",
    "    # Create stopwords and add some stopwords that I want removed\n",
    "    stopwords_english = stopwords.words('english')\n",
    "\n",
    "    for word in ['u2022', '', 'u2028', 'will', 'get', 'make', 'like', 'just', 'use', 'u2013', 'let', 'game', '\\u2022', '-', '&', \n",
    "                'u', 'e', 'f', 'b', 'c', 'cu', 'bu', 'au', 'fu', 'us', 'go', 'du', 'eu', 'ea', 'uff', 'n', 'one']:\n",
    "        stopwords_english.append(word)\n",
    "\n",
    "    # Create descriptions for each year (first seen), clean it and count the number of words\n",
    "    description = {'2017': '', '2015': ''}\n",
    "\n",
    "    for year, value in description.items():\n",
    "        description[year] = eval('first_seen_{}'.format(year))['description'].str.cat(sep=' ') # create one string of column\n",
    "        description[year] = re.sub('[^a-zA-z]', ' ', description[year]) # only keep letters\n",
    "        description[year] = description[year].replace(\"\\\\\", \"\").lower() # remove backslashes and lower the text\n",
    "        description[year] = ' '.join(description[year].split()) # Remove too many spaces\n",
    "        description[year] = description[year].split(' ') # create a list with words\n",
    "        description[year] = Counter(description[year]) # Count how often a word occurs\n",
    "\n",
    "        # Removing stopwords\n",
    "        for word in stopwords_english:\n",
    "            if word in description[year].keys():\n",
    "                del description[year][word]\n",
    "\n",
    "    # Create a dataframe of the count of words for each year for easier readability\n",
    "    df = pd.DataFrame()\n",
    "\n",
    "    for year in ['2015', '2017']:\n",
    "        for action, value in {'word': 0, 'count': 1}.items():\n",
    "            df['{}_{}'.format(year, action)] = [word[value] for word in description[year].most_common(1000)]\n",
    "            \n",
    "    return df\n",
    "\n",
    "def join_first_last(first_seen_2015, last_seen_2015, first_seen_2017, last_seen_2017):\n",
    "    \"\"\" Returns the following two dataframes:\n",
    "        - df_2015: An inner join of first_seen_2015 and last_seen_2015\n",
    "        - df_2017: An inner join of first_seen_2015 and last_seen_2017\n",
    "    \"\"\"\n",
    "    # Merges first_seen_2015 with last_seen_2015 and adds _first and _last to columns to show which belong to which data\n",
    "    first_seen_2015.columns = [column + \"_first\" if column != 'id' else 'id' for column in first_seen_2015.columns]\n",
    "    last_seen_2015.columns = [column + \"_last\" if column != 'id' else 'id' for column in last_seen_2015.columns]\n",
    "    df_2015 = pd.merge(first_seen_2015, last_seen_2015, on='id')\n",
    "    \n",
    "    # Merges first_seen_2017 with last_seen_2017 and adds _first and _last to columns to show which belong to which data\n",
    "    first_seen_2017.columns = [column + \"_first\" if column != 'id' else 'id' for column in first_seen_2017.columns]\n",
    "    last_seen_2017.columns = [column + \"_last\" if column != 'id' else 'id' for column in last_seen_2017.columns]\n",
    "    df_2017 = pd.merge(first_seen_2017, last_seen_2017, on='id')\n",
    "\n",
    "    return df_2015, df_2017\n",
    "\n",
    "def get_change(row, column_1, column_2):\n",
    "    \"\"\" Used for lambda expression. Compares two columns and gives back a 1 if there's a difference and 0 if there isn't. \n",
    "    \"\"\"\n",
    "    if row[column_1] != row[column_2]:\n",
    "        return 1\n",
    "    else:\n",
    "        return 0\n",
    "    \n",
    "def create_change_columns(df_2015, df_2017, columns = ['price', 'screenshots', 'content_rating', 'compatibility', \n",
    "                                                            'size', 'quan_language', 'appversion', 'ratingscurrentversion', \n",
    "                                                            'ratingcurrentversion', 'title']):\n",
    "    \"\"\" This will return two dataframes that have a number of new columns that signify the differences between the\n",
    "        value when firstseen and lastseen. For example, the 'price' column might change when first released and seen a\n",
    "        half year later. This function will return dataframes with columns that show whether there was a change (1) or not (0).\n",
    "    \"\"\"\n",
    "    for column in columns:\n",
    "        df_2015['change_{}'.format(column)] = df_2015.apply(lambda row: get_change(row, '{}_first'.format(column), \n",
    "                                                                                        '{}_last'.format(column)), axis = 1)\n",
    "        df_2017['change_{}'.format(column)] = df_2017.apply(lambda row: get_change(row, '{}_first'.format(column), \n",
    "                                                                                        '{}_last'.format(column)), axis = 1)\n",
    "    return df_2015, df_2017\n",
    "\n",
    "def show_changes(df_2015, df_2017, columns = ['price', 'screenshots', 'content_rating', 'compatibility', 'size', \n",
    "                                              'quan_language', 'appversion', 'ratingscurrentversion', 'ratingcurrentversion', \n",
    "                                              'title']):\n",
    "    \"\"\" Prints the number of changes of a column between firstseen and lastseen for 2015 and 2017\n",
    "    \"\"\"\n",
    "    for year in ['2015', '2017']:\n",
    "        print('Changes in column between firstseen and lastseen of {}:\\n'.format(year))\n",
    "\n",
    "        for column in columns:\n",
    "            changes = eval('df_{}'.format(year))['change_{}'.format(column)].value_counts()[1]\n",
    "\n",
    "            if len(column) < 20:\n",
    "                column = (' '*(20-len(column))) + column\n",
    "            else:\n",
    "                continue\n",
    "\n",
    "            print('{}: \\t{} of {}'.format(column, changes, len(eval('df_{}'.format(year)))))\n",
    "        print()\n",
    "        \n",
    "def optimized_for(df_2015, df_2017, devices = ['iphone', 'ipad', 'ipod touch']):\n",
    "    \"\"\" Prints how many of the apps are optimized for certain devices based on their release\n",
    "    \"\"\"\n",
    "    print('Apps in 2015 that are optimized for the following devices (based on their release): \\n')\n",
    "    for value in devices:\n",
    "        df_2015['optimized_for_{}'.format(value)] = df_2015.apply(lambda row: 1 if value in row['compatibility_first'].lower() \n",
    "                                                                  else 0, axis = 1)\n",
    "        optimized = df_2015['optimized_for_{}'.format(value)].value_counts()[1]\n",
    "        value = ' '*(20-len(value)) + value\n",
    "        print('{}: \\t {} out of {}'.format(value, optimized, len(df_2015)))\n",
    "    print()\n",
    "        \n",
    "    print('Apps in 2017 that are optimized for the following devices (based on their release): \\n')\n",
    "    for value in devices:\n",
    "        df_2017['optimized_for_{}'.format(value)] = df_2017.apply(lambda row: 1 if value in row['compatibility_first'].lower() \n",
    "                                                                  else 0, axis = 1)\n",
    "        optimized = df_2017['optimized_for_{}'.format(value)].value_counts()[1]\n",
    "        value = ' '*(20-len(value)) + value\n",
    "        print('{}: \\t {} out of {}'.format(value, optimized, len(df_2017)))\n",
    "    print()\n",
    "    \n",
    "def count_subcategories(df_2015, df_2017):\n",
    "    \"\"\" Prints how many apps there are in certain subcategories which are based on certain keywords in an apps description. \n",
    "    \"\"\"\n",
    "    slot_games = ['casino', 'slots', 'slot']\n",
    "    driving = ['race', 'drive', 'car', 'driving', 'parking']\n",
    "    puzzle = ['puzzle']\n",
    "    adventure = ['adventure', 'jump', 'platformer']\n",
    "    shooter = ['shoot', 'gun', 'pistol', 'sniper', 'war', 'vehicle']\n",
    "    \n",
    "    subcategories = {'slot_games': slot_games, 'driving': driving, 'puzzle': puzzle, 'adventure': adventure, 'shooter': shooter}\n",
    "    \n",
    "    print('Number of apps in 2015 in the following subcategories:\\n')\n",
    "    for category, search_terms in subcategories.items():\n",
    "        amount = len(df_2015[df_2015['description_first'].str.contains('|'.join(search_terms))])\n",
    "        \n",
    "        category = \" \"*(20-len(category)) + category\n",
    "        print(category, ': ', amount, '\\tBased on the following terms: {}'.format(', '.join(search_terms)))\n",
    "    print('          Total Apps :  {}'.format(len(df_2015)))\n",
    "        \n",
    "    print('\\nNumber of apps in 2017 in the following subcategories:\\n')\n",
    "    for category, search_terms in subcategories.items():\n",
    "        amount = len(df_2017[df_2017['description_first'].str.contains('|'.join(search_terms))])\n",
    "        \n",
    "        category = \" \"*(20-len(category)) + category\n",
    "        print(category, ': ', amount, '\\tBased on the following terms: {}'.format(', '.join(search_terms)))\n",
    "    print('          Total Apps :  {}'.format(len(df_2017)))\n",
    "\n",
    "def get_difference_rating(row1, row2):\n",
    "    \"\"\" Returns the difference in rating between first seen and last seen. \n",
    "        If both first seen and last seen have a rating of -1, then it will return 0\n",
    "        If only first seen has a rating of -1, then it will return the rating of last seen\n",
    "        In all other cases it returns the difference between last seen and first seen\n",
    "    \"\"\"\n",
    "    if row1 == -1:\n",
    "        if row1 == row2:\n",
    "            return 0\n",
    "        else:\n",
    "            return row2\n",
    "    else:\n",
    "        return row2 - row1\n",
    "    \n",
    "def return_difference_rating(df_2015, df_2017):\n",
    "    \"\"\" Calculates the difference between the rating(s) of an app when it was last seen and when it was first seen.\n",
    "        Returns two dataframes with each two extra column indicating the difference in rating(s).\n",
    "    \"\"\"\n",
    "    df_2015['difference_rating'] = df_2015.apply(lambda row: get_difference_rating(row['ratingcurrentversion_first'],\n",
    "                                                                                   row['ratingcurrentversion_last']), axis = 1)\n",
    "    df_2017['difference_rating'] = df_2017.apply(lambda row: get_difference_rating(row['ratingcurrentversion_first'],\n",
    "                                                                                   row['ratingcurrentversion_last']), axis = 1)\n",
    "    df_2015['difference_ratings'] = df_2015.apply(lambda row: get_difference_rating(row['ratingscurrentversion_first'],\n",
    "                                                                                   row['ratingscurrentversion_last']), axis = 1)\n",
    "    df_2017['difference_ratings'] = df_2017.apply(lambda row: get_difference_rating(row['ratingscurrentversion_first'],\n",
    "                                                                                   row['ratingscurrentversion_last']), axis = 1)\n",
    "    return df_2015, df_2017\n",
    "\n",
    "def get_revenue_model(row):\n",
    "    \"\"\" Returns whether an app if freemium or paid\n",
    "    \"\"\"\n",
    "    if row['price_first'] == 0:\n",
    "        return 'Freemium'\n",
    "    else:\n",
    "        return 'Paid'\n",
    "    \n",
    "def get_subcategory(row):\n",
    "    \"\"\" Get subcategory based on the amount of keywords are present in the description\n",
    "    \"\"\"\n",
    "    slot_games = ['casino', 'slots', 'slot']\n",
    "    driving = ['race', 'drive', 'car', 'driving', 'parking', 'park', 'racing', 'match 3', 'match three', 'match four', 'clues']\n",
    "    puzzle = ['puzzle', 'puzzles', 'puzzling']\n",
    "    adventure = ['adventure', 'jump', 'platformer']\n",
    "    shooter = ['shoot', 'gun', 'pistol', 'sniper', 'war', 'vehicle']\n",
    "    \n",
    "    \n",
    "    subcategories = {'slot_games': slot_games, 'driving': driving, 'puzzle': puzzle, 'adventure': adventure, 'shooter': shooter,\n",
    "                    'matching': matching}\n",
    "    count_categories = {'slot_games': 0, 'driving': 0, 'puzzle': 0, 'adventure': 0, 'shooter': 0, 'matching': 0}\n",
    "    \n",
    "    \n",
    "    description = row['description_first']\n",
    "    description = re.sub('[^a-zA-z]', ' ', description) # only keep letters\n",
    "    description = description.replace(\"\\\\\", \"\").lower() # remove backslashes and lower the text\n",
    "    description = ' '.join(description.split()) # Remove too many spaces\n",
    "    description = description.split(' ') # create a list with words\n",
    "    description = Counter(description) # Count how often a word occurs\n",
    "        \n",
    "    # Count how many times a certain keyword in one of the categories is seen in a description\n",
    "    for category in subcategories:\n",
    "        for word in subcategories[category]:\n",
    "            if word in description.keys():\n",
    "                count_categories[category] += description[word]\n",
    "    \n",
    "    # The category with the most words is returned\n",
    "    if Counter(count_categories).most_common(1)[0][1] == 0:\n",
    "        return 'Other'\n",
    "    elif Counter(count_categories).most_common(1)[0][1] == Counter(count_categories).most_common(2)[1][1]:\n",
    "        return 'Other'\n",
    "    else:\n",
    "        return Counter(count_categories).most_common(1)[0][0]  \n",
    "    \n",
    "\n",
    "def create_subcategory(row):\n",
    "    \"\"\" Get subcategory based on keywords being present in the description\n",
    "    \"\"\"\n",
    "    slot_games = ['casino', 'slots', 'slot']\n",
    "    driving = ['race', 'drive', 'car', 'driving', 'parking', 'park', 'racing']\n",
    "    puzzle = ['puzzle', 'puzzles', 'puzzling', 'match 3', 'match three', 'match four', 'clues']\n",
    "    adventure = ['adventure', 'jump', 'platformer']\n",
    "    shooter = ['shoot', 'gun', 'pistol', 'sniper', 'war', 'vehicle']\n",
    "\n",
    "    description = row['description_first']\n",
    "    description = re.sub('[^a-zA-z]', ' ', description) # only keep letters\n",
    "    description = description.replace(\"\\\\\", \"\").lower() # remove backslashes and lower the text\n",
    "    description = ' '.join(description.split()) # Remove too many spaces\n",
    "    description = description.split(' ') # create a list with words\n",
    "    \n",
    "    categories = {'slot_game': slot_games, 'driving': driving, 'puzzle':puzzle, 'adventure': adventure, 'shooter': shooter}\n",
    "    \n",
    "    for name, category in categories.items():\n",
    "        counter = 0\n",
    "        for word in category:\n",
    "            if (word in description) & (counter == 0):\n",
    "                row[name] = 1\n",
    "                counter += 1\n",
    "                break\n",
    "            else:\n",
    "                continue\n",
    "        if counter == 0:\n",
    "            row[name] = 0\n",
    "    return row\n",
    "             \n",
    "def get_ios_version(row):\n",
    "    return row['compatibility_first'].split('iOS')[1].strip().split(' ')[0].strip().split('.')[0]\n",
    "\n",
    "def get_content_rating(row):\n",
    "    \"\"\" Return the minimum age for a game\n",
    "    \"\"\"\n",
    "    rating = row['content_rating_first'].split(\" \")[0].replace('+', ' ')\n",
    "    rating = row['content_rating_first'].split('+')[0]\n",
    "    \n",
    "    try:\n",
    "        rating = int(rating)\n",
    "        return rating\n",
    "    except:\n",
    "        rating = re.sub('[^0-9]','', row['content_rating_first'])\n",
    "        \n",
    "        try:\n",
    "            if int(rating) > 20:\n",
    "                print(row['content_rating_first'])\n",
    "            return int(rating)\n",
    "        except:\n",
    "            'Error'\n",
    "\n",
    "def create_variables(df_2015, df_2017):\n",
    "    # Create early vs. late mover columns\n",
    "    df_2015['mover'] = 'early'\n",
    "    df_2017['mover'] = 'late'\n",
    "\n",
    "    # Get revenue model\n",
    "    df_2015['revenue'] = df_2015.apply(lambda row: get_revenue_model(row), axis = 1)\n",
    "    df_2017['revenue'] = df_2017.apply(lambda row: get_revenue_model(row), axis = 1)\n",
    "\n",
    "    # Get the subcategory\n",
    "    df_2015 = df_2015.apply(lambda row: create_subcategory(row), axis = 1)\n",
    "    df_2017 = df_2017.apply(lambda row: create_subcategory(row), axis = 1)\n",
    "\n",
    "    # Get optimized for ipod touch\n",
    "    df_2015['optimized_ipod_touch'] = df_2015.apply(lambda row:1 if 'ipod touch' in row['compatibility_first'].lower() \n",
    "                                                    else 0,axis=1)\n",
    "    df_2017['optimized_ipod_touch'] = df_2017.apply(lambda row:1 if 'ipod touch' in row['compatibility_first'].lower() \n",
    "                                                    else 0,axis=1)\n",
    "\n",
    "    # Get the lowest version of iOS for which the app will work\n",
    "    df_2015['ios_version'] = df_2015.apply(lambda row: get_ios_version(row), axis = 1)\n",
    "    df_2017['ios_version'] = df_2017.apply(lambda row: get_ios_version(row), axis = 1)\n",
    "\n",
    "    # content rating\n",
    "    df_2015['content_rating'] = df_2015.apply(lambda row: get_content_rating(row), axis = 1)\n",
    "    df_2017['content_rating'] = df_2017.apply(lambda row: get_content_rating(row), axis = 1)\n",
    "    \n",
    "    return df_2015, df_2017\n",
    "\n",
    "def show_correlation_matrix(df):\n",
    "    sns.set(style=\"white\")\n",
    "    corr = df.corr()\n",
    "\n",
    "    # Generate a mask for the upper triangle\n",
    "    mask = np.zeros_like(corr, dtype=np.bool)\n",
    "    mask[np.triu_indices_from(mask)] = True\n",
    "\n",
    "    # Set up the matplotlib figure\n",
    "    f, ax = plt.subplots(figsize=(11, 9))\n",
    "\n",
    "    # Generate a custom diverging colormap\n",
    "    cmap = sns.diverging_palette(220, 10, as_cmap=True)\n",
    "\n",
    "    # Draw the heatmap with the mask and correct aspect ratio\n",
    "    sns.heatmap(corr, mask=mask, cmap=cmap, vmax=.3, center=0,\n",
    "                square=True, linewidths=.5, cbar_kws={\"shrink\": .5}, annot=True, fmt=\".2f\")\n",
    "    \n",
    "def get_innovation(row):\n",
    "    # Technological Innovation (TI)\n",
    "    innovation = ['gyroscope', 'accelerometer', 'vr', 'ar', 'a.r', 'vr-', 'iamcardboard', \n",
    "                'fibrum', 'homido', 'zeiss', 'beenoculus', 'colorcross', 'airvr', 'gyrometer', 'prodji', 'advanceddji',\n",
    "                 'prodroneprix', 'onelick', 'vrarchos', 'vrdive', 'vrfreefly', 'gamepad', 'bluetooth']\n",
    "    \n",
    "    description = row['description_first']\n",
    "    description = re.sub('[^a-zA-z]', ' ', description) # only keep letters\n",
    "    description = description.replace(\"\\\\\", \" \").lower() # remove backslashes and lower the text\n",
    "    description = ' '.join(description.split()) # Remove too many spaces\n",
    "    description = description.split(' ') # create a list with words\n",
    "    \n",
    "    row['innovation'] = 0\n",
    "    for word in innovation:\n",
    "        for word_2 in description:\n",
    "            if word == word_2:\n",
    "                row['innovation'] = 1\n",
    "    \n",
    "    description = re.sub('[^a-zA-z]', ' ', row['description_first']).lower().replace('\\\\', '')\n",
    "    terms = ['augmented reality', 'virtual reality', 'motion control', 'tilt the device', 'tilting the device',\n",
    "             'google cardboard', 'vr-', 'facing camera', 'tilt your device', 'camera lens', 'tilt your head',\n",
    "             'gyro sensor', 'game pad', 'rotate lens', 'wear your glasses']\n",
    "    for term in terms:\n",
    "        if term in description:\n",
    "            row['innovation'] = 1\n",
    "    if ('vr-' in row['description_first'].lower().replace('\\\\', '')):\n",
    "        row['innovation'] = 1\n",
    "    if ('ar-' in row['description_first'].lower().replace('\\\\', '')):\n",
    "        row['innovation'] = 1\n",
    "        \n",
    "    return row"
   ]
  },
  {
   "cell_type": "markdown",
   "metadata": {},
   "source": [
    "### <a name=\"dataprep\">4. Data Preparation</a> \n",
    "[Back to Table of Contents](#table)"
   ]
  },
  {
   "cell_type": "markdown",
   "metadata": {},
   "source": [
    "The dataset app_details contain information regarding all apps in the Apple AppStore in the last 3 years. "
   ]
  },
  {
   "cell_type": "code",
   "execution_count": 2,
   "metadata": {
    "collapsed": true
   },
   "outputs": [],
   "source": [
    "df = pd.read_csv('Data set/app_details.csv', low_memory=False)"
   ]
  },
  {
   "cell_type": "markdown",
   "metadata": {},
   "source": [
    "#### <a name=\"timeslots\">4.1 Time Slots</a> \n",
    "[Back to Table of Contents](#table)\n",
    "\n",
    "I want to see the difference in performance between early and late movers after five months of being released. Therefore, four timeslots needs to be created:  \n",
    "- Apps first seen in 2015 (i.e., first_seen_2015)\n",
    "- Apps 5 months after first seen in 2015 (i.e., last_seen_2015)\n",
    "- Apps first seen in 2017 (i.e., first_seen_2017)\n",
    "- Apps 5 months after first seen in 2017 (i.e., last_seen_2017)\n",
    "\n",
    " "
   ]
  },
  {
   "cell_type": "markdown",
   "metadata": {},
   "source": [
    "Moroever, it is important that the same apps appear in first_seen_2015 and last_seen_2015. The same for 2017. Then, the datasets will be combined into df_2015 and df_2017 where each datasets contains information regarding an app when it was first seen in year 2015/2017 and 5 months laters. "
   ]
  },
  {
   "cell_type": "code",
   "execution_count": 5,
   "metadata": {},
   "outputs": [
    {
     "name": "stdout",
     "output_type": "stream",
     "text": [
      "Numer of records in First Seen 2015: \t10547\n",
      "Numer of records in Last Seen 2017: \t12958\n",
      "Numer of records in First Seen 2017: \t12958\n",
      "Numer of records in Last Seen 2015: \t10547\n"
     ]
    }
   ],
   "source": [
    "first_seen_2015, last_seen_2015, first_seen_2017, last_seen_2017 = create_4_timeslots(df)\n",
    "first_seen_2015, last_seen_2015, first_seen_2017, last_seen_2017 = create_4_equal_timeslots(first_seen_2015, last_seen_2015, \n",
    "                                                                                            first_seen_2017, last_seen_2017)\n",
    "df_2015, df_2017 = join_first_last(first_seen_2015, last_seen_2015, first_seen_2017, last_seen_2017)"
   ]
  },
  {
   "cell_type": "markdown",
   "metadata": {},
   "source": [
    "#### <a name=\"eda\">4.2 EDA</a> \n",
    "[Back to Table of Contents](#table)\n",
    "\n",
    "Although I highly recommend to do extensive exploratory data analysis before going into the modelling, I'm afraid this notebook will simply be too long so I will show only a few key aspects.   \n",
    "First, I check how many apps were optimzed for certain devices based on their release year. "
   ]
  },
  {
   "cell_type": "code",
   "execution_count": 7,
   "metadata": {},
   "outputs": [
    {
     "name": "stdout",
     "output_type": "stream",
     "text": [
      "Apps in 2015 that are optimized for the following devices (based on their release): \n",
      "\n",
      "              iphone: \t 10283 out of 10547\n",
      "                ipad: \t 10546 out of 10547\n",
      "          ipod touch: \t 10272 out of 10547\n",
      "\n",
      "Apps in 2017 that are optimized for the following devices (based on their release): \n",
      "\n",
      "              iphone: \t 12897 out of 12958\n",
      "                ipad: \t 12957 out of 12958\n",
      "          ipod touch: \t 6566 out of 12958\n",
      "\n"
     ]
    }
   ],
   "source": [
    "optimized_for(df_2015, df_2017, devices = ['iphone', 'ipad', 'ipod touch'])"
   ]
  },
  {
   "cell_type": "markdown",
   "metadata": {},
   "source": [
    "Next, how many apps had changed certain characteristics from when they were first released to 5 months later was visualized. "
   ]
  },
  {
   "cell_type": "code",
   "execution_count": 8,
   "metadata": {},
   "outputs": [
    {
     "name": "stdout",
     "output_type": "stream",
     "text": [
      "Changes in column between firstseen and lastseen of 2015:\n",
      "\n",
      "               price: \t376 of 10547\n",
      "         screenshots: \t201 of 10547\n",
      "      content_rating: \t150 of 10547\n",
      "       compatibility: \t10137 of 10547\n",
      "                size: \t1906 of 10547\n",
      "       quan_language: \t252 of 10547\n",
      "          appversion: \t2442 of 10547\n",
      "               title: \t534 of 10547\n",
      "\n",
      "Changes in column between firstseen and lastseen of 2017:\n",
      "\n",
      "               price: \t276 of 12958\n",
      "         screenshots: \t148 of 12958\n",
      "      content_rating: \t164 of 12958\n",
      "       compatibility: \t6663 of 12958\n",
      "                size: \t1592 of 12958\n",
      "       quan_language: \t116 of 12958\n",
      "          appversion: \t1956 of 12958\n",
      "               title: \t442 of 12958\n",
      "\n"
     ]
    }
   ],
   "source": [
    "df_2015, df_2017 = create_change_columns(df_2015, df_2017)\n",
    "show_changes(df_2015, df_2017)"
   ]
  },
  {
   "cell_type": "markdown",
   "metadata": {},
   "source": [
    "Finally, I checked for common words in the description of apps in order to get a feeling for which words might represent certain categories. Using those common words, initial categories were constructed within the category \"gaming\". "
   ]
  },
  {
   "cell_type": "code",
   "execution_count": 6,
   "metadata": {},
   "outputs": [
    {
     "data": {
      "text/html": [
       "<div>\n",
       "<table border=\"1\" class=\"dataframe\">\n",
       "  <thead>\n",
       "    <tr style=\"text-align: right;\">\n",
       "      <th></th>\n",
       "      <th>2015_word</th>\n",
       "      <th>2015_count</th>\n",
       "      <th>2017_word</th>\n",
       "      <th>2017_count</th>\n",
       "    </tr>\n",
       "  </thead>\n",
       "  <tbody>\n",
       "    <tr>\n",
       "      <th>0</th>\n",
       "      <td>play</td>\n",
       "      <td>9478</td>\n",
       "      <td>play</td>\n",
       "      <td>10419</td>\n",
       "    </tr>\n",
       "    <tr>\n",
       "      <th>1</th>\n",
       "      <td>fun</td>\n",
       "      <td>5750</td>\n",
       "      <td>games</td>\n",
       "      <td>7594</td>\n",
       "    </tr>\n",
       "    <tr>\n",
       "      <th>2</th>\n",
       "      <td>features</td>\n",
       "      <td>4192</td>\n",
       "      <td>fun</td>\n",
       "      <td>6914</td>\n",
       "    </tr>\n",
       "    <tr>\n",
       "      <th>3</th>\n",
       "      <td>free</td>\n",
       "      <td>4084</td>\n",
       "      <td>free</td>\n",
       "      <td>6241</td>\n",
       "    </tr>\n",
       "    <tr>\n",
       "      <th>4</th>\n",
       "      <td>time</td>\n",
       "      <td>3596</td>\n",
       "      <td>time</td>\n",
       "      <td>5306</td>\n",
       "    </tr>\n",
       "    <tr>\n",
       "      <th>5</th>\n",
       "      <td>games</td>\n",
       "      <td>3119</td>\n",
       "      <td>features</td>\n",
       "      <td>5032</td>\n",
       "    </tr>\n",
       "    <tr>\n",
       "      <th>6</th>\n",
       "      <td>new</td>\n",
       "      <td>3108</td>\n",
       "      <td>new</td>\n",
       "      <td>5024</td>\n",
       "    </tr>\n",
       "  </tbody>\n",
       "</table>\n",
       "</div>"
      ],
      "text/plain": [
       "  2015_word  2015_count 2017_word  2017_count\n",
       "0      play        9478      play       10419\n",
       "1       fun        5750     games        7594\n",
       "2  features        4192       fun        6914\n",
       "3      free        4084      free        6241\n",
       "4      time        3596      time        5306\n",
       "5     games        3119  features        5032\n",
       "6       new        3108       new        5024"
      ]
     },
     "execution_count": 6,
     "metadata": {},
     "output_type": "execute_result"
    }
   ],
   "source": [
    "common_words = create_common_words()\n",
    "common_words.head(7)"
   ]
  },
  {
   "cell_type": "code",
   "execution_count": 9,
   "metadata": {},
   "outputs": [
    {
     "name": "stdout",
     "output_type": "stream",
     "text": [
      "Number of apps in 2015 in the following subcategories:\n",
      "\n",
      "          slot_games :  1110 \tBased on the following terms: casino, slots, slot\n",
      "           adventure :  1417 \tBased on the following terms: adventure, jump, platformer\n",
      "             driving :  1922 \tBased on the following terms: race, drive, car, driving, parking\n",
      "             shooter :  1687 \tBased on the following terms: shoot, gun, pistol, sniper, war, vehicle\n",
      "              puzzle :  1196 \tBased on the following terms: puzzle\n",
      "          Total Apps :  10547\n",
      "\n",
      "Number of apps in 2017 in the following subcategories:\n",
      "\n",
      "          slot_games :  387 \tBased on the following terms: casino, slots, slot\n",
      "           adventure :  2001 \tBased on the following terms: adventure, jump, platformer\n",
      "             driving :  3552 \tBased on the following terms: race, drive, car, driving, parking\n",
      "             shooter :  3295 \tBased on the following terms: shoot, gun, pistol, sniper, war, vehicle\n",
      "              puzzle :  1822 \tBased on the following terms: puzzle\n",
      "          Total Apps :  12958\n"
     ]
    }
   ],
   "source": [
    "count_subcategories(df_2015, df_2017)"
   ]
  },
  {
   "cell_type": "markdown",
   "metadata": {},
   "source": [
    "#### <a name=\"variables\">4.3 Creating Final Variables</a> \n",
    "[Back to Table of Contents](#table)\n",
    "\n",
    "It is important to control for several variables in order to get the most accurate results. The following variables are create:\n",
    "* Innovation - Whether an app was innovative by using for example the gyrometer\n",
    "* Early vs. Late mover - Whether an app was an early or late mover (binary)\n",
    "* Revenue model - Either paid or free model\n",
    "* Subcategory - Which subcategory an app belongs to within the category \"gaming\"\n",
    "* Ipod touch - Whether an app was optimized for the Ipod touch\n",
    "* Ios version\n",
    "* Content rating - The number of ratings for an app\n",
    "\n",
    "The resulting columns are shown at the end. "
   ]
  },
  {
   "cell_type": "code",
   "execution_count": 11,
   "metadata": {
    "collapsed": true
   },
   "outputs": [],
   "source": [
    "df_2015, df_2017 = create_variables(df_2015, df_2017)\n",
    "df_2015 = df_2015.apply(lambda row: get_innovation(row), axis = 1)\n",
    "df_2017 = df_2017.apply(lambda row: get_innovation(row), axis = 1)\n",
    "final_2015 = df_2015[['mover', 'revenue', 'change_appversion', 'driving', 'adventure', 'puzzle', 'shooter', 'slot_game', \n",
    "                      'optimized_ipod_touch', 'ios_version', 'apps_released', 'content_rating', 'screenshots_last',\n",
    "                      'quan_description_first', 'size_first', 'quan_language_first', 'quan_moreapps_first', 'innovation',\n",
    "                      'ratings_last']]\n",
    "final_2017 = df_2017[['mover', 'revenue', 'change_appversion', 'driving', 'adventure', 'puzzle', 'shooter', 'slot_game', \n",
    "                      'optimized_ipod_touch', 'ios_version', 'apps_released', 'content_rating', 'screenshots_last',\n",
    "                      'quan_description_first', 'size_first', 'quan_language_first', 'quan_moreapps_first', 'innovation',\n",
    "                      'ratings_last']]\n",
    "result = final_2015.append(final_2017)\n",
    "\n",
    "result['bin_target'] = result.apply(lambda row: 0 if row['ratings_last'] == 0 else 1, axis = 1)\n",
    "result['content_rating'] = result.apply(lambda row: '> ' + str(row['content_rating']), axis = 1)"
   ]
  },
  {
   "cell_type": "code",
   "execution_count": 16,
   "metadata": {},
   "outputs": [
    {
     "data": {
      "text/plain": [
       "Index(['mover', 'revenue', 'change_appversion', 'driving', 'adventure',\n",
       "       'puzzle', 'shooter', 'slot_game', 'optimized_ipod_touch', 'ios_version',\n",
       "       'apps_released', 'content_rating', 'screenshots_last',\n",
       "       'quan_description_first', 'size_first', 'quan_language_first',\n",
       "       'quan_moreapps_first', 'innovation', 'ratings_last', 'bin_target'],\n",
       "      dtype='object')"
      ]
     },
     "execution_count": 16,
     "metadata": {},
     "output_type": "execute_result"
    }
   ],
   "source": [
    "result.columns"
   ]
  },
  {
   "cell_type": "markdown",
   "metadata": {},
   "source": [
    "#### <a name=\"correlation\">4.4 Correlation Matrix</a> \n",
    "[Back to Table of Contents](#table)\n",
    "\n",
    "A correlation matrix is shown for most of the variables in the upcoming model to get a feeling for the relationship between the variables. "
   ]
  },
  {
   "cell_type": "code",
   "execution_count": 18,
   "metadata": {},
   "outputs": [
    {
     "data": {
      "image/png": "[encoded data removed]",
      "text/plain": [
       "<matplotlib.figure.Figure at 0x22d01fe2278>"
      ]
     },
     "metadata": {},
     "output_type": "display_data"
    }
   ],
   "source": [
    "corr_df = result.copy()\n",
    "corr_df['mover'] = pd.Categorical(corr_df['mover']).codes\n",
    "corr_df['revenue'] = pd.Categorical(corr_df['revenue']).codes\n",
    "show_correlation_matrix(corr_df)"
   ]
  },
  {
   "cell_type": "markdown",
   "metadata": {},
   "source": [
    "### <a name=\"selectingmodel\">5 Selecting Statistical Model</a> \n",
    "[Back to Table of Contents](#table)\n",
    "\n",
    "\n",
    "The target that we are considering is the number of ratings for a particular app. This target can therefore been seen as a count variable. \n",
    "\n",
    "For count variables there are often two types of models that can be used; a Poisson model or a Negative Binomial model. Let's start with the Poisson model. \n",
    "\n",
    "The Poisson model assumes equidispersion which means that the conditional mean should be equal to the conditional variance. If the variance is higher than the mean than we can say that the dependent variable is overdispersed (Burger, Van Oort, & Linders, 2009). This is often a problem seeing as in many cases in the real word the variance is much higher than the mean (Atkins, Baldwin, Zheng, Gallop, & Neighbors, 2013). If we take our data set and extract the variance and mean we can clearly see that the ratio of variance to the mean (dispersion parameter) exceeds 1 (equidispersion). "
   ]
  },
  {
   "cell_type": "code",
   "execution_count": 19,
   "metadata": {},
   "outputs": [
    {
     "name": "stdout",
     "output_type": "stream",
     "text": [
      "The Poisson model has strict assumptions. One that is often violated is that the mean equals the variance:\n",
      "Variance: \t\t  6792110\n",
      "Mean:\t\t\t  54\n",
      "Dispersion parameter:\t  125780\n"
     ]
    }
   ],
   "source": [
    "# Checking for dispersion\n",
    "variance = round(np.var(result['ratings_last']))\n",
    "mean = int(result['ratings_last'].describe()['mean'])\n",
    "print('The Poisson model has strict assumptions. One that is often violated is that the mean equals the variance:')\n",
    "print('Variance: \\t\\t  {}'.format(variance))\n",
    "print('Mean:\\t\\t\\t  {}'.format(mean))\n",
    "print('Dispersion parameter:\\t  {}'.format(round(variance/mean)))"
   ]
  },
  {
   "cell_type": "code",
   "execution_count": 20,
   "metadata": {
    "collapsed": true
   },
   "outputs": [],
   "source": [
    "%%R -i result\n",
    "model <- glm(ratings_last ~ mover * revenue, data=result, family=quasipoisson)\n",
    "dispersion <- capture.output({summary(model)})"
   ]
  },
  {
   "cell_type": "code",
   "execution_count": 21,
   "metadata": {},
   "outputs": [
    {
     "name": "stdout",
     "output_type": "stream",
     "text": [
      "\n",
      "(Dispersion parameter for quasipoisson family taken to be 108013.3)\n",
      "\n"
     ]
    }
   ],
   "source": [
    "dispersion = %R dispersion\n",
    "for line in dispersion[17:-6]:\n",
    "    print(line)"
   ]
  },
  {
   "cell_type": "markdown",
   "metadata": {},
   "source": [
    "We can clearly see that the mean doesn't equal the variance and that the dispersion is high. Thus, we need a different model that allows for failing this assumption. The Poisson model can be extended by a more general model which is the negative binomial model. This model allows the mean and varuance to be different. Basically, if the mean and variance were to be the same then Poisson and Negative Binomial would give the same results. However, seeing as that isn't the case, we are going forward with the negative binomial model. \n",
    "\n",
    "Although we now have chosen the correct model there's still the issue of a high number of zeros. You can see below that the number of zeros in the dataset is 7.56 times the number of non-zeros. "
   ]
  },
  {
   "cell_type": "code",
   "execution_count": 22,
   "metadata": {},
   "outputs": [
    {
     "name": "stdout",
     "output_type": "stream",
     "text": [
      "Number of zero ratings: \t\t\t20758\n",
      "Number of not zero ratings: \t\t\t2747\n",
      "Number of zero ratings compared to non-zero: \t7.56\n"
     ]
    }
   ],
   "source": [
    "zero = result['ratings_last'][result['ratings_last']==0].count()\n",
    "not_zero = result['ratings_last'][result['ratings_last']!=0].count()\n",
    "print('Number of zero ratings: \\t\\t\\t{}'.format(zero))\n",
    "print('Number of not zero ratings: \\t\\t\\t{}'.format(not_zero))\n",
    "print('Number of zero ratings compared to non-zero: \\t{}'.format(round(float(zero/not_zero), 2)))"
   ]
  },
  {
   "cell_type": "code",
   "execution_count": 23,
   "metadata": {},
   "outputs": [
    {
     "data": {
      "image/png": "[encoded data removed]",
      "text/plain": [
       "<matplotlib.figure.Figure at 0x22d02eb76d8>"
      ]
     },
     "metadata": {},
     "output_type": "display_data"
    },
    {
     "data": {
      "image/png": "[encoded data removed]",
      "text/plain": [
       "<matplotlib.figure.Figure at 0x22d02eb75f8>"
      ]
     },
     "metadata": {},
     "output_type": "display_data"
    }
   ],
   "source": [
    "# Plot zoomed out\n",
    "temp = pd.DataFrame(result['ratings_last'].value_counts())\n",
    "temp = temp.reset_index()\n",
    "\n",
    "plt.title('Count of the number of ratings')\n",
    "plt.plot(temp['index'],temp['ratings_last'], 'ro')\n",
    "plt.show()\n",
    "\n",
    "# Plot zoomed in \n",
    "temp = pd.DataFrame(result['ratings_last'][(result['ratings_last'] != 0)].value_counts()).reset_index()\n",
    "temp = temp[temp['index'] < 100]\n",
    "\n",
    "plt.title('Count of the number of ratings')\n",
    "plt.plot(temp['index'], temp['ratings_last'], 'ro')\n",
    "plt.show()"
   ]
  },
  {
   "cell_type": "markdown",
   "metadata": {},
   "source": [
    "Appearantly, we're now dealing with a large inflation of the number of zeros seeing as there is a clear stack of zeros in the data (Atkins et al., 2013). Thus, we need to look at zero-inflated models (Greene, 1994) or hurdle models that account for the number of zeros in the data.  \n",
    "\n",
    "Both hurdle and zero-inflated models account for a large number of zeros, but both do this in a different manner. Hurdle models basically split the data in two parts: zeros and non-zeros. Then a model is used for zero vs. non-zero and a model is used for non-zero values. The interpretability of hurdle models are easier since it generalizes the problem to a zero vs. non-zero logistical model and the remaining non-zeros can be regressed using (I think) a zero-truncated model. Since we don't have repeated observation there is no correlation within individual apps and we don't have to look at mixed models. \n",
    "\n",
    "Moreover, the zero-inflated binomial regression measures two processes and in our case the zeros might come from the fact that a person downloaded the app and didn't like it enough to leave a rating or that a person didn't downloaded the app and therefore couldn't leave a rating. --> This is debatable and why I prefer to do the Hurdle Model. \n",
    "\n"
   ]
  },
  {
   "cell_type": "markdown",
   "metadata": {},
   "source": [
    "#### <a name=\"revenue\">6. Statistical Analysis - Revenue Model</a> \n",
    "[Back to Table of Contents](#table)\n",
    "\n",
    "\n",
    "Dependent Variable:  \n",
    "        - Number of Ratings\n",
    "Independent Variables:\n",
    "        - Mover (Early vs. Late)\n",
    "        - Revenue (Paid vs. Freemium)\n",
    "        - Technological Innovation (Yes vs. No)\n"
   ]
  },
  {
   "cell_type": "markdown",
   "metadata": {},
   "source": [
    "#### <a name=\"revenuemain\">6.1 Main Effects</a> \n",
    "[Back to Table of Contents](#table)\n"
   ]
  },
  {
   "cell_type": "code",
   "execution_count": 24,
   "metadata": {
    "collapsed": true
   },
   "outputs": [],
   "source": [
    "%%R -i result\n",
    "library(pscl)\n",
    "library(MASS)\n",
    "\n",
    "\n",
    "# Create and execute hurdle model\n",
    "modelHurdle <- hurdle(formula = ratings_last ~ driving + adventure + puzzle + shooter + slot_game + content_rating +\n",
    "                      quan_description_first + size_first + quan_language_first + quan_moreapps_first +                      \n",
    "                      revenue + mover,\n",
    "                      dist    = \"negbin\",\n",
    "                      data    = result)\n",
    "\n",
    "output <- capture.output({summary(modelHurdle)})"
   ]
  },
  {
   "cell_type": "code",
   "execution_count": 25,
   "metadata": {},
   "outputs": [
    {
     "name": "stdout",
     "output_type": "stream",
     "text": [
      "hurdle(formula = ratings_last ~ driving + adventure + puzzle + shooter + \n",
      "    slot_game + content_rating + quan_description_first + size_first + \n",
      "    quan_language_first + quan_moreapps_first + revenue + mover, data = result, \n",
      "    dist = \"negbin\")\n",
      "\n",
      "Pearson residuals:\n",
      "      Min        1Q    Median        3Q       Max \n",
      " -0.47362  -0.14464  -0.11666  -0.09045 184.11382 \n",
      "\n",
      "Count model coefficients (truncated negbin with log link):\n",
      "                         Estimate Std. Error z value Pr(>|z|)    \n",
      "(Intercept)             2.963e+00  3.760e-01   7.879 3.29e-15 ***\n",
      "driving                 3.292e-01  1.895e-01   1.737 0.082301 .  \n",
      "adventure              -3.737e-01  1.589e-01  -2.351 0.018715 *  \n",
      "puzzle                 -3.282e-01  1.441e-01  -2.277 0.022788 *  \n",
      "shooter                -2.936e-01  2.057e-01  -1.427 0.153520    \n",
      "slot_game              -2.807e+00  2.264e-01 -12.398  < 2e-16 ***\n",
      "content_rating> 17      7.079e-01  3.395e-01   2.085 0.037037 *  \n",
      "content_rating> 4      -8.673e-01  1.861e-01  -4.659 3.17e-06 ***\n",
      "content_rating> 9      -7.763e-01  2.282e-01  -3.402 0.000668 ***\n",
      "quan_description_first  1.237e-03  6.859e-05  18.031  < 2e-16 ***\n",
      "size_first             -4.471e-04  2.749e-04  -1.626 0.103846    \n",
      "quan_language_first     1.322e-01  1.462e-02   9.042  < 2e-16 ***\n",
      "quan_moreapps_first     2.640e-02  3.005e-02   0.878 0.379680    \n",
      "revenuePaid            -5.046e-01  1.859e-01  -2.715 0.006637 ** \n",
      "moverlate               4.405e-01  1.240e-01   3.553 0.000380 ***\n",
      "Log(theta)             -3.544e+00  3.351e-01 -10.576  < 2e-16 ***\n",
      "Zero hurdle model coefficients (binomial with logit link):\n",
      "                         Estimate Std. Error z value Pr(>|z|)    \n",
      "(Intercept)            -1.166e+00  8.408e-02 -13.868  < 2e-16 ***\n",
      "driving                -2.192e-01  7.264e-02  -3.018  0.00254 ** \n",
      "adventure               8.976e-02  5.891e-02   1.524  0.12758    \n",
      "puzzle                  4.775e-01  5.767e-02   8.281  < 2e-16 ***\n",
      "shooter                 5.568e-02  7.693e-02   0.724  0.46919    \n",
      "slot_game              -2.536e-01  9.611e-02  -2.639  0.00832 ** \n",
      "content_rating> 17     -8.471e-01  1.197e-01  -7.075 1.49e-12 ***\n",
      "content_rating> 4      -4.767e-01  7.082e-02  -6.731 1.68e-11 ***\n",
      "content_rating> 9       8.451e-02  9.128e-02   0.926  0.35457    \n",
      "quan_description_first  2.749e-04  3.169e-05   8.674  < 2e-16 ***\n",
      "size_first              3.335e-03  2.058e-04  16.205  < 2e-16 ***\n",
      "quan_language_first     1.607e-02  3.385e-03   4.746 2.07e-06 ***\n",
      "quan_moreapps_first    -1.436e-01  1.100e-02 -13.053  < 2e-16 ***\n",
      "revenuePaid            -7.992e-01  7.006e-02 -11.408  < 2e-16 ***\n",
      "moverlate              -8.652e-01  4.692e-02 -18.440  < 2e-16 ***\n",
      "---\n",
      "Signif. codes:  0 '***' 0.001 '**' 0.01 '*' 0.05 '.' 0.1 ' ' 1 \n",
      "\n",
      "Theta: count = 0.0289\n",
      "Number of iterations in BFGS optimization: 87 \n",
      " \n"
     ]
    }
   ],
   "source": [
    "# Print results\n",
    "output = %R output\n",
    "\n",
    "for line in output[2:-1]:\n",
    "    print(line)\n",
    "\n",
    "print(' ')"
   ]
  },
  {
   "cell_type": "markdown",
   "metadata": {},
   "source": [
    "#### <a name=\"revenueinteraction\">6.2 Interaction Effects</a> \n",
    "[Back to Table of Contents](#table)"
   ]
  },
  {
   "cell_type": "code",
   "execution_count": 26,
   "metadata": {
    "collapsed": true
   },
   "outputs": [],
   "source": [
    "%%R -i result\n",
    "library(ggplot2)\n",
    "library(pscl)\n",
    "library(MASS)\n",
    "library(boot)\n",
    "library(glmmADMB)\n",
    "library(pscl)\n",
    "\n",
    "# Create and execute hurdle model\n",
    "modelHurdle <- hurdle(formula = ratings_last ~ driving + adventure + puzzle + shooter + slot_game + content_rating +\n",
    "                      quan_description_first + size_first + quan_language_first + quan_moreapps_first +                      \n",
    "                      revenue * mover,\n",
    "                      dist    = \"negbin\",\n",
    "                      data    = result)\n",
    "\n",
    "# Comparing with ZINB\n",
    "zinb <- zeroinfl(ratings_last ~ driving + adventure + puzzle + shooter + slot_game + content_rating +\n",
    "                      quan_description_first + size_first + quan_language_first + quan_moreapps_first +                      \n",
    "                      revenue * mover,\n",
    "  data = result, dist = \"negbin\")\n",
    "aic <- AIC(modelHurdle, zinb)\n",
    "\n",
    "output <- capture.output({summary(modelHurdle)})\n",
    "aic <- capture.output({aic})"
   ]
  },
  {
   "cell_type": "code",
   "execution_count": 27,
   "metadata": {},
   "outputs": [
    {
     "name": "stdout",
     "output_type": "stream",
     "text": [
      "            df      AIC\n",
      "modelHurdle 33 45436.65\n",
      "zinb        33 45398.22\n",
      "\n"
     ]
    }
   ],
   "source": [
    "aic = %R aic\n",
    "\n",
    "for line in aic:\n",
    "    print(line)\n",
    "print('')"
   ]
  },
  {
   "cell_type": "code",
   "execution_count": 28,
   "metadata": {},
   "outputs": [
    {
     "name": "stdout",
     "output_type": "stream",
     "text": [
      "hurdle(formula = ratings_last ~ driving + adventure + puzzle + shooter + \n",
      "    slot_game + content_rating + quan_description_first + size_first + \n",
      "    quan_language_first + quan_moreapps_first + revenue * mover, data = result, \n",
      "    dist = \"negbin\")\n",
      "\n",
      "Pearson residuals:\n",
      "      Min        1Q    Median        3Q       Max \n",
      " -0.53139  -0.14540  -0.11745  -0.09123 174.53878 \n",
      "\n",
      "Count model coefficients (truncated negbin with log link):\n",
      "                         Estimate Std. Error z value Pr(>|z|)    \n",
      "(Intercept)             2.891e+00  3.521e-01   8.211  < 2e-16 ***\n",
      "driving                 3.360e-01  1.868e-01   1.799 0.072065 .  \n",
      "adventure              -4.554e-01  1.572e-01  -2.898 0.003758 ** \n",
      "puzzle                 -3.292e-01  1.418e-01  -2.321 0.020301 *  \n",
      "shooter                -2.475e-01  2.038e-01  -1.214 0.224704    \n",
      "slot_game              -2.739e+00  2.216e-01 -12.359  < 2e-16 ***\n",
      "content_rating> 17      5.706e-01  3.333e-01   1.712 0.086897 .  \n",
      "content_rating> 4      -7.838e-01  1.825e-01  -4.295 1.74e-05 ***\n",
      "content_rating> 9      -7.609e-01  2.227e-01  -3.417 0.000632 ***\n",
      "quan_description_first  1.267e-03  6.772e-05  18.708  < 2e-16 ***\n",
      "size_first             -2.315e-04  2.308e-04  -1.003 0.315810    \n",
      "quan_language_first     1.312e-01  1.455e-02   9.019  < 2e-16 ***\n",
      "quan_moreapps_first     3.037e-02  2.937e-02   1.034 0.301012    \n",
      "revenuePaid            -1.360e-01  2.167e-01  -0.628 0.530272    \n",
      "moverlate               5.305e-01  1.245e-01   4.262 2.03e-05 ***\n",
      "revenuePaid:moverlate  -1.895e+00  3.796e-01  -4.992 5.96e-07 ***\n",
      "Log(theta)             -3.452e+00  3.068e-01 -11.252  < 2e-16 ***\n",
      "Zero hurdle model coefficients (binomial with logit link):\n",
      "                         Estimate Std. Error z value Pr(>|z|)    \n",
      "(Intercept)            -1.175e+00  8.433e-02 -13.929  < 2e-16 ***\n",
      "driving                -2.179e-01  7.264e-02  -2.999  0.00270 ** \n",
      "adventure               8.778e-02  5.892e-02   1.490  0.13631    \n",
      "puzzle                  4.774e-01  5.766e-02   8.280  < 2e-16 ***\n",
      "shooter                 5.616e-02  7.694e-02   0.730  0.46541    \n",
      "slot_game              -2.492e-01  9.615e-02  -2.592  0.00954 ** \n",
      "content_rating> 17     -8.483e-01  1.198e-01  -7.084 1.40e-12 ***\n",
      "content_rating> 4      -4.778e-01  7.084e-02  -6.745 1.53e-11 ***\n",
      "content_rating> 9       8.121e-02  9.131e-02   0.889  0.37379    \n",
      "quan_description_first  2.743e-04  3.172e-05   8.646  < 2e-16 ***\n",
      "size_first              3.348e-03  2.062e-04  16.238  < 2e-16 ***\n",
      "quan_language_first     1.620e-02  3.390e-03   4.779 1.77e-06 ***\n",
      "quan_moreapps_first    -1.438e-01  1.100e-02 -13.071  < 2e-16 ***\n",
      "revenuePaid            -7.276e-01  8.344e-02  -8.720  < 2e-16 ***\n",
      "moverlate              -8.451e-01  4.873e-02 -17.342  < 2e-16 ***\n",
      "revenuePaid:moverlate  -2.293e-01  1.520e-01  -1.509  0.13131    \n",
      "---\n",
      "Signif. codes:  0 '***' 0.001 '**' 0.01 '*' 0.05 '.' 0.1 ' ' 1 \n",
      "\n",
      "Theta: count = 0.0317\n",
      "Number of iterations in BFGS optimization: 66 \n",
      " \n"
     ]
    }
   ],
   "source": [
    "# Print results\n",
    "output = %R output\n",
    "\n",
    "for line in output[2:-1]:\n",
    "    print(line)\n",
    "\n",
    "print(' ')"
   ]
  },
  {
   "cell_type": "code",
   "execution_count": 29,
   "metadata": {},
   "outputs": [
    {
     "name": "stdout",
     "output_type": "stream",
     "text": [
      "N: 324\n",
      "Mean: 7.074074074074074\n",
      "Std: 56.139877725697545\n",
      "\n"
     ]
    }
   ],
   "source": [
    "print('N: {}'.format(len(result[(result['mover']=='late') & (result['innovation'] ==1)])))\n",
    "print('Mean: {}'.format(result[(result['mover']=='late')& (result['innovation'] ==1)].ratings_last.mean()))\n",
    "print('Std: {}\\n'.format(np.std(result[(result['mover']=='late')& (result['innovation'] ==1)].ratings_last)))"
   ]
  },
  {
   "cell_type": "markdown",
   "metadata": {},
   "source": [
    "#### <a name=\"revenuetruncated\">6.3 Truncated Model</a> \n",
    "[Back to Table of Contents](#table)"
   ]
  },
  {
   "cell_type": "code",
   "execution_count": 30,
   "metadata": {
    "collapsed": true
   },
   "outputs": [],
   "source": [
    "to_plot = result[result['ratings_last']>0].groupby(by=['mover', 'revenue']).mean().reset_index()\n",
    "to_plot['revenue_new'] = to_plot.apply(lambda row: 0 if row['revenue'] == 'Paid' else 1, axis = 1)"
   ]
  },
  {
   "cell_type": "code",
   "execution_count": 31,
   "metadata": {},
   "outputs": [
    {
     "data": {
      "image/png": "[encoded data removed]"
     },
     "metadata": {},
     "output_type": "display_data"
    }
   ],
   "source": [
    "%%R -i to_plot -w 500 -h 300\n",
    "library(ggplot2)\n",
    "\n",
    "ggplot(to_plot, aes(x = revenue_new, y = ratings_last, group = mover, linetype = mover)) + geom_line(size =1) + geom_point(size = 4) +\n",
    "theme_bw() + \n",
    "    theme(panel.border = element_blank(), \n",
    "          panel.grid.major = element_blank(),\n",
    "          panel.grid.minor = element_blank(), \n",
    "          axis.line = element_line(colour = \"black\", size = 1, linetype = \"solid\"),\n",
    "          text = element_text(size=12),\n",
    "          plot.title = element_text(hjust = 0.5)) +\n",
    "    labs(x = 'Revenue Model', \n",
    "         y =\"Mean Ratings\",\n",
    "         title = \"Interaction between Order of Entry on Revenue\",\n",
    "        color = 'Order of Entry') + \n",
    "        scale_x_continuous(breaks = round(seq(min(to_plot$revenue_new), max(to_plot$revenue_new), by = 1),1), \n",
    "                           expand = c(0.2, 0.2), labels = c('Paid', 'Free'))"
   ]
  },
  {
   "cell_type": "markdown",
   "metadata": {},
   "source": [
    "#### <a name=\"revenuelogistical\">6.4 Logistical Model</a> \n",
    "[Back to Table of Contents](#table)"
   ]
  },
  {
   "cell_type": "code",
   "execution_count": 32,
   "metadata": {
    "collapsed": true
   },
   "outputs": [],
   "source": [
    "to_plot = result.groupby(by=['mover', 'revenue']).mean().reset_index()\n",
    "to_plot['revenue_new'] = to_plot.apply(lambda row: 0 if row['revenue'] == 'Paid' else 1, axis = 1)"
   ]
  },
  {
   "cell_type": "code",
   "execution_count": 33,
   "metadata": {},
   "outputs": [
    {
     "data": {
      "image/png": "[encoded data removed]"
     },
     "metadata": {},
     "output_type": "display_data"
    }
   ],
   "source": [
    "%%R -i to_plot -w 500 -h 300\n",
    "library(ggplot2)\n",
    "\n",
    "ggplot(to_plot, aes(x = revenue_new, y = bin_target ,group = mover, linetype = mover)) + geom_line(size =1) + geom_point(size = 4) +\n",
    "theme_bw() + \n",
    "    theme(panel.border = element_blank(), \n",
    "          panel.grid.major = element_blank(),\n",
    "          panel.grid.minor = element_blank(), \n",
    "          axis.line = element_line(colour = \"black\", size = 1, linetype = \"solid\"),\n",
    "          text = element_text(size=12),\n",
    "          plot.title = element_text(hjust = 0.5)) +\n",
    "    labs(x = 'Revenue Model', \n",
    "         y =\"Chance of Rating\",\n",
    "         title = \"Chance of leaving a Rating between Order of Entry and Revenue\",\n",
    "        color = 'Order of Entry') + \n",
    "        scale_x_continuous(breaks = round(seq(min(to_plot$revenue_new), max(to_plot$revenue_new), by = 1),1), \n",
    "                           expand = c(0.2, 0.2), labels = c('Paid', 'Free'))"
   ]
  },
  {
   "cell_type": "markdown",
   "metadata": {},
   "source": [
    "#### <a name=\"revenueresults\">6.5 Results</a> \n",
    "[Back to Table of Contents](#table)\n",
    "\n",
    "Seeing as there are 2 models used in the hurdle model we interpret the results seperately.  \n",
    "  \n",
    "**Logistical model**  \n",
    "The chance of an user leaving a rating for late movers is significantly lower than that for early movers.   \n",
    "In other words, users of late apps are 0.57 times less likely to leave a rating compared to early movers.   \n",
    "  \n",
    "The chance of an user leaving a rating for paid apps is significantly lower than that of users of free apps.   \n",
    "In other words, users of paid apps are 0.56 times less likely to leave a rating compared to free apps.   \n",
    "  \n",
    "These was no interaction effect of revenue on mover.   \n",
    "  \n",
    "**Truncated negative binomial model**  \n",
    "Later movers have significantly more ratings than early movers.  \n",
    "Free apps get significantly more ratings than paid apps.   \n",
    "  \n",
    "Late movers have a higher number of ratings than early movers when it concerns free apps.  \n",
    "This is reversed for paid apps, late movers get lower number of ratings than early movers.   \n",
    "Thus, late movers have a higher number of ratings than early movers. This effect is reversed if it concerns paid apps and is strengthened if it concerns free apps.   \n"
   ]
  },
  {
   "cell_type": "markdown",
   "metadata": {},
   "source": [
    "### <a name=\"ti\">7. Statistical Analysis - Technological Innovation</a> \n",
    "[Back to Table of Contents](#table)"
   ]
  },
  {
   "cell_type": "markdown",
   "metadata": {},
   "source": [
    "#### <a name=\"timain\">7.1 Main Effects</a> \n",
    "[Back to Table of Contents](#table)"
   ]
  },
  {
   "cell_type": "code",
   "execution_count": 34,
   "metadata": {
    "collapsed": true
   },
   "outputs": [],
   "source": [
    "%%R -i result\n",
    "library(pscl)\n",
    "\n",
    "\n",
    "# Create and execute hurdle model\n",
    "modelHurdle <- hurdle(formula = ratings_last ~ driving + adventure + puzzle + shooter + slot_game + content_rating +\n",
    "                      quan_description_first + size_first + quan_language_first + quan_moreapps_first +                      \n",
    "                      innovation + mover,\n",
    "                      dist    = \"negbin\",\n",
    "                      data    = result)\n",
    "\n",
    "# Export output\n",
    "output <- capture.output({summary(modelHurdle)})"
   ]
  },
  {
   "cell_type": "code",
   "execution_count": 35,
   "metadata": {},
   "outputs": [
    {
     "name": "stdout",
     "output_type": "stream",
     "text": [
      "hurdle(formula = ratings_last ~ driving + adventure + puzzle + shooter + \n",
      "    slot_game + content_rating + quan_description_first + size_first + \n",
      "    quan_language_first + quan_moreapps_first + innovation + mover, data = result, \n",
      "    dist = \"negbin\")\n",
      "\n",
      "Pearson residuals:\n",
      "      Min        1Q    Median        3Q       Max \n",
      " -0.45575  -0.14605  -0.12021  -0.09072 182.22818 \n",
      "\n",
      "Count model coefficients (truncated negbin with log link):\n",
      "                         Estimate Std. Error z value Pr(>|z|)    \n",
      "(Intercept)             2.828e+00  3.879e-01   7.289 3.13e-13 ***\n",
      "driving                 3.237e-01  1.896e-01   1.707 0.087748 .  \n",
      "adventure              -4.380e-01  1.562e-01  -2.804 0.005055 ** \n",
      "puzzle                 -3.120e-01  1.450e-01  -2.152 0.031362 *  \n",
      "shooter                -2.758e-01  2.207e-01  -1.250 0.211404    \n",
      "slot_game              -2.744e+00  2.307e-01 -11.894  < 2e-16 ***\n",
      "content_rating> 17      6.439e-01  3.507e-01   1.836 0.066307 .  \n",
      "content_rating> 4      -8.208e-01  1.935e-01  -4.241 2.22e-05 ***\n",
      "content_rating> 9      -8.058e-01  2.357e-01  -3.419 0.000629 ***\n",
      "quan_description_first  1.239e-03  6.898e-05  17.959  < 2e-16 ***\n",
      "size_first             -4.578e-04  3.178e-04  -1.441 0.149708    \n",
      "quan_language_first     1.339e-01  1.459e-02   9.180  < 2e-16 ***\n",
      "quan_moreapps_first     2.638e-02  3.013e-02   0.876 0.381296    \n",
      "innovation              1.534e-01  4.270e-01   0.359 0.719508    \n",
      "moverlate               4.848e-01  1.222e-01   3.969 7.22e-05 ***\n",
      "Log(theta)             -3.590e+00  3.500e-01 -10.258  < 2e-16 ***\n",
      "Zero hurdle model coefficients (binomial with logit link):\n",
      "                         Estimate Std. Error z value Pr(>|z|)    \n",
      "(Intercept)            -1.2691755  0.0833304 -15.231  < 2e-16 ***\n",
      "driving                -0.2178318  0.0723816  -3.009  0.00262 ** \n",
      "adventure               0.0625239  0.0587637   1.064  0.28733    \n",
      "puzzle                  0.4684511  0.0574275   8.157 3.43e-16 ***\n",
      "shooter                 0.0643777  0.0766466   0.840  0.40095    \n",
      "slot_game              -0.1466874  0.0952278  -1.540  0.12347    \n",
      "content_rating> 17     -0.8343618  0.1190163  -7.010 2.37e-12 ***\n",
      "content_rating> 4      -0.4701231  0.0703561  -6.682 2.36e-11 ***\n",
      "content_rating> 9       0.0586664  0.0906547   0.647  0.51754    \n",
      "quan_description_first  0.0002562  0.0000314   8.161 3.33e-16 ***\n",
      "size_first              0.0031877  0.0002035  15.667  < 2e-16 ***\n",
      "quan_language_first     0.0165873  0.0033576   4.940 7.80e-07 ***\n",
      "quan_moreapps_first    -0.1477630  0.0109449 -13.501  < 2e-16 ***\n",
      "innovation             -0.2483321  0.1421415  -1.747  0.08062 .  \n",
      "moverlate              -0.7842620  0.0461380 -16.998  < 2e-16 ***\n",
      "---\n",
      "Signif. codes:  0 '***' 0.001 '**' 0.01 '*' 0.05 '.' 0.1 ' ' 1 \n",
      "\n",
      "Theta: count = 0.0276\n",
      "Number of iterations in BFGS optimization: 55 \n",
      " \n"
     ]
    }
   ],
   "source": [
    "# Print results\n",
    "output = %R output\n",
    "\n",
    "for line in output[2:-1]:\n",
    "    print(line)\n",
    "\n",
    "print(' ')"
   ]
  },
  {
   "cell_type": "markdown",
   "metadata": {},
   "source": [
    "#### <a name=\"tiinteraction\">7.2 Interaction Effects</a> \n",
    "[Back to Table of Contents](#table)"
   ]
  },
  {
   "cell_type": "code",
   "execution_count": 37,
   "metadata": {
    "collapsed": true
   },
   "outputs": [],
   "source": [
    "%%R -i result\n",
    "library(ggplot2)\n",
    "library(pscl)\n",
    "library(MASS)\n",
    "library(boot)\n",
    "library(glmmADMB)\n",
    "library(pscl)\n",
    "\n",
    "# Create and execute hurdle model\n",
    "modelHurdle <- hurdle(formula = ratings_last ~ driving + adventure + puzzle + shooter + slot_game + content_rating +\n",
    "                      quan_description_first + size_first + quan_language_first + quan_moreapps_first +                      \n",
    "                      innovation * mover,\n",
    "                      dist    = \"negbin\",\n",
    "                      data    = result)\n",
    "\n",
    "# Comparing with ZINB\n",
    "zinb <- zeroinfl(ratings_last ~ driving + adventure + puzzle + shooter + slot_game + content_rating +\n",
    "                      quan_description_first + size_first + quan_language_first + quan_moreapps_first +                      \n",
    "                      innovation * mover,\n",
    "  data = result, dist = \"negbin\")\n",
    "aic <- AIC(modelHurdle, zinb)\n",
    "\n",
    "# Export output\n",
    "output <- capture.output({summary(modelHurdle)})\n",
    "aic <- capture.output({aic})"
   ]
  },
  {
   "cell_type": "code",
   "execution_count": 38,
   "metadata": {},
   "outputs": [
    {
     "name": "stdout",
     "output_type": "stream",
     "text": [
      "            df      AIC\n",
      "modelHurdle 33 45599.24\n",
      "zinb        33 45577.37\n",
      "\n"
     ]
    }
   ],
   "source": [
    "aic = %R aic\n",
    "\n",
    "for line in aic:\n",
    "    print(line)\n",
    "print('')\n"
   ]
  },
  {
   "cell_type": "code",
   "execution_count": 39,
   "metadata": {},
   "outputs": [
    {
     "name": "stdout",
     "output_type": "stream",
     "text": [
      "hurdle(formula = ratings_last ~ driving + adventure + puzzle + shooter + \n",
      "    slot_game + content_rating + quan_description_first + size_first + \n",
      "    quan_language_first + quan_moreapps_first + innovation * mover, data = result, \n",
      "    dist = \"negbin\")\n",
      "\n",
      "Pearson residuals:\n",
      "     Min       1Q   Median       3Q      Max \n",
      " -0.4467  -0.1469  -0.1205  -0.0912 180.3122 \n",
      "\n",
      "Count model coefficients (truncated negbin with log link):\n",
      "                         Estimate Std. Error z value Pr(>|z|)    \n",
      "(Intercept)             2.849e+00  3.693e-01   7.712 1.24e-14 ***\n",
      "driving                 3.360e-01  1.889e-01   1.779 0.075291 .  \n",
      "adventure              -4.176e-01  1.561e-01  -2.674 0.007494 ** \n",
      "puzzle                 -3.103e-01  1.449e-01  -2.141 0.032255 *  \n",
      "shooter                -3.554e-01  2.114e-01  -1.681 0.092792 .  \n",
      "slot_game              -2.697e+00  2.279e-01 -11.833  < 2e-16 ***\n",
      "content_rating> 17      6.763e-01  3.484e-01   1.941 0.052272 .  \n",
      "content_rating> 4      -7.561e-01  1.890e-01  -4.000 6.34e-05 ***\n",
      "content_rating> 9      -7.210e-01  2.315e-01  -3.115 0.001839 ** \n",
      "quan_description_first  1.217e-03  6.822e-05  17.847  < 2e-16 ***\n",
      "size_first             -3.605e-04  3.358e-04  -1.074 0.282945    \n",
      "quan_language_first     1.326e-01  1.452e-02   9.136  < 2e-16 ***\n",
      "quan_moreapps_first     2.098e-02  3.004e-02   0.698 0.484889    \n",
      "innovation              7.041e-01  5.058e-01   1.392 0.163921    \n",
      "moverlate               5.051e-01  1.221e-01   4.137 3.52e-05 ***\n",
      "innovation:moverlate   -2.644e+00  7.525e-01  -3.514 0.000442 ***\n",
      "Log(theta)             -3.527e+00  3.301e-01 -10.686  < 2e-16 ***\n",
      "Zero hurdle model coefficients (binomial with logit link):\n",
      "                         Estimate Std. Error z value Pr(>|z|)    \n",
      "(Intercept)            -1.278e+00  8.349e-02 -15.311  < 2e-16 ***\n",
      "driving                -2.150e-01  7.237e-02  -2.970  0.00298 ** \n",
      "adventure               6.655e-02  5.878e-02   1.132  0.25760    \n",
      "puzzle                  4.664e-01  5.743e-02   8.121 4.62e-16 ***\n",
      "shooter                 6.050e-02  7.672e-02   0.789  0.43034    \n",
      "slot_game              -1.529e-01  9.529e-02  -1.604  0.10869    \n",
      "content_rating> 17     -8.315e-01  1.191e-01  -6.982 2.91e-12 ***\n",
      "content_rating> 4      -4.698e-01  7.041e-02  -6.672 2.52e-11 ***\n",
      "content_rating> 9       5.915e-02  9.071e-02   0.652  0.51438    \n",
      "quan_description_first  2.574e-04  3.142e-05   8.191 2.60e-16 ***\n",
      "size_first              3.206e-03  2.039e-04  15.719  < 2e-16 ***\n",
      "quan_language_first     1.655e-02  3.357e-03   4.929 8.26e-07 ***\n",
      "quan_moreapps_first    -1.476e-01  1.095e-02 -13.486  < 2e-16 ***\n",
      "innovation              6.614e-02  1.791e-01   0.369  0.71188    \n",
      "moverlate              -7.701e-01  4.645e-02 -16.581  < 2e-16 ***\n",
      "innovation:moverlate   -7.443e-01  2.960e-01  -2.514  0.01193 *  \n",
      "---\n",
      "Signif. codes:  0 '***' 0.001 '**' 0.01 '*' 0.05 '.' 0.1 ' ' 1 \n",
      "\n",
      "Theta: count = 0.0294\n",
      "Number of iterations in BFGS optimization: 58 \n",
      " \n"
     ]
    }
   ],
   "source": [
    "# Print results\n",
    "output = %R output\n",
    "expCoef = %R expCoef\n",
    "\n",
    "for line in output[2:-1]:\n",
    "    print(line)\n",
    "\n",
    "print(' ')"
   ]
  },
  {
   "cell_type": "code",
   "execution_count": 40,
   "metadata": {},
   "outputs": [
    {
     "name": "stdout",
     "output_type": "stream",
     "text": [
      "Mean Early entrants + TI: 142.2468085106383\n",
      "Std Early entrants + TI: 1693.3583321947046\n",
      "\n",
      "Mean Late entrants + TI: 7.074074074074074\n",
      "Std Late entrants + TI: 56.139877725697545\n",
      "\n"
     ]
    }
   ],
   "source": [
    "print('Mean Early entrants + TI: {}'.format(result[(result['mover']=='early') & (result['innovation']==1)].ratings_last.mean()))\n",
    "print('Std Early entrants + TI: {}\\n'.format(np.std(result[(result['mover']=='early') & (result['innovation']==1)].ratings_last)))\n",
    "\n",
    "print('Mean Late entrants + TI: {}'.format(result[(result['mover']=='late') & (result['innovation']==1)].ratings_last.mean()))\n",
    "print('Std Late entrants + TI: {}\\n'.format(np.std(result[(result['mover']=='late') & (result['innovation']==1)].ratings_last)))\n"
   ]
  },
  {
   "cell_type": "code",
   "execution_count": 41,
   "metadata": {},
   "outputs": [
    {
     "name": "stdout",
     "output_type": "stream",
     "text": [
      "Mean Early entrants + No TI: 48.52133436772692\n",
      "Std Early entrants + No TI: 1323.35594862746\n",
      "\n",
      "Mean Late entrants + No TI: 58.20294443564983\n",
      "Std Late entrants + No TI: 3339.6638124301403\n",
      "\n"
     ]
    }
   ],
   "source": [
    "print('Mean Early entrants + No TI: {}'.format(result[(result['mover']=='early') & (result['innovation']==0)].ratings_last.mean()))\n",
    "print('Std Early entrants + No TI: {}\\n'.format(np.std(result[(result['mover']=='early') & (result['innovation']==0)].ratings_last)))\n",
    "\n",
    "print('Mean Late entrants + No TI: {}'.format(result[(result['mover']=='late') & (result['innovation']==0)].ratings_last.mean()))\n",
    "print('Std Late entrants + No TI: {}\\n'.format(np.std(result[(result['mover']=='late') & (result['innovation']==0)].ratings_last)))\n"
   ]
  },
  {
   "cell_type": "markdown",
   "metadata": {},
   "source": [
    "#### <a name=\"titruncated\">7.3 Truncated Model</a> \n",
    "[Back to Table of Contents](#table)"
   ]
  },
  {
   "cell_type": "code",
   "execution_count": 42,
   "metadata": {
    "collapsed": true
   },
   "outputs": [],
   "source": [
    "to_plot = result[result['ratings_last']>0].groupby(by=['mover', 'innovation']).mean().reset_index()"
   ]
  },
  {
   "cell_type": "code",
   "execution_count": 43,
   "metadata": {},
   "outputs": [
    {
     "data": {
      "image/png": "[encoded data removed]"
     },
     "metadata": {},
     "output_type": "display_data"
    }
   ],
   "source": [
    "%%R -i to_plot -w 500 -h 300\n",
    "library(ggplot2)\n",
    "\n",
    "ggplot(to_plot, aes(x = innovation, y = ratings_last ,group = mover, linetype = mover)) + geom_line(size =1) + geom_point(size = 4) +\n",
    "theme_bw() + \n",
    "    theme(panel.border = element_blank(), \n",
    "          panel.grid.major = element_blank(),\n",
    "          panel.grid.minor = element_blank(), \n",
    "          axis.line = element_line(colour = \"black\", size = 1, linetype = \"solid\"),\n",
    "          text = element_text(size=12),\n",
    "          plot.title = element_text(hjust = 0.5)) +\n",
    "    labs(x = 'Technological Innovation', \n",
    "         y =\"Mean Ratings\",\n",
    "         title = \"Interaction between Technological Innovation and Order of Entry\",\n",
    "        color = 'Order of Entry') + \n",
    "        scale_x_continuous(breaks = round(seq(min(to_plot$innovation), max(to_plot$innovation), by = 1),1), \n",
    "                           expand = c(0.2, 0.2), labels = c('No', 'Yes'))"
   ]
  },
  {
   "cell_type": "markdown",
   "metadata": {},
   "source": [
    "#### <a name=\"tilogistical\">7.4 Logistical Model</a> \n",
    "[Back to Table of Contents](#table)"
   ]
  },
  {
   "cell_type": "code",
   "execution_count": 44,
   "metadata": {
    "collapsed": true
   },
   "outputs": [],
   "source": [
    "to_plot = result.groupby(by=['mover', 'innovation']).mean().reset_index()"
   ]
  },
  {
   "cell_type": "code",
   "execution_count": 45,
   "metadata": {},
   "outputs": [
    {
     "data": {
      "image/png": "[encoded data removed]"
     },
     "metadata": {},
     "output_type": "display_data"
    }
   ],
   "source": [
    "%%R -i to_plot -w 500 -h 300\n",
    "library(ggplot2)\n",
    "\n",
    "ggplot(to_plot, aes(x = innovation, y = bin_target ,group = mover , linetype = mover)) + geom_line(size =1) + geom_point(size = 4) +\n",
    "theme_bw() + \n",
    "    theme(panel.border = element_blank(), \n",
    "          panel.grid.major = element_blank(),\n",
    "          panel.grid.minor = element_blank(), \n",
    "          axis.line = element_line(colour = \"black\", size = 1, linetype = \"solid\"),\n",
    "          text = element_text(size=12),\n",
    "          plot.title = element_text(hjust = 0.5)) +\n",
    "    labs(x = 'Technological Innovation', \n",
    "         y =\"Chance of Rating\",\n",
    "         title = \"Chances of leaving a Rating between Order of Entry and TI\",\n",
    "        color = 'Order of Entry') + \n",
    "        scale_x_continuous(breaks = round(seq(min(to_plot$innovation), max(to_plot$innovation), by = 1),1), \n",
    "                           expand = c(0.2, 0.2), labels = c('No', 'Yes'))"
   ]
  },
  {
   "cell_type": "markdown",
   "metadata": {},
   "source": [
    "#### <a name=\"tiresults\">7.5 Results</a> \n",
    "[Back to Table of Contents](#table)\n",
    "\n",
    "Seeing as there are 2 models used in the hurdle model we interpret the results seperately.  \n",
    "  \n",
    "**Logistical model**  \n",
    "The logistical model showed that the chance of an user leaving a rating for late entrants is significantly lower than that for early entrants (p < .001). \n",
    "\n",
    "Moreover, there was no significant difference in the chance of getting ratings between apps using\n",
    "technological innovation and not using technological innovation (p = .081). \n",
    "\n",
    "There was an interaction effect of technological innovation on order of entry (p = .131, R2 = .05). \n",
    "  \n",
    "**Truncated negative binomial model**  \n",
    "The truncated negative binomial model showed that later entrants have on\n",
    "average significantly more ratings than early entrants (p < .001). \n",
    "\n",
    "Moreover, there was no significant difference between the number of ratings for apps making use of\n",
    "technological innovation and apps not making use of technological innovation (p = .720). \n",
    "\n",
    "Finally, an interaction was found between technological innovation and order of\n",
    "entry. On average the number of ratings for early entrants making use of technological\n",
    "innovation are higher than the number of ratings for later entrants making use of\n",
    "technological innovation, whereas the number of ratings for later entrants not making\n",
    "use of technological innovation were on average higher than the number of ratings for\n",
    "early entrants not making use of technological innovation (p < .001, R2 = .33)."
   ]
  },
  {
   "cell_type": "markdown",
   "metadata": {},
   "source": [
    "### <a name=\"conclusion\">8. Conclusion</a> \n",
    "[Back to Table of Contents](#table)\n",
    "\n",
    "The results showed that both revenue model and technological innovation\n",
    "moderate the effect between order of entry and the performance of mobile games.\n",
    "However, the hurdle of being the first user to rate an unrated app might decrease the\n",
    "moderating effects of both revenue model and technological innovation. When\n",
    "launching a mobile game, app developers need to take into account their order for entry\n",
    "into account. Knowing if you are an early or late entrant helps selecting the appropriate\n",
    "revenue model and whether the app would benefit from technological innovation."
   ]
  },
  {
   "cell_type": "markdown",
   "metadata": {},
   "source": [
    "### <a name=\"literature\">9. References</a> \n",
    "[Back to Table of Contents](#table)\n",
    "\n",
    "Atkins, D. C., Baldwin, S. A., Zheng, C., Gallop, R. J., & Neighbors, C. (2013). A tutorial on count regression and zero-altered count models for longitudinal substance use data. Psychology of Addictive Behaviors, 27(1), 166.\n",
    "  \n",
    "Burger, M., Van Oort, F., & Linders, G. J. (2009). On the specification of the gravity model of trade: zeros, excess zeros and zero-inflated estimation. Spatial Economic Analysis, 4(2), 167-190.\n",
    "\n",
    "Greene, W. H. (1994). Accounting for excess zeros and sample selection in Poisson and negative binomial regression models."
   ]
  }
 ],
 "metadata": {
  "anaconda-cloud": {},
  "kernelspec": {
   "display_name": "Python [default]",
   "language": "python",
   "name": "python3"
  },
  "language_info": {
   "codemirror_mode": {
    "name": "ipython",
    "version": 3
   },
   "file_extension": ".py",
   "mimetype": "text/x-python",
   "name": "python",
   "nbconvert_exporter": "python",
   "pygments_lexer": "ipython3",
   "version": "3.5.4"
  },
  "latex_envs": {
   "LaTeX_envs_menu_present": true,
   "bibliofile": "biblio.bib",
   "cite_by": "apalike",
   "current_citInitial": 1,
   "eqLabelWithNumbers": true,
   "eqNumInitial": 1,
   "labels_anchors": false,
   "latex_user_defs": false,
   "report_style_numbering": false,
   "user_envs_cfg": false
  }
 },
 "nbformat": 4,
 "nbformat_minor": 2
}
