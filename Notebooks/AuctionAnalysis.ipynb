{
 "cells": [
  {
   "cell_type": "markdown",
   "metadata": {},
   "source": [
    "# Assignment 3\n",
    "\n",
    "We have information about several auctions at different times. The goal of the assignment is to predict whether a certain auction will be succesfull or not and then optimize a certain auction in order to get the most profit. The assignment consists of the following steps:  \n",
    "  \n",
    "1) *Descriptive Analysis*  \n",
    "Here we do some basic exploratory analysis in order to get a feeling for the data and what we can do with it. We are allowed to also use correlation, plots and some simple inferences. Moreover, this is a nice way to start thinking about creating new features if neccesary.   \n",
    "  \n",
    "2) *Prediction Model*  \n",
    "The goal is to build a prediction model that can either classify or predict the performance of a new auction. We are free to choose either classification or prediction as long as we are accurate since the model is used in step 3. Moreover, it should also be a relatively fast method in order to use it in our optimization in step 3.   \n",
    "  \n",
    "3) *Optimization*  \n",
    "Given a new auction, optimize its features in such a way that you will maximize the final output. In other words, optimize the different variables and their values in a way to get the most money out of your auction. For example, if you have an item/lot that you expect will be worth 200 euros, then setting the starting bid at 50 euros or 100 euros might make a big difference on the end price. Each time we change a value, we check with our prediction model whether that change is a good one or not in order to eventually get the best \"lay-out\" of an auction. \n",
    "\n",
    "**Features**  \n",
    "We have the following features in the dataset:  \n",
    "* **Multiplier**  This is defined as (Winning Bid / Estimated Value)\n",
    "* **LotNr** An items number, the lower the number the earlier the item is shown on the site\n",
    "* **Allocate** Whether the seller of the lot has set a price which he want as minimum for the lot \n",
    "* **EstValue**: estimated value of the lot (by auction experts)\n",
    "* **StartPrice**: starting bidding price of the lot\n",
    "* **Followers**: nr. of people following the lot\n",
    "* **Bank, Dealer, Liquidator, Volunteer**: type of sales\n",
    "* **LotsSale**: amount of lots of one sale\n",
    "* **LotsCtgry**: amount of lots within a sale with the same category\n",
    "* **Forced**: whether a sale is forced or not (due to bankruptcy)\n",
    "* **SP.EV**: starting price/estimated value\n",
    "* **Duration**: duration of auctions in hours on a lot\n",
    "* **Morning, Evening, Afternoon**: last bid on the lot "
   ]
  },
  {
   "cell_type": "markdown",
   "metadata": {},
   "source": [
    "## <a name=\"table\">Table of Contents</a> \n",
    "\n",
    "1. [Functions](#functions)\n",
    "\n",
    "2. [Preprocessing](#preprocessing)\n",
    "\n",
    "3. [Exploration](#exploration)\n",
    "\n",
    "4. [Visualization](#visual)  \n",
    "\n",
    "    4.1 [Plots](#plots)  \n",
    "    \n",
    "    4.2 [Correlations](#correlation)  \n",
    "    \n",
    "5. [Feature Engineering](#engineering)  \n",
    "\n",
    "    5.1 [Outlier Removal](#outliers)  \n",
    "    \n",
    "    5.2 [Resolving Skewedness](#skewedness)  \n",
    "    \n",
    "6. [Feature Importance](#importance)  \n",
    "\n",
    "    6.1 [Decision Tree](#importancetree)  \n",
    "    \n",
    "    6.2 [Random Forest](#importanceforest)  \n",
    "    \n",
    "    6.3 [Feature Selection](#selection)  \n",
    "    \n",
    "7. [Prediction](#prediction)  \n",
    "\n",
    "    7.1 [Classification with K-Fold](#resultclassifiers)  \n",
    "    \n",
    "    7.2 [Classification with LOO](#loo)  \n",
    "    \n",
    "    7.3 [Voting Classifier with LOO](#voting)  \n",
    "    \n",
    "    7.4 [Regression with K-Fold](#regression)  \n",
    "    \n",
    "8. [Grid Search](#grid)  \n",
    "\n",
    "    8.1 [Classification](#gridclassification)  \n",
    "\n",
    "    8.2 [Regression](#gridregression)  \n",
    "\n",
    "9. [Optimization - Description](#optimization)\n",
    "\n",
    "10. [Optimization - Regression](#regressionoptimization)\n",
    "\n",
    "11. [Optimization - Classification](#optimizationfull)\n",
    "\n",
    "    11.1 [Genetic Algorithm](#geneticalgorithm)  \n",
    "\n",
    "    11.2 [Heuristic](#heuristic)  \n",
    "\n",
    "    11.3 [Validation](#validation)  "
   ]
  },
  {
   "cell_type": "markdown",
   "metadata": {},
   "source": [
    "### <a name=\"functions\">1. Functions</a> \n",
    "[Back to Table of Contents](#table)"
   ]
  },
  {
   "cell_type": "code",
   "execution_count": 1,
   "metadata": {},
   "outputs": [],
   "source": [
    "import math\n",
    "import graphviz \n",
    "import warnings\n",
    "import random\n",
    "\n",
    "import pandas                  as pd\n",
    "import numpy                   as np\n",
    "import seaborn                 as sns\n",
    "import matplotlib.pyplot       as plt\n",
    "\n",
    "from deap                      import base\n",
    "from deap                      import creator\n",
    "from deap                      import tools\n",
    "\n",
    "from scipy.stats               import skew\n",
    "from sklearn.tree              import DecisionTreeClassifier, export_graphviz\n",
    "from sklearn.neighbors         import KNeighborsClassifier\n",
    "from sklearn.svm               import SVC\n",
    "from sklearn.ensemble          import RandomForestRegressor,VotingClassifier,AdaBoostClassifier, \\\n",
    "                                      GradientBoostingClassifier, RandomForestClassifier, \\\n",
    "                                      GradientBoostingRegressor\n",
    "from sklearn.naive_bayes       import GaussianNB\n",
    "from sklearn.linear_model      import LogisticRegression, Lasso, Ridge, ElasticNet\n",
    "from sklearn.kernel_ridge      import KernelRidge\n",
    "\n",
    "from xgboost                   import XGBClassifier, XGBRegressor\n",
    "from catboost                  import CatBoostClassifier, CatBoostRegressor\n",
    "from lightgbm                  import LGBMClassifier, LGBMRegressor\n",
    "\n",
    "from sklearn.feature_selection import VarianceThreshold\n",
    "from sklearn.model_selection   import StratifiedShuffleSplit, train_test_split, GridSearchCV,\\\n",
    "                                      cross_val_score\n",
    "from sklearn.metrics           import accuracy_score, log_loss, mean_squared_error\n",
    "from sklearn.preprocessing     import StandardScaler, MinMaxScaler\n",
    "\n",
    "from mlxtend.classifier        import StackingClassifier, StackingCVClassifier\n",
    "\n",
    "%matplotlib inline\n",
    "warnings.simplefilter(\"ignore\", category=PendingDeprecationWarning) # LightGBM\n",
    "warnings.simplefilter(\"ignore\", category=DeprecationWarning)        # LightGBM\n",
    "warnings.simplefilter(\"ignore\", category=UserWarning)               # LightGBM\n",
    "\n",
    "def preprocess_data(file_1_location = 'data2014.csv', file_2_location = 'data2015.csv'):\n",
    "    \"\"\" Loading and preprocessing the data\n",
    "    \n",
    "    Parameters:\n",
    "    -----------\n",
    "        file_1_location (str): The location of the first csv file\n",
    "        file_2_location (str): The location of the first csv file\n",
    "        \n",
    "    Returns:\n",
    "    --------\n",
    "        df (dataframe): Preprocessed dataframe\n",
    "    \n",
    "    \"\"\"\n",
    "    \n",
    "    # Load in Data\n",
    "    df_2014 = pd.read_csv(file_1_location)\n",
    "    df_2015 = pd.read_csv(file_2_location)\n",
    "\n",
    "    # Merge two files\n",
    "    df_2014['Year'] = 2014\n",
    "    df_2015['Year'] = 2015\n",
    "    df = df_2014.append(df_2015)\n",
    "    df = df.set_index(np.arange(len(df)))\n",
    "\n",
    "    # Extract part of day as a single variable and remove columns\n",
    "    df['Part_of_Day'] = df.apply(lambda row: get_part_of_day(row), axis = 1)\n",
    "    df['multiplier_binary'] = df.apply(lambda row: get_bin_multiplier(row['multiplier']), axis = 1)\n",
    "\n",
    "    df = df.drop(['Morning', 'Afternoon', 'Evening'], 1)\n",
    "\n",
    "    # Since we have the number of lots in a category, we can also say that each number of lots in a category \n",
    "    # is associated with a single category\n",
    "    # This is an assumption that might not hold, but it does give more information about having several categories\n",
    "    categories = {value: index+1 for index, value in enumerate(list(df['LotsCtgry'].unique()))}\n",
    "    df['Category'] = df.apply(lambda row: categories[row['LotsCtgry']], axis = 1)\n",
    "\n",
    "    # Test for consecutive rows\n",
    "    test_consecutive_sale(df)\n",
    "\n",
    "    # Create new column with sale number as the number of lots in a sale can be used as a proxy to which sale a lot belongs\n",
    "    sale_number = {value: index+1 for index, value in enumerate(list(df['LotsSale'].unique()))}\n",
    "    df['Sale_nr'] = df.apply(lambda row: sale_number[row['LotsSale']], axis = 1)\n",
    "\n",
    "    # # Get number of categories in a sale\n",
    "    df = get_categories_per_sale(df)\n",
    "    \n",
    "    # Ordered lot numbers by category\n",
    "    ctgry_lot_nr_map = {(sales_nr,ctgry_nr,lot_nr): idx + 1 \n",
    "                        for (sales_nr,ctgry_nr),lot_nr_list \n",
    "                            in df.groupby(['Sale_nr','Category']).LotNr.unique().items()\n",
    "                        for idx, lot_nr in enumerate(lot_nr_list)}\n",
    "\n",
    "    df['CtgryLotNr'] = list(zip(*[df.Sale_nr,df.Category,df.LotNr]))\n",
    "    df['CtgryLotNr'] = df['CtgryLotNr'].map(ctgry_lot_nr_map)\n",
    "\n",
    "    # Binarize Year\n",
    "    year_map={2014:0,2015:1}\n",
    "    df.Year = df.Year.map(year_map)\n",
    "    \n",
    "    # Create winning bid and the difference between winning bid and est. value\n",
    "    df['WinningBid'] = df.apply(lambda row: row['EstValue'] * row['multiplier'], axis = 1)\n",
    "    df['ResultDifference'] = df.apply(lambda row: row['EstValue'] * row['multiplier'] - \n",
    "                                      row['EstValue'], axis = 1)\n",
    "    \n",
    "    # Create 3 classes\n",
    "    df['multiplier_three'] = df.apply(lambda row: three_classes(row), axis = 1)\n",
    "    \n",
    "    return df\n",
    "\n",
    "def get_part_of_day(row):\n",
    "    if row['Morning'] == 1:\n",
    "        return 0\n",
    "    elif row['Afternoon'] == 1:\n",
    "        return 1\n",
    "    elif row['Evening'] == 1:\n",
    "        return 2\n",
    "    else:\n",
    "        return 'Error!'\n",
    "    \n",
    "def get_bin_multiplier(row):\n",
    "    if row < 1:\n",
    "        return 0\n",
    "    elif row >= 1:\n",
    "        return 1\n",
    "    else:\n",
    "        return 'Error'\n",
    "    \n",
    "def test_consecutive_sale(df):\n",
    "    \"\"\" We want to know if the number of lots in a sale can be used\n",
    "        to indicate whether it belongs to a certain sale. This function\n",
    "        checks whether a consecutive series of LotsSale belong to each\n",
    "        other by keeping a set in which we store the LotsSale values\n",
    "        and check whether a new series of LotsSale has the same amount as\n",
    "        a series we have seen previously. If it doesn't return an error, \n",
    "        we can use the column \"LotsSale\" as a proxy for the lotnumber\n",
    "    \"\"\"\n",
    "    consecutive_check = set()\n",
    "    previous = ''\n",
    "\n",
    "    for i in df['LotsSale']:\n",
    "        if len(consecutive_check) == 0:\n",
    "            consecutive_check.update([i])\n",
    "            previous = i\n",
    "\n",
    "        if i == previous:\n",
    "            continue\n",
    "        else:\n",
    "            if i in consecutive_check:\n",
    "                print('Problem!')\n",
    "                break\n",
    "            else:\n",
    "                consecutive_check.update([i])\n",
    "                previous = i\n",
    "    \n",
    "def get_categories_per_sale(df):\n",
    "    \"\"\" Count for each sale how many categories there are in it\n",
    "    \"\"\"\n",
    "    test = df.groupby(by = ['Sale_nr', 'Category']).count().reset_index()\n",
    "    df['Categories_per_sale'] = 0\n",
    "    \n",
    "    for i in df['Sale_nr'].unique():\n",
    "        df.loc[df['Sale_nr'] == i, 'Categories_per_sale'] = len(test[test['Sale_nr'] == i]['Category'].unique())\n",
    "        \n",
    "    return df\n",
    "\n",
    "def correlation_matrix(df):\n",
    "    \"\"\" Shows a correlation matrix\n",
    "    \n",
    "    Parameters:\n",
    "    -----------\n",
    "        df (dataframe): Insert a dataframe with only the\n",
    "                        columns that you want to visualize\n",
    "    \"\"\"\n",
    "    sns.set(style=\"white\")\n",
    "\n",
    "    # Compute the correlation matrix\n",
    "    corr = df.corr()\n",
    "\n",
    "    # Generate a mask for the upper triangle\n",
    "    mask = np.zeros_like(corr, dtype=np.bool)\n",
    "    mask[np.triu_indices_from(mask)] = True\n",
    "\n",
    "    # Set up the matplotlib figure\n",
    "    f, ax = plt.subplots(figsize=(11, 9))\n",
    "\n",
    "    sns.heatmap(corr, mask=mask,cmap=\"RdBu_r\", linewidths=.5, cbar_kws={\"shrink\": .5});\n",
    "\n",
    "def scatter_plot(df, x, y, figsize = (10, 5), xlabel=None, ylabel=None, title=None):\n",
    "    \"\"\" Plots a scatterplot\n",
    "    \n",
    "    Parameters:\n",
    "    -----------\n",
    "        df (dataframe): Data to be plotted\n",
    "        x (str): Name of column to be plotted\n",
    "        y (str): Name of column to be plotted\n",
    "        figsize (tup): Tuple of size \n",
    "        xlabel (str): Label x axis\n",
    "        ylabel (str): Label y axis\n",
    "        title (str): Title \n",
    "    \"\"\"\n",
    "    \n",
    "    if not xlabel:\n",
    "        xlabel = x\n",
    "    if not ylabel:\n",
    "        ylabel = y\n",
    "    if not title:\n",
    "        title = x + ' vs. ' + y\n",
    "    \n",
    "    plt.figure(figsize=figsize)\n",
    "    xseries = df[x]\n",
    "    yseries = df[y]\n",
    "    plt.xlabel(xlabel)\n",
    "    plt.ylabel(ylabel)\n",
    "    plt.title(title)\n",
    "    plt.plot(xseries,yseries, 'ro')\n",
    "    plt.show()\n",
    "    \n",
    "def multiple_scatter_plots(df, to_plot, figsize=(10, 5), markersize=2,  max_row=2):\n",
    "    \"\"\" Plots a scatterplot\n",
    "    \n",
    "    Parameters:\n",
    "    -----------\n",
    "        df (dataframe): Data to be plotted\n",
    "        to_plot (list of tuples): Each tuples contains the column name of what you\n",
    "                                  want to plot on the x and y axis respectively\n",
    "        figsize (tup): Width and length of figures\n",
    "        marketsize (int): Size of dots\n",
    "        max_row (int): Number of plots per row\n",
    "        \n",
    "    \"\"\"\n",
    "    # Initialize values and create figure\n",
    "    number_of_plots = len(to_plot)\n",
    "    max_column = math.ceil(number_of_plots / max_row)\n",
    "    fig, axs = plt.subplots(nrows=max_row, ncols=max_column, figsize=figsize)\n",
    "        \n",
    "    # Flatten list if possible\n",
    "    try:\n",
    "        axs = [item for sublist in axs for item in sublist]\n",
    "    except:\n",
    "        pass\n",
    "        \n",
    "    # Plot subplots\n",
    "    for i in range(len(to_plot)):\n",
    "        x = to_plot[i][0]\n",
    "        y = to_plot[i][1]\n",
    "        axs[i].plot(df[x], df[y], 'ro', markersize=markersize)\n",
    "        axs[i].set_xlabel(x)\n",
    "        axs[i].set_ylabel(y)\n",
    "        axs[i].set_title(x + ' vs. ' + y)\n",
    "        \n",
    "    # Remove plots that are empty\n",
    "    empty_plots = abs(number_of_plots - (max_column * max_row))\n",
    "    if empty_plots > 0:\n",
    "        for i in range(1, empty_plots + 1, 1):\n",
    "            axs[-1].remove()\n",
    "    \n",
    "    plt.tight_layout(pad=2, h_pad=5)\n",
    "    plt.show()\n",
    "    \n",
    "def plot_feature_importance(dataset, X, y):\n",
    "    \"\"\" Plot the importance of features in X\n",
    "    \n",
    "    Parameters:\n",
    "    -----------\n",
    "        dataset (type): Dataset only containing relevant columns for X and y\n",
    "        X (numpy array): Matrix of features\n",
    "        y (numpy array): Target feature\n",
    "        \n",
    "    \"\"\"\n",
    "    \n",
    "    # Create random forest classifier\n",
    "    forest = RandomForestClassifier(n_estimators=250, random_state=42)\n",
    "    forest.fit(X, y)\n",
    "\n",
    "    # Calculate the relative importances of reatures\n",
    "    importances = forest.feature_importances_\n",
    "    std = np.std([tree.feature_importances_ for tree in forest.estimators_],axis=0)\n",
    "    indices = np.argsort(importances)[::-1]\n",
    "\n",
    "    # Plot the feature importances of the forest\n",
    "    plt.figure(figsize=(10, 4))\n",
    "    plt.title(\"Feature importances\")\n",
    "    plt.bar(range(X.shape[1]), importances[indices],\n",
    "           color=\"r\", yerr=std[indices], align=\"center\")\n",
    "    plt.xticks(range(X.shape[1]), dataset.columns[indices], rotation=70)\n",
    "    plt.xlim([-1, X.shape[1]])\n",
    "    plt.ylim([0, 0.4])\n",
    "    plt.show()\n",
    "    \n",
    "def plot_decision_tree(dataset, X, y, max_depth=3):\n",
    "    \"\"\" Plot decision tree to gain insight to feature importances\n",
    "    \n",
    "    Parameters:\n",
    "    -----------\n",
    "        dataset (type): Dataset only containing relevant columns for X and y\n",
    "        X (numpy array): Matrix of features\n",
    "        y (numpy array): Target feature\n",
    "        max_depth (int): Depth of the decision tree\n",
    "    \n",
    "    \"\"\"\n",
    "\n",
    "    dtree=DecisionTreeClassifier(max_depth=max_depth)\n",
    "    dtree.fit(X,y)\n",
    "\n",
    "    dot_data = export_graphviz(dtree, out_file=None, \n",
    "                             feature_names=dataset.columns[:-1],  \n",
    "                             class_names=[\"0\", \"1\"],  \n",
    "                             filled=True, rounded=True,  \n",
    "                             special_characters=True) \n",
    "    graph = graphviz.Source(dot_data) \n",
    "    return graph\n",
    "\n",
    "def cv_multiple_classifiers(X, y, classifiers = [RandomForestClassifier()], n_splits = 5, \n",
    "                            print_process = False):\n",
    "    \"\"\"\n",
    "    \n",
    "    Parameters:\n",
    "    -----------\n",
    "        X (numpy array): Matrix of features\n",
    "        y (numpy array): Target feature\n",
    "        n_splits (int): Number of splits for cross validation\n",
    "        \n",
    "    Returns:\n",
    "    --------\n",
    "        log (dataframe): Dataframe of the results\n",
    "    \n",
    "    \"\"\"\n",
    "    \n",
    "    # Dataframe to track results\n",
    "    log_cols = [\"Classifier\", \"Accuracy\"]\n",
    "    log = pd.DataFrame(columns=log_cols)\n",
    "    acc_dict = {name.__class__.__name__: 0 for name in classifiers}\n",
    "\n",
    "    # Method of cross validation\n",
    "    sss = StratifiedShuffleSplit(n_splits=n_splits, test_size=0.3, random_state=42)\n",
    "    fold = 1\n",
    "\n",
    "    # Cross-validation for each classifier \n",
    "    for train_index, test_index in sss.split(X, y):\n",
    "        if print_process:\n",
    "            print('Fold {}'.format(fold))\n",
    "        X_train, X_test = X[train_index], X[test_index]\n",
    "        y_train, y_test = y[train_index], y[test_index]\n",
    "\n",
    "        for clf in classifiers:\n",
    "            name = clf.__class__.__name__\n",
    "            clf.fit(X_train, y_train)\n",
    "            train_predictions = clf.predict(X_test)\n",
    "            acc = accuracy_score(y_test, train_predictions)\n",
    "            acc_dict[name] += acc\n",
    "\n",
    "        fold += 1\n",
    "\n",
    "    # Average out accuracies over number of splits\n",
    "    for clf in acc_dict:\n",
    "        acc_dict[clf] = acc_dict[clf] / n_splits\n",
    "        log_entry = pd.DataFrame([[clf, acc_dict[clf]]], columns=log_cols)\n",
    "        log = log.append(log_entry)\n",
    "\n",
    "    # Plot results\n",
    "    plt.xlabel('Accuracy')\n",
    "    plt.title('Classifier Accuracy')\n",
    "    sns.set_color_codes(\"muted\")\n",
    "    sns.barplot(x='Accuracy', y='Classifier', data=log, color=\"b\")\n",
    "    \n",
    "    return log\n",
    "\n",
    "def select_features(df, features = [], target = 'multiplier_binary'):\n",
    "    \"\"\"\n",
    "    \n",
    "    Parameters:\n",
    "    -----------\n",
    "        df (dataframe): Dataframe that you want to select features from\n",
    "        features (list): List of the names (str) of the features you want\n",
    "                         to extract as your X feature matrix\n",
    "        target (str): The column name of the feature that you want to extract\n",
    "        \n",
    "    Returns:\n",
    "    --------\n",
    "        dataset (dataframe): Dataframe containig the features and target variables\n",
    "        X (numpy matrix): Numpy matrix of feature values\n",
    "        y (numpy array): Numpy array of the target values\n",
    "    \n",
    "    \"\"\"\n",
    "    \n",
    "    # Select a standard set of features if no other are given\n",
    "    if len(features) == 0:\n",
    "        features = ['LotNr', 'Allocate', 'EstValue', 'StartPrice','Followers', 'Bank', 'Dealer', \n",
    "                    'Liquidator', 'Volunteer', 'LotsSale','LotsCtgry', 'Forced','SP.EV','Duration', \n",
    "                    'Year', 'Category', 'Sale_nr', 'Categories_per_sale']\n",
    "    features.append(target)\n",
    "    dataset = df[features]\n",
    "\n",
    "    # Get X and y matrices\n",
    "    X = dataset.iloc[:, list(range(len(dataset.columns)-1))].values\n",
    "    y = dataset.iloc[:, -1].values\n",
    "    \n",
    "    return dataset, X, y\n",
    "\n",
    "def loo_cv(dataset, clf=RandomForestClassifier(n_estimators=100), adjust_folds=True):\n",
    "    \"\"\" Leave one-out cross validation\n",
    "    \n",
    "    An implementation of leave one-out cross validation in which the folds\n",
    "    are determined by the sale number as we want to predict the multiplier of\n",
    "    sales we have not previously seen. Thereby creating an average accuracy score\n",
    "    that better represents reality. Folds in which the y_test shows very little\n",
    "    rows are removed as those are likely outliers. \n",
    "    \n",
    "    Parameters:\n",
    "    -----------\n",
    "        dataset (dataframe):   Dataframe with only the features used\n",
    "                               in the classification task including the target.\n",
    "        clf (classifier):      Classifier to be used for the Leave-one out \n",
    "                               cross validation\n",
    "        \n",
    "    Returns:\n",
    "    --------\n",
    "        results (list):      List of accuracies per fold\n",
    "        info_folds (dict):   Dictionary of lengths of y_test per fold with the intent\n",
    "                             to remove folds that with less than 50 rows\n",
    "    \"\"\"\n",
    "    \n",
    "    nr_folds = len(dataset['Sale_nr'].unique())\n",
    "    info_folds = {fold: '' for fold in range(1, nr_folds+1)}\n",
    "    results = []\n",
    "\n",
    "    for sale_nr in range(1, nr_folds+1):\n",
    "        X_train = dataset[dataset['Sale_nr']!= sale_nr].iloc[:,0:-1].values\n",
    "        X_test = dataset[dataset['Sale_nr']== sale_nr].iloc[:,0:-1].values\n",
    "\n",
    "        y_train = dataset[dataset['Sale_nr']!= sale_nr].iloc[:,-1].values\n",
    "        y_test = dataset[dataset['Sale_nr']== sale_nr].iloc[:,-1].values\n",
    "\n",
    "        name = clf.__class__.__name__\n",
    "        clf.fit(X_train, y_train)\n",
    "        train_predictions = clf.predict(X_test)\n",
    "        acc = accuracy_score(y_test, train_predictions)\n",
    "\n",
    "        results.append(acc)\n",
    "        info_folds[sale_nr] = len(y_test)\n",
    "        \n",
    "    if adjust_folds:\n",
    "        folds_to_remove = [fold[0]-1 for fold in info_folds.items() if fold[1]<50]\n",
    "        results = [value for index, value in enumerate(results) if index not in folds_to_remove]\n",
    "        for fold in folds_to_remove:\n",
    "            del info_folds[fold+1]\n",
    "    \n",
    "    return results, info_folds\n",
    "\n",
    "def three_classes(row):\n",
    "    \"\"\" Create 3 classes of the multiplier variable:\n",
    "        0 for multiplier < 1\n",
    "        1 for multiplier between 1 and 2\n",
    "        2 for multiplier larger than 2\n",
    "    \"\"\"\n",
    "    if row['multiplier'] < 1:\n",
    "        return 0\n",
    "    elif row['multiplier'] > 1.5:\n",
    "        return 2\n",
    "    else:\n",
    "        return 1\n",
    "\n",
    "def plot_multiplier_distribution():\n",
    "    \"\"\" A quick plot to demonstrate outliers\n",
    "        in the data with respect to the variable\n",
    "        multipliers. \n",
    "    \"\"\"\n",
    "    \n",
    "    plt.figure()\n",
    "    plt.subplot(121)\n",
    "    plt.hist(df['multiplier'], 60,  facecolor='g', alpha=0.75)\n",
    "    plt.xlabel('Multiplier')\n",
    "    plt.ylabel('Count')\n",
    "    plt.title('Histogram of Multiplier')\n",
    "    plt.grid(True)\n",
    "\n",
    "    plt.subplot(122)\n",
    "    plt.hist(df['multiplier'], 60,  facecolor='g', alpha=0.75)\n",
    "    plt.xlabel('Multiplier')\n",
    "    plt.ylabel('Count')\n",
    "    plt.title('Zoomed in Version')\n",
    "    plt.axis([0, 60, 0, 10])\n",
    "    plt.grid(True)\n",
    "    plt.tight_layout(pad=2, h_pad=5)\n",
    "\n",
    "    plt.show()\n",
    "    \n",
    "def resolve_skewedness(df):\n",
    "    \"\"\" Resolving the skewedness with features \n",
    "        that show a skew over .65 and normalizing\n",
    "        those features with a log(1+p) transform. \n",
    "    \n",
    "    \"\"\"\n",
    "    # # Selecting only the numeric features\n",
    "    numeric_feature_names = df.dtypes[df.dtypes != \"object\"].index\n",
    "\n",
    "    # # Calculates the skewedness of the features and then gets the features with a skewedness above a certain threshold\n",
    "    skewed_features = df[numeric_feature_names].apply(lambda x: skew(x.dropna()))\n",
    "    skewed_features = list(skewed_features[skewed_features > 0.65].index)\n",
    "    skewed_features.remove('multiplier')\n",
    "    skewed_features.remove('multiplier_three')\n",
    "    skewed_features.remove('WinningBid')\n",
    "    skewed_features.remove('ResultDifference')\n",
    "\n",
    "    df[skewed_features] = np.log1p(df[skewed_features])\n",
    "    \n",
    "    return df\n",
    "\n",
    "def rmse_cross_validation(model, X, y):\n",
    "    \"\"\" Cross validation using RMSE as error measure\n",
    "    \"\"\"\n",
    "    rmse= np.sqrt(-cross_val_score(model, X, y, scoring=\"neg_mean_squared_error\", cv = 5))\n",
    "    return(rmse)\n",
    "\n",
    "def rmse(y_true, y_pred):\n",
    "    \"\"\" Calculate RMSE between predicted and true values\n",
    "    \"\"\"\n",
    "    return np.sqrt(mean_squared_error(y_true, y_pred))\n",
    "\n",
    "def grid_search(param_grid, estimator):\n",
    "    \"\"\" Gridsearch implementation\n",
    "    \"\"\"\n",
    "    grid = GridSearchCV(estimator,param_grid,refit=True,verbose=2)\n",
    "    grid.fit(X, y)\n",
    "    print(grid.best_params_)\n",
    "    print(grid.best_estimator_)\n",
    "    \n",
    "def prepare_data_optimization(target = 'multiplier_binary'):\n",
    "    \"\"\" All preprocessing steps that are necessary for optimization\n",
    "    \n",
    "    This function preprocesses the data, extract features, outlier removal, \n",
    "    feature engineering etc. Basically, it does all steps seen in this\n",
    "    notebook until the actual optimization. Thus, this also includes\n",
    "\n",
    "        \n",
    "    Returns:\n",
    "    --------\n",
    "        df (dataframe): Preprocessed full data\n",
    "        to_optimize (dataframe): Only the data from sale_nr 10 \n",
    "                                 which we want to optimize\n",
    "        baseline (int): The sum of all 1's in the to_optimize dataset\n",
    "                        so we know what to beat. \n",
    "        X (numpy array): nD Array of features for training\n",
    "        y (numpy array): 1D Array of features for training\n",
    "    \n",
    "    \"\"\"\n",
    "    # Preprocess data\n",
    "    df = preprocess_data()\n",
    "    \n",
    "    # Remove outliers\n",
    "    df = df[df['multiplier'] <= 10]\n",
    "    df = df[df['EstValue'] < 15000]\n",
    "    \n",
    "    # We choose to optimize sale_nr 10 as that sale has sufficient lots available to optimize\n",
    "    to_optimize = df.loc[df.Sale_nr == 10, :].copy()\n",
    "    \n",
    "    if target == 'multiplier':\n",
    "        baseline = np.sum(to_optimize.multiplier.values * to_optimize.EstValue.values)\n",
    "    else:\n",
    "        baseline = np.sum(to_optimize.multiplier_binary)\n",
    "    \n",
    "    # Initialize Decision variables\n",
    "    to_optimize.LotNr = range(1, len(to_optimize)+1, 1)\n",
    "    to_optimize.Duration = 50\n",
    "    to_optimize.Part_of_Day = 1\n",
    "    to_optimize.StartPrice = to_optimize.EstValue / 10\n",
    "    \n",
    "    # Select only features for prediction, sale_nr is removed to prevent overfitting\n",
    "    features = ['LotNr', 'StartPrice','Duration','Part_of_Day','Allocate','EstValue','Followers', \n",
    "                'Bank','Dealer','Liquidator','Volunteer','LotsSale','LotsCtgry','Forced','Year',\n",
    "                'Category', 'Categories_per_sale','CtgryLotNr', 'RelStartPriceCtgry', \n",
    "                'RelDurationCtgry', 'RelLotNr','RelCtgryLotNr']\n",
    "    to_optimize = to_optimize[features]\n",
    "\n",
    "    # Create X and y for training the model by selecting all sales except sale_nr 10\n",
    "    df_train = df.loc[df.Sale_nr != 10, :].copy()\n",
    "    df_train = df[features + [target]]\n",
    "    dataset, X, y = select_features(df_train, features, target)\n",
    "    \n",
    "    return df, to_optimize, baseline, X, y\n",
    "\n",
    "def heuristic_probabilities(row, feature, interval):\n",
    "    \"\"\" Heuristic to optimize individual features\n",
    "    \n",
    "    The heuristic optimizes the value of the feature variable\n",
    "    by iterating over values as defined by the interval. Thus,\n",
    "    a starting value is selected and added by the interval until\n",
    "    it improves. If after 10 iterations there has been no improvement,\n",
    "    it resets back to the starting value and goes the other direction. \n",
    "    For example, if adding 5 to the starting price of 40 doesn't yield \n",
    "    any improvement, reset back to the starting price of 40 and substract\n",
    "    5 instead. \n",
    "    \n",
    "    Parameters:\n",
    "    -----------\n",
    "        row (numpy array): Array of features to optimize. \n",
    "        feature (string): The feature to optimize\n",
    "        interval (float): Intervals in which to optimize the feature\n",
    "        \n",
    "    Returns:\n",
    "    --------\n",
    "        row (numpy array): Array of features that are optimized. \n",
    "    \n",
    "    \"\"\"    \n",
    "    best_probability = float(clf.predict_proba(row.reshape(1, -1)).flatten()[1])\n",
    "    feature_index = to_optimize.columns.get_loc(feature) # Global, change this!\n",
    "    est_value = row[to_optimize.columns.get_loc('EstValue')]\n",
    "\n",
    "    start_row = row.copy()\n",
    "    temp_row = row.copy()\n",
    "    \n",
    "    k = 0\n",
    "    count_consecutive = 0\n",
    "    list_probabilities = []\n",
    "    \n",
    "    while k < 20: \n",
    "        temp_row[feature_index] += interval\n",
    "        \n",
    "        # If feature to optimize is startprice, then it cannot be higher than EstValue\n",
    "        # In all other cases it only needs to be higher than zero as negative are impossible\n",
    "        if ((feature == 'StartPrice') and (temp_row[feature_index] < est_value)\n",
    "                                     and (temp_row[feature_index] > 0)):\n",
    "            new_probability = float(clf.predict_proba(temp_row.reshape(1, -1)).flatten()[1]) \n",
    "        elif (feature != 'StartPrice') and (temp_row[feature_index] > 0):\n",
    "            new_probability = float(clf.predict_proba(temp_row.reshape(1, -1)).flatten()[1])    \n",
    "        else:\n",
    "            return row, list_probabilities\n",
    "        \n",
    "        # Changes direction of interval if there hasn't been improvement\n",
    "        # after 10 consecutive iterations. \n",
    "        if new_probability > best_probability:\n",
    "            row = temp_row.copy()\n",
    "            list_probabilities.append(new_probability - best_probability)\n",
    "            best_probability = new_probability\n",
    "            count_consecutive = 0\n",
    "        else:\n",
    "            count_consecutive += 1\n",
    "            if count_consecutive == 10:\n",
    "                interval = interval * -1\n",
    "                temp_row = start_row.copy()\n",
    "                k = 0\n",
    "        k += 1\n",
    "    return row, list_probabilities\n",
    "\n",
    "def evalOneMax(individual, temp_to_optimize, target):\n",
    "    \"\"\" Evaluation Function to be used with DEAP.\n",
    "        It returns the sum of 1s for the target. \n",
    "    \"\"\"\n",
    "    for index, value in enumerate(individual):\n",
    "        temp_to_optimize.loc[index, target] = value\n",
    "    return np.sum(clf.predict(temp_to_optimize.values)),\n",
    "\n",
    "def initialize_deap(to_optimize, target, min_val, max_val):\n",
    "    \"\"\"     \n",
    "    Registrates the following:\n",
    "        attr_bool: Values (genes) taken between 0 and 300\n",
    "        individual: a set of genes that correspond to all starting prices for the dataframe to optimize\n",
    "        population: a list of individuals\n",
    "        evaluate: register the goal / fitness function\n",
    "        mate: the crossover operator\n",
    "        mutate:  a mutation operator with a probability to flip each attribute/gene of 0.05\n",
    "        select: selecting individuals for breeding next generation\n",
    "    \"\"\"\n",
    "    temp_to_optimize = to_optimize.copy()\n",
    "    temp_to_optimize = temp_to_optimize.reset_index(drop=True)\n",
    "    \n",
    "    creator.create(\"FitnessMax\", base.Fitness, weights=(1.0,))\n",
    "    creator.create(\"Individual\", list, fitness=creator.FitnessMax)\n",
    "    toolbox = base.Toolbox()\n",
    "    toolbox.register(\"attr_bool\", random.randint, min_val, max_val)\n",
    "    toolbox.register(\"individual\", tools.initRepeat, creator.Individual, toolbox.attr_bool, len(to_optimize))\n",
    "    toolbox.register(\"population\", tools.initRepeat, list, toolbox.individual)\n",
    "    toolbox.register(\"evaluate\", evalOneMax, temp_to_optimize = temp_to_optimize, target = target)\n",
    "    toolbox.register(\"mate\", tools.cxTwoPoint)\n",
    "    toolbox.register(\"mutate\", tools.mutFlipBit, indpb=0.05)\n",
    "    toolbox.register(\"select\", tools.selTournament, tournsize=3)\n",
    "    return toolbox, temp_to_optimize\n",
    "\n",
    "def heuristic_ga(to_optimize, target, min_val=0, max_val=300):\n",
    "    \"\"\" A genetic algorithm for optimization of the target. \n",
    "    \n",
    "    Code was adopted from:\n",
    "    https://github.com/DEAP/deap/blob/master/examples/ga/onemax.py\n",
    "    \n",
    "    Parameters:\n",
    "    -----------\n",
    "        to_optimize (dataframe): The dataframe to be optimized\n",
    "        target (str): The target column to optimize\n",
    "        min_val (float): Minimum value (>= 0) the target can take\n",
    "        max_val (float): Maximum value (> min_val) the target can take\n",
    "    \n",
    "    Returns\n",
    "        to_optimize (dataframe): Dataframe with the target optimized    \n",
    "    \"\"\"\n",
    "    random.seed(64)\n",
    "    \n",
    "    # create an initial population of 300 individuals\n",
    "    toolbox, temp_to_optimize = initialize_deap(to_optimize, target, min_val, max_val)\n",
    "    pop = toolbox.population(n=300)\n",
    "\n",
    "    # CXPB is probability with which two individuals are crossed\n",
    "    # MUTPB is the probability for mutating an individual\n",
    "    CXPB, MUTPB = 0.5, 0.2\n",
    "    \n",
    "    print(\"Start of evolution\")\n",
    "    \n",
    "    # Evaluate the entire population\n",
    "    fitnesses = list(map(toolbox.evaluate, pop))\n",
    "    for ind, fit in zip(pop, fitnesses):\n",
    "        ind.fitness.values = fit\n",
    "    \n",
    "    print(\"  Evaluated %i individuals\" % len(pop))\n",
    "\n",
    "    # Extracting all the fitnesses of \n",
    "    fits = [ind.fitness.values[0] for ind in pop]\n",
    "\n",
    "    # Variable keeping track of the number of generations\n",
    "    g = 0\n",
    "    \n",
    "    # Begin the evolution\n",
    "    while max(fits) < 100 and g < 1000:\n",
    "        g = g + 1\n",
    "        print(\"-- Generation %i --\" % g)\n",
    "        \n",
    "        # Select and clone the next generation individuals\n",
    "        offspring = toolbox.select(pop, len(pop))\n",
    "        offspring = list(map(toolbox.clone, offspring))\n",
    "    \n",
    "        # Apply crossover and mutation on the offspring\n",
    "        for child1, child2 in zip(offspring[::2], offspring[1::2]):\n",
    "\n",
    "            # cross two individuals with probability CXPB\n",
    "            if random.random() < CXPB:\n",
    "                toolbox.mate(child1, child2)\n",
    "\n",
    "                # fitness values of the children\n",
    "                # must be recalculated later\n",
    "                del child1.fitness.values\n",
    "                del child2.fitness.values\n",
    "\n",
    "        for mutant in offspring:\n",
    "\n",
    "            # mutate an individual with probability MUTPB\n",
    "            if random.random() < MUTPB:\n",
    "                toolbox.mutate(mutant)\n",
    "                del mutant.fitness.values\n",
    "    \n",
    "        # Evaluate the individuals with an invalid fitness\n",
    "        invalid_ind = [ind for ind in offspring if not ind.fitness.valid]\n",
    "        fitnesses = map(toolbox.evaluate, invalid_ind)\n",
    "        for ind, fit in zip(invalid_ind, fitnesses):\n",
    "            ind.fitness.values = fit\n",
    "        \n",
    "        print(\"  Evaluated %i individuals\" % len(invalid_ind))\n",
    "        \n",
    "        # The population is entirely replaced by the offspring\n",
    "        pop[:] = offspring\n",
    "        \n",
    "        # Gather all the fitnesses in one list and print the stats\n",
    "        fits = [ind.fitness.values[0] for ind in pop]\n",
    "        \n",
    "        length = len(pop)\n",
    "        mean = sum(fits) / length\n",
    "        sum2 = sum(x*x for x in fits)\n",
    "        std = abs(sum2 / length - mean**2)**0.5\n",
    "        \n",
    "        print(\"  Min %s\" % min(fits))\n",
    "        print(\"  Max %s\" % max(fits))\n",
    "        print(\"  Avg %s\" % mean)\n",
    "        print(\"  Std %s\" % std)\n",
    "    \n",
    "    print(\"-- End of (successful) evolution --\")\n",
    "    \n",
    "    best_ind = tools.selBest(pop, 1)[0]\n",
    "    temp_to_optimize.loc[:, target] = best_ind\n",
    "    return temp_to_optimize\n",
    "\n",
    "\n",
    "def print_results(data, clf):\n",
    "    \"\"\" Print final result of heuristics\n",
    "    \n",
    "    It prints both the sum of 1s as well as the sum of \n",
    "    belonging to the first class.\n",
    "    \n",
    "    Parameters:\n",
    "    -----------\n",
    "        data (list of tuples): Each tuple indicates the df with the corresponding name\n",
    "                               E.g. results(data = [(df, 'Heuristic'), (df2, 'Heuristic 2'), clf])\n",
    "        clf (classifier): Classifier to be used for calculating results\n",
    "        \n",
    "    \"\"\"\n",
    "    for df, name in data:\n",
    "        print(name)\n",
    "        sum_1s = np.sum(clf.predict(df.values))\n",
    "        sum_probabilities = np.sum([x[1] if x[1] > 0.5 else 0 for x in clf.predict_proba(df.values)])\n",
    "        print('Sum of 1s: {}'.format(sum_1s))\n",
    "        print('Sum of probs that class is 1: {}'.format(sum_probabilities))\n",
    "        print()\n",
    "\n",
    "def validate_heuristic_results(clf, df, baseline, percentage=30, iterations=100):\n",
    "    \"\"\" Validation of results after using heuristic\n",
    "    \n",
    "    The issue with using a classifier is that it is only\n",
    "    accurate for a certain percentage of items. For that \n",
    "    reason optimizing might be an issue. For example,\n",
    "    if a model is only accurate for 80% of a binary predictor, \n",
    "    then 80% of the optimized values are likely to be correct\n",
    "    and 20% likely incorrect. This function reverts x% of the \n",
    "    target (e.g. 1 to 0 and 0 to 1) as a way to simulate having\n",
    "    x% of the target classified incorrectly. Then the baseline\n",
    "    is again calculated. This is average over a set amount of \n",
    "    instances/iterations. \n",
    "    \n",
    "    Parameters:\n",
    "    -----------\n",
    "        clf (model): Model that is used for prediction\n",
    "        df (dataframe): Dataframe that is optimized\n",
    "        baseline (int): Baseline with which to compare (sum of 1s)\n",
    "        percentage (float): percentage to be swapped\n",
    "        iterations (int): Number of iterations to average over\n",
    "    \"\"\"\n",
    "    \n",
    "    temp = list(clf.predict(df.values))\n",
    "    indices = [np.random.choice(range(len(temp)), int(len(temp)/100*percentage), \n",
    "                                replace=False) for i in range(iterations)]\n",
    "    multiple_tests = []\n",
    "\n",
    "    for sample in indices:\n",
    "        # Predict scores and invert them according to the sample\n",
    "        result = list(clf.predict(df.values))\n",
    "        for index in sample:\n",
    "            result[index] = (result[index] * -1) + 1\n",
    "\n",
    "        multiple_tests.append(np.sum(result))\n",
    "\n",
    "    print('Baseline: \\t{}'.format(baseline))\n",
    "    print('Optimization: \\t{}'.format(np.mean(multiple_tests)))"
   ]
  },
  {
   "cell_type": "code",
   "execution_count": 2,
   "metadata": {},
   "outputs": [
    {
     "data": {
      "text/html": [
       "<style>\n",
       "table {float:left}\n",
       "</style>"
      ],
      "text/plain": [
       "<IPython.core.display.HTML object>"
      ]
     },
     "metadata": {},
     "output_type": "display_data"
    }
   ],
   "source": [
    "%%html\n",
    "<style>\n",
    "table {float:left}\n",
    "</style>"
   ]
  },
  {
   "cell_type": "markdown",
   "metadata": {},
   "source": [
    "### <a name=\"preprocessing\">2. Preprocess Data</a> \n",
    "[Back to Table of Contents](#table)"
   ]
  },
  {
   "cell_type": "markdown",
   "metadata": {},
   "source": [
    "**Steps taken:**\n",
    "* Load and merge the 2014 and 2015 files\n",
    "* Extract part of day as a single variable and remove columns\n",
    "* Create a binary feature of the multipler variable\n",
    "* Create category based on the number of lots per category (those are unique and therefore represent a category)\n",
    "* Create Sale number based on the number of lost per sale (those are unique and therefore represent a lot)\n",
    "* Create categories per sale"
   ]
  },
  {
   "cell_type": "code",
   "execution_count": 48,
   "metadata": {},
   "outputs": [],
   "source": [
    "df = preprocess_data()"
   ]
  },
  {
   "cell_type": "markdown",
   "metadata": {},
   "source": [
    "Below you can see the data as was given to me without additional preprocessing of the data. The main purpose is to optimize the feature *\"multiplier\"* by finding optimal values for the decision variables. "
   ]
  },
  {
   "cell_type": "code",
   "execution_count": 49,
   "metadata": {},
   "outputs": [
    {
     "data": {
      "text/html": [
       "<div>\n",
       "<style scoped>\n",
       "    .dataframe tbody tr th:only-of-type {\n",
       "        vertical-align: middle;\n",
       "    }\n",
       "\n",
       "    .dataframe tbody tr th {\n",
       "        vertical-align: top;\n",
       "    }\n",
       "\n",
       "    .dataframe thead th {\n",
       "        text-align: right;\n",
       "    }\n",
       "</style>\n",
       "<table border=\"1\" class=\"dataframe\">\n",
       "  <thead>\n",
       "    <tr style=\"text-align: right;\">\n",
       "      <th></th>\n",
       "      <th>multiplier</th>\n",
       "      <th>LotNr</th>\n",
       "      <th>Allocate</th>\n",
       "      <th>EstValue</th>\n",
       "      <th>StartPrice</th>\n",
       "      <th>Followers</th>\n",
       "      <th>Bank</th>\n",
       "      <th>Dealer</th>\n",
       "      <th>Liquidator</th>\n",
       "      <th>Volunteer</th>\n",
       "      <th>LotsSale</th>\n",
       "      <th>LotsCtgry</th>\n",
       "      <th>Forced</th>\n",
       "      <th>SP.EV</th>\n",
       "      <th>Duration</th>\n",
       "      <th>Year</th>\n",
       "      <th>Part_of_Day</th>\n",
       "      <th>multiplier_binary</th>\n",
       "      <th>Category</th>\n",
       "    </tr>\n",
       "  </thead>\n",
       "  <tbody>\n",
       "    <tr>\n",
       "      <th>0</th>\n",
       "      <td>1.300000</td>\n",
       "      <td>6</td>\n",
       "      <td>0</td>\n",
       "      <td>700</td>\n",
       "      <td>400</td>\n",
       "      <td>19</td>\n",
       "      <td>0</td>\n",
       "      <td>1</td>\n",
       "      <td>0</td>\n",
       "      <td>0</td>\n",
       "      <td>1177</td>\n",
       "      <td>436</td>\n",
       "      <td>0</td>\n",
       "      <td>0.571429</td>\n",
       "      <td>67</td>\n",
       "      <td>0</td>\n",
       "      <td>2</td>\n",
       "      <td>1</td>\n",
       "      <td>1</td>\n",
       "    </tr>\n",
       "    <tr>\n",
       "      <th>1</th>\n",
       "      <td>0.616667</td>\n",
       "      <td>7</td>\n",
       "      <td>0</td>\n",
       "      <td>600</td>\n",
       "      <td>350</td>\n",
       "      <td>12</td>\n",
       "      <td>0</td>\n",
       "      <td>1</td>\n",
       "      <td>0</td>\n",
       "      <td>0</td>\n",
       "      <td>1177</td>\n",
       "      <td>436</td>\n",
       "      <td>0</td>\n",
       "      <td>0.583333</td>\n",
       "      <td>67</td>\n",
       "      <td>0</td>\n",
       "      <td>2</td>\n",
       "      <td>0</td>\n",
       "      <td>1</td>\n",
       "    </tr>\n",
       "    <tr>\n",
       "      <th>2</th>\n",
       "      <td>0.600000</td>\n",
       "      <td>9</td>\n",
       "      <td>0</td>\n",
       "      <td>1500</td>\n",
       "      <td>600</td>\n",
       "      <td>19</td>\n",
       "      <td>0</td>\n",
       "      <td>1</td>\n",
       "      <td>0</td>\n",
       "      <td>0</td>\n",
       "      <td>1177</td>\n",
       "      <td>436</td>\n",
       "      <td>0</td>\n",
       "      <td>0.400000</td>\n",
       "      <td>67</td>\n",
       "      <td>0</td>\n",
       "      <td>2</td>\n",
       "      <td>0</td>\n",
       "      <td>1</td>\n",
       "    </tr>\n",
       "    <tr>\n",
       "      <th>3</th>\n",
       "      <td>0.833333</td>\n",
       "      <td>10</td>\n",
       "      <td>0</td>\n",
       "      <td>300</td>\n",
       "      <td>150</td>\n",
       "      <td>20</td>\n",
       "      <td>0</td>\n",
       "      <td>1</td>\n",
       "      <td>0</td>\n",
       "      <td>0</td>\n",
       "      <td>1177</td>\n",
       "      <td>436</td>\n",
       "      <td>0</td>\n",
       "      <td>0.500000</td>\n",
       "      <td>67</td>\n",
       "      <td>0</td>\n",
       "      <td>2</td>\n",
       "      <td>0</td>\n",
       "      <td>1</td>\n",
       "    </tr>\n",
       "    <tr>\n",
       "      <th>4</th>\n",
       "      <td>0.600000</td>\n",
       "      <td>11</td>\n",
       "      <td>0</td>\n",
       "      <td>500</td>\n",
       "      <td>300</td>\n",
       "      <td>9</td>\n",
       "      <td>0</td>\n",
       "      <td>1</td>\n",
       "      <td>0</td>\n",
       "      <td>0</td>\n",
       "      <td>1177</td>\n",
       "      <td>436</td>\n",
       "      <td>0</td>\n",
       "      <td>0.600000</td>\n",
       "      <td>68</td>\n",
       "      <td>0</td>\n",
       "      <td>2</td>\n",
       "      <td>0</td>\n",
       "      <td>1</td>\n",
       "    </tr>\n",
       "  </tbody>\n",
       "</table>\n",
       "</div>"
      ],
      "text/plain": [
       "   multiplier  LotNr  Allocate  EstValue  StartPrice  Followers  Bank  Dealer  \\\n",
       "0    1.300000      6         0       700         400         19     0       1   \n",
       "1    0.616667      7         0       600         350         12     0       1   \n",
       "2    0.600000      9         0      1500         600         19     0       1   \n",
       "3    0.833333     10         0       300         150         20     0       1   \n",
       "4    0.600000     11         0       500         300          9     0       1   \n",
       "\n",
       "   Liquidator  Volunteer  LotsSale  LotsCtgry  Forced     SP.EV  Duration  \\\n",
       "0           0          0      1177        436       0  0.571429        67   \n",
       "1           0          0      1177        436       0  0.583333        67   \n",
       "2           0          0      1177        436       0  0.400000        67   \n",
       "3           0          0      1177        436       0  0.500000        67   \n",
       "4           0          0      1177        436       0  0.600000        68   \n",
       "\n",
       "   Year  Part_of_Day  multiplier_binary  Category  \n",
       "0     0            2                  1         1  \n",
       "1     0            2                  0         1  \n",
       "2     0            2                  0         1  \n",
       "3     0            2                  0         1  \n",
       "4     0            2                  0         1  "
      ]
     },
     "execution_count": 49,
     "metadata": {},
     "output_type": "execute_result"
    }
   ],
   "source": [
    "df[df.columns[:-10]].head()"
   ]
  },
  {
   "cell_type": "markdown",
   "metadata": {},
   "source": [
    "**Newly created features**  \n",
    "Several new features were created based on the initial set of features:\n",
    "\n",
    "| Feature | Description   \n",
    "|-|------|\n",
    "|   Multiplier_binary  | The multiplier variable in binary format (0 if value < 1 and 1 if value >= 1)|\n",
    "|   Category  | The number of the category for a certain item|\n",
    "|   Sale_nr  | The number of the sale|\n",
    "|   Categories_per_sale  |  The number of categories per sale|\n",
    "|   CtgryLotNr  | Ordering of Lots within a category |\n",
    "|   RelStartPriceCtgry | Relative starting price with regards to the category |\n",
    "|   RelDurationCtgry | Relative duration with regards to the category |\n",
    "|   RelLotNr | LotNr divided by LotsSale |\n",
    "|   RelCtrgyLotNr | Relative amount of lots per category (CtgryLotNr / LotsCtgry) |\n",
    "|   WinningBid | The winning bid (EstValue * multiplier)   |\n",
    "|   ResultsDifference | Difference between winning bid and est. value | "
   ]
  },
  {
   "cell_type": "markdown",
   "metadata": {},
   "source": [
    "### <a name=\"exploration\">3. Exploration</a> \n",
    "[Back to Table of Contents](#table)"
   ]
  },
  {
   "cell_type": "markdown",
   "metadata": {},
   "source": [
    "We have no missing values that we have to worry about. "
   ]
  },
  {
   "cell_type": "code",
   "execution_count": 50,
   "metadata": {},
   "outputs": [
    {
     "data": {
      "text/plain": [
       "False"
      ]
     },
     "execution_count": 50,
     "metadata": {},
     "output_type": "execute_result"
    }
   ],
   "source": [
    "df.isnull().values.any()"
   ]
  },
  {
   "cell_type": "markdown",
   "metadata": {},
   "source": [
    "It turns out there is a lot of data missing. The number of lots in sale indicate how many lots there should be in a sale.   \n",
    "However, when you actually count the number of lots, there seem to be some missing. "
   ]
  },
  {
   "cell_type": "code",
   "execution_count": 51,
   "metadata": {},
   "outputs": [
    {
     "name": "stdout",
     "output_type": "stream",
     "text": [
      "Lots Expected: 1177, \tLots in df: 783,   \t Lots missing: 394\n",
      "Lots Expected: 1411, \tLots in df: 979,   \t Lots missing: 432\n",
      "Lots Expected: 95, \tLots in df: 89,   \t Lots missing: 6\n",
      "Lots Expected: 1223, \tLots in df: 765,   \t Lots missing: 458\n",
      "Lots Expected: 355, \tLots in df: 36,   \t Lots missing: 319\n",
      "Lots Expected: 905, \tLots in df: 767,   \t Lots missing: 138\n",
      "Lots Expected: 219, \tLots in df: 157,   \t Lots missing: 62\n",
      "Lots Expected: 295, \tLots in df: 226,   \t Lots missing: 69\n",
      "Lots Expected: 955, \tLots in df: 730,   \t Lots missing: 225\n",
      "Lots Expected: 422, \tLots in df: 378,   \t Lots missing: 44\n",
      "Lots Expected: 460, \tLots in df: 243,   \t Lots missing: 217\n",
      "Lots Expected: 191, \tLots in df: 158,   \t Lots missing: 33\n",
      "Lots Expected: 68, \tLots in df: 34,   \t Lots missing: 34\n",
      "Lots Expected: 17, \tLots in df: 14,   \t Lots missing: 3\n",
      "Lots Expected: 1426, \tLots in df: 1152,   \t Lots missing: 274\n",
      "Lots Expected: 462, \tLots in df: 390,   \t Lots missing: 72\n",
      "Lots Expected: 646, \tLots in df: 507,   \t Lots missing: 139\n",
      "Lots Expected: 1053, \tLots in df: 877,   \t Lots missing: 176\n",
      "Lots Expected: 721, \tLots in df: 526,   \t Lots missing: 195\n",
      "Lots Expected: 1329, \tLots in df: 996,   \t Lots missing: 333\n",
      "Lots Expected: 89, \tLots in df: 62,   \t Lots missing: 27\n",
      "Lots Expected: 1079, \tLots in df: 771,   \t Lots missing: 308\n",
      "Lots Expected: 161, \tLots in df: 101,   \t Lots missing: 60\n",
      "Lots Expected: 291, \tLots in df: 3,   \t Lots missing: 288\n",
      "Lots Expected: 326, \tLots in df: 252,   \t Lots missing: 74\n",
      "Lots Expected: 280, \tLots in df: 201,   \t Lots missing: 79\n",
      "Lots Expected: 162, \tLots in df: 119,   \t Lots missing: 43\n"
     ]
    }
   ],
   "source": [
    "for i in df['LotsSale'].unique():\n",
    "    nr_lots_suggested = i\n",
    "    nr_lots_actual = len(df[df['LotsSale'] == i])\n",
    "    print('Lots Expected: {}, \\tLots in df: {},   \\t Lots missing: {}'.format(nr_lots_suggested, nr_lots_actual, \n",
    "                                                                            nr_lots_suggested - nr_lots_actual))"
   ]
  },
  {
   "cell_type": "markdown",
   "metadata": {},
   "source": [
    "Most likely the data that is missing are lots that couldn't be sold as nobody would place a bid. "
   ]
  },
  {
   "cell_type": "markdown",
   "metadata": {},
   "source": [
    "### <a name=\"visual\">4. Visualizations</a> \n",
    "[Back to Table of Contents](#table)\n"
   ]
  },
  {
   "cell_type": "markdown",
   "metadata": {},
   "source": [
    "#### <a name=\"plots\">4.1 Plots</a> \n",
    "[Back to Table of Contents](#table)\n",
    "\n",
    "After some playing around, I found the following (possibly) interesting plots to show some form of relationship,   \n",
    "at least to the human eye. Further exploration seems to be neccesary with regards to the Estimated value   \n",
    "which is why next you can see the correlations. "
   ]
  },
  {
   "cell_type": "code",
   "execution_count": 52,
   "metadata": {},
   "outputs": [
    {
     "data": {
      "image/png": "[encoded data removed]",
      "text/plain": [
       "<Figure size 720x576 with 4 Axes>"
      ]
     },
     "metadata": {},
     "output_type": "display_data"
    }
   ],
   "source": [
    "multiple_scatter_plots(df, [('EstValue', 'multiplier'),('StartPrice', 'multiplier'),\n",
    "                           ('Followers', 'multiplier'),('Followers', 'LotNr')], figsize=(10, 8), \n",
    "                       max_row=2)"
   ]
  },
  {
   "cell_type": "code",
   "execution_count": 8,
   "metadata": {},
   "outputs": [
    {
     "data": {
      "image/png": "[encoded data removed]",
      "text/plain": [
       "<Figure size 720x360 with 1 Axes>"
      ]
     },
     "metadata": {},
     "output_type": "display_data"
    }
   ],
   "source": [
    "scatter_plot(df, 'EstValue', 'StartPrice')"
   ]
  },
  {
   "cell_type": "code",
   "execution_count": 9,
   "metadata": {},
   "outputs": [
    {
     "data": {
      "image/png": "[encoded data removed]",
      "text/plain": [
       "<Figure size 432x288 with 2 Axes>"
      ]
     },
     "metadata": {},
     "output_type": "display_data"
    }
   ],
   "source": [
    "plot_multiplier_distribution()"
   ]
  },
  {
   "cell_type": "markdown",
   "metadata": {},
   "source": [
    "#### <a name=\"correlation\">4.2 Correlations</a> \n",
    "[Back to Table of Contents](#table)\n",
    "\n",
    "This is where things get really interesting. Why? Because, unfortunately, there is a high correlation between the Estimated Value and the Start Price.   \n",
    "This basically indicates that the Starting Prices are likely to be a standard percentage of the Estimated Value.   \n",
    "In other words, we cannot infer how changing the Starting Price would affect the multiplier as it is always the same, which is a **problem**"
   ]
  },
  {
   "cell_type": "code",
   "execution_count": 11,
   "metadata": {},
   "outputs": [
    {
     "data": {
      "image/png": "[encoded data removed]",
      "text/plain": [
       "<Figure size 792x648 with 2 Axes>"
      ]
     },
     "metadata": {},
     "output_type": "display_data"
    }
   ],
   "source": [
    "correlation_matrix(df)"
   ]
  },
  {
   "cell_type": "code",
   "execution_count": 12,
   "metadata": {},
   "outputs": [
    {
     "data": {
      "text/plain": [
       "EstValue           StartPrice          0.972891\n",
       "multiplier_binary  multiplier_three    0.909424\n",
       "StartPrice         WinningBid          0.899354\n",
       "EstValue           WinningBid          0.871405\n",
       "Category           Sale_nr             0.852410\n",
       "Dealer             Forced              0.839268\n",
       "Year               Sale_nr             0.818900\n",
       "LotNr              RelLotNr            0.788180\n",
       "LotsCtgry          CtgryLotNr          0.711148\n",
       "RelLotNr           RelCtgryLotNr       0.704299\n",
       "dtype: float64"
      ]
     },
     "execution_count": 12,
     "metadata": {},
     "output_type": "execute_result"
    }
   ],
   "source": [
    "corr_matrix = df.corr().abs()\n",
    "corr_matrix = corr_matrix.where(np.triu(np.ones(corr_matrix.shape), \n",
    "                                        k=1).astype(np.bool)).stack().sort_values(ascending=False)\n",
    "corr_matrix[:10]"
   ]
  },
  {
   "cell_type": "markdown",
   "metadata": {},
   "source": [
    "### <a name=\"engineering\">5. Feature Engineering</a> \n",
    "[Back to Table of Contents](#table)"
   ]
  },
  {
   "cell_type": "markdown",
   "metadata": {},
   "source": [
    "#### <a name=\"outliers\">5.1 Outlier Removal</a> \n",
    "[Back to Table of Contents](#table)\n",
    "\n",
    "As seen before it looks like the target variable 'multiplier' shows some outliers for the multiplier with a value higher than 10. Especially regressors are highly affected by outliers and decrease the resulting score. Therefore, we remove the outliers in this sample. It should be noted that there was no possibility to discuss with the owners of the data as domain expertise would have helped. They could have helped in advising whether to remove the outliers or not and which points to regard as outliers. "
   ]
  },
  {
   "cell_type": "code",
   "execution_count": 13,
   "metadata": {},
   "outputs": [
    {
     "name": "stdout",
     "output_type": "stream",
     "text": [
      "0.26 % of outliers with regards to the multiplier\n"
     ]
    }
   ],
   "source": [
    "outlier_percentage = len(df[df['multiplier']>10]) / len(df) * 100\n",
    "print('{} % of outliers with regards to the multiplier'\\\n",
    "      .format(round(outlier_percentage,2)))\n",
    "df = df[df['multiplier'] <= 10]"
   ]
  },
  {
   "cell_type": "code",
   "execution_count": 14,
   "metadata": {},
   "outputs": [
    {
     "name": "stdout",
     "output_type": "stream",
     "text": [
      "0.12 % of outliers with regards to the EstValue\n"
     ]
    }
   ],
   "source": [
    "outlier_percentage = len(df[df['EstValue']>=15000]) / len(df) * 100\n",
    "print('{} % of outliers with regards to the EstValue'\\\n",
    "      .format(round(outlier_percentage,2)))\n",
    "df = df[df['EstValue'] < 15000]"
   ]
  },
  {
   "cell_type": "markdown",
   "metadata": {},
   "source": [
    "Thus, we can clearly see that we removed 0.26% of the outliers when removing all rows that are associated with a multiplier score of higher than 10. "
   ]
  },
  {
   "cell_type": "markdown",
   "metadata": {},
   "source": [
    "#### <a name=\"selectfeatures\">5.2 Skewedness</a> \n",
    "[Back to Table of Contents](#table)\n",
    "\n",
    "In order to get a good score out of you regressors you often have to fix a skewed distribution of your feature variables. Regressors in most cases expect a normal distribution that has no skew. Therefore, we would like to do a log(1+p) transform for the variables that show a skew of larger than 0.65. It should be noted though that we only do this for the regression later on as this will not have any effect on "
   ]
  },
  {
   "cell_type": "code",
   "execution_count": 15,
   "metadata": {},
   "outputs": [],
   "source": [
    "# df = resolve_skewedness(df)"
   ]
  },
  {
   "cell_type": "markdown",
   "metadata": {},
   "source": [
    "### <a name=\"importance\">6. Feature Importance</a> \n",
    "[Back to Table of Contents](#table)\n",
    "\n",
    "Here we are going to look into the importance of some features.   \n",
    "Preferably, we would like to see that important features are those that can be selected as decision variables.  "
   ]
  },
  {
   "cell_type": "markdown",
   "metadata": {},
   "source": [
    "#### <a name=\"importancetree\">6.1 Decision Tree</a> \n",
    "[Back to Table of Contents](#table)\n",
    "\n",
    "A decision tree is used to give a quick and intuitive feeling on what features are important. "
   ]
  },
  {
   "cell_type": "code",
   "execution_count": 16,
   "metadata": {},
   "outputs": [
    {
     "data": {
      "image/svg+xml": [
       "<?xml version=\"1.0\" encoding=\"UTF-8\" standalone=\"no\"?>\r\n",
       "<!DOCTYPE svg PUBLIC \"-//W3C//DTD SVG 1.1//EN\"\r\n",
       " \"http://www.w3.org/Graphics/SVG/1.1/DTD/svg11.dtd\">\r\n",
       "<!-- Generated by graphviz version 2.38.0 (20140413.2041)\r\n",
       " -->\r\n",
       "<!-- Title: Tree Pages: 1 -->\r\n",
       "<svg width=\"1150pt\" height=\"433pt\"\r\n",
       " viewBox=\"0.00 0.00 1150.00 433.00\" xmlns=\"http://www.w3.org/2000/svg\" xmlns:xlink=\"http://www.w3.org/1999/xlink\">\r\n",
       "<g id=\"graph0\" class=\"graph\" transform=\"scale(1 1) rotate(0) translate(4 429)\">\r\n",
       "<title>Tree</title>\r\n",
       "<polygon fill=\"white\" stroke=\"none\" points=\"-4,4 -4,-429 1146,-429 1146,4 -4,4\"/>\r\n",
       "<!-- 0 -->\r\n",
       "<g id=\"node1\" class=\"node\"><title>0</title>\r\n",
       "<path fill=\"#e58139\" fill-opacity=\"0.247059\" stroke=\"black\" d=\"M626,-425C626,-425 504,-425 504,-425 498,-425 492,-419 492,-413 492,-413 492,-354 492,-354 492,-348 498,-342 504,-342 504,-342 626,-342 626,-342 632,-342 638,-348 638,-354 638,-354 638,-413 638,-413 638,-419 632,-425 626,-425\"/>\r\n",
       "<text text-anchor=\"start\" x=\"512\" y=\"-409.8\" font-family=\"Helvetica,sans-Serif\" font-size=\"14.00\">Followers ≤ 13.5</text>\r\n",
       "<text text-anchor=\"start\" x=\"531.5\" y=\"-394.8\" font-family=\"Helvetica,sans-Serif\" font-size=\"14.00\">gini = 0.49</text>\r\n",
       "<text text-anchor=\"start\" x=\"509\" y=\"-379.8\" font-family=\"Helvetica,sans-Serif\" font-size=\"14.00\">samples = 11273</text>\r\n",
       "<text text-anchor=\"start\" x=\"500\" y=\"-364.8\" font-family=\"Helvetica,sans-Serif\" font-size=\"14.00\">value = [6424, 4849]</text>\r\n",
       "<text text-anchor=\"start\" x=\"536\" y=\"-349.8\" font-family=\"Helvetica,sans-Serif\" font-size=\"14.00\">class = 0</text>\r\n",
       "</g>\r\n",
       "<!-- 1 -->\r\n",
       "<g id=\"node2\" class=\"node\"><title>1</title>\r\n",
       "<path fill=\"#e58139\" fill-opacity=\"0.627451\" stroke=\"black\" d=\"M519,-306C519,-306 397,-306 397,-306 391,-306 385,-300 385,-294 385,-294 385,-235 385,-235 385,-229 391,-223 397,-223 397,-223 519,-223 519,-223 525,-223 531,-229 531,-235 531,-235 531,-294 531,-294 531,-300 525,-306 519,-306\"/>\r\n",
       "<text text-anchor=\"start\" x=\"409.5\" y=\"-290.8\" font-family=\"Helvetica,sans-Serif\" font-size=\"14.00\">Followers ≤ 6.5</text>\r\n",
       "<text text-anchor=\"start\" x=\"420.5\" y=\"-275.8\" font-family=\"Helvetica,sans-Serif\" font-size=\"14.00\">gini = 0.395</text>\r\n",
       "<text text-anchor=\"start\" x=\"406.5\" y=\"-260.8\" font-family=\"Helvetica,sans-Serif\" font-size=\"14.00\">samples = 6977</text>\r\n",
       "<text text-anchor=\"start\" x=\"393\" y=\"-245.8\" font-family=\"Helvetica,sans-Serif\" font-size=\"14.00\">value = [5089, 1888]</text>\r\n",
       "<text text-anchor=\"start\" x=\"429\" y=\"-230.8\" font-family=\"Helvetica,sans-Serif\" font-size=\"14.00\">class = 0</text>\r\n",
       "</g>\r\n",
       "<!-- 0&#45;&gt;1 -->\r\n",
       "<g id=\"edge1\" class=\"edge\"><title>0&#45;&gt;1</title>\r\n",
       "<path fill=\"none\" stroke=\"black\" d=\"M527.877,-341.907C519.494,-332.742 510.518,-322.927 501.887,-313.489\"/>\r\n",
       "<polygon fill=\"black\" stroke=\"black\" points=\"504.389,-311.038 495.057,-306.021 499.223,-315.762 504.389,-311.038\"/>\r\n",
       "<text text-anchor=\"middle\" x=\"493.943\" y=\"-327.296\" font-family=\"Helvetica,sans-Serif\" font-size=\"14.00\">True</text>\r\n",
       "</g>\r\n",
       "<!-- 8 -->\r\n",
       "<g id=\"node9\" class=\"node\"><title>8</title>\r\n",
       "<path fill=\"#399de5\" fill-opacity=\"0.549020\" stroke=\"black\" d=\"M733,-306C733,-306 611,-306 611,-306 605,-306 599,-300 599,-294 599,-294 599,-235 599,-235 599,-229 605,-223 611,-223 611,-223 733,-223 733,-223 739,-223 745,-229 745,-235 745,-235 745,-294 745,-294 745,-300 739,-306 733,-306\"/>\r\n",
       "<text text-anchor=\"start\" x=\"619\" y=\"-290.8\" font-family=\"Helvetica,sans-Serif\" font-size=\"14.00\">Followers ≤ 23.5</text>\r\n",
       "<text text-anchor=\"start\" x=\"634.5\" y=\"-275.8\" font-family=\"Helvetica,sans-Serif\" font-size=\"14.00\">gini = 0.428</text>\r\n",
       "<text text-anchor=\"start\" x=\"620.5\" y=\"-260.8\" font-family=\"Helvetica,sans-Serif\" font-size=\"14.00\">samples = 4296</text>\r\n",
       "<text text-anchor=\"start\" x=\"607\" y=\"-245.8\" font-family=\"Helvetica,sans-Serif\" font-size=\"14.00\">value = [1335, 2961]</text>\r\n",
       "<text text-anchor=\"start\" x=\"643\" y=\"-230.8\" font-family=\"Helvetica,sans-Serif\" font-size=\"14.00\">class = 1</text>\r\n",
       "</g>\r\n",
       "<!-- 0&#45;&gt;8 -->\r\n",
       "<g id=\"edge8\" class=\"edge\"><title>0&#45;&gt;8</title>\r\n",
       "<path fill=\"none\" stroke=\"black\" d=\"M602.123,-341.907C610.506,-332.742 619.482,-322.927 628.113,-313.489\"/>\r\n",
       "<polygon fill=\"black\" stroke=\"black\" points=\"630.777,-315.762 634.943,-306.021 625.611,-311.038 630.777,-315.762\"/>\r\n",
       "<text text-anchor=\"middle\" x=\"636.057\" y=\"-327.296\" font-family=\"Helvetica,sans-Serif\" font-size=\"14.00\">False</text>\r\n",
       "</g>\r\n",
       "<!-- 2 -->\r\n",
       "<g id=\"node3\" class=\"node\"><title>2</title>\r\n",
       "<path fill=\"#e58139\" fill-opacity=\"0.823529\" stroke=\"black\" d=\"M266,-187C266,-187 152,-187 152,-187 146,-187 140,-181 140,-175 140,-175 140,-116 140,-116 140,-110 146,-104 152,-104 152,-104 266,-104 266,-104 272,-104 278,-110 278,-116 278,-116 278,-175 278,-175 278,-181 272,-187 266,-187\"/>\r\n",
       "<text text-anchor=\"start\" x=\"161.5\" y=\"-171.8\" font-family=\"Helvetica,sans-Serif\" font-size=\"14.00\">SP.EV ≤ 0.975</text>\r\n",
       "<text text-anchor=\"start\" x=\"171.5\" y=\"-156.8\" font-family=\"Helvetica,sans-Serif\" font-size=\"14.00\">gini = 0.254</text>\r\n",
       "<text text-anchor=\"start\" x=\"157.5\" y=\"-141.8\" font-family=\"Helvetica,sans-Serif\" font-size=\"14.00\">samples = 2911</text>\r\n",
       "<text text-anchor=\"start\" x=\"148\" y=\"-126.8\" font-family=\"Helvetica,sans-Serif\" font-size=\"14.00\">value = [2476, 435]</text>\r\n",
       "<text text-anchor=\"start\" x=\"180\" y=\"-111.8\" font-family=\"Helvetica,sans-Serif\" font-size=\"14.00\">class = 0</text>\r\n",
       "</g>\r\n",
       "<!-- 1&#45;&gt;2 -->\r\n",
       "<g id=\"edge2\" class=\"edge\"><title>1&#45;&gt;2</title>\r\n",
       "<path fill=\"none\" stroke=\"black\" d=\"M384.974,-229.187C354.281,-214.765 318.522,-197.962 287.286,-183.285\"/>\r\n",
       "<polygon fill=\"black\" stroke=\"black\" points=\"288.717,-180.09 278.178,-179.005 285.74,-186.426 288.717,-180.09\"/>\r\n",
       "</g>\r\n",
       "<!-- 5 -->\r\n",
       "<g id=\"node6\" class=\"node\"><title>5</title>\r\n",
       "<path fill=\"#e58139\" fill-opacity=\"0.443137\" stroke=\"black\" d=\"M519,-187C519,-187 397,-187 397,-187 391,-187 385,-181 385,-175 385,-175 385,-116 385,-116 385,-110 391,-104 397,-104 397,-104 519,-104 519,-104 525,-104 531,-110 531,-116 531,-116 531,-175 531,-175 531,-181 525,-187 519,-187\"/>\r\n",
       "<text text-anchor=\"start\" x=\"410.5\" y=\"-171.8\" font-family=\"Helvetica,sans-Serif\" font-size=\"14.00\">SP.EV ≤ 0.927</text>\r\n",
       "<text text-anchor=\"start\" x=\"420.5\" y=\"-156.8\" font-family=\"Helvetica,sans-Serif\" font-size=\"14.00\">gini = 0.459</text>\r\n",
       "<text text-anchor=\"start\" x=\"406.5\" y=\"-141.8\" font-family=\"Helvetica,sans-Serif\" font-size=\"14.00\">samples = 4066</text>\r\n",
       "<text text-anchor=\"start\" x=\"393\" y=\"-126.8\" font-family=\"Helvetica,sans-Serif\" font-size=\"14.00\">value = [2613, 1453]</text>\r\n",
       "<text text-anchor=\"start\" x=\"429\" y=\"-111.8\" font-family=\"Helvetica,sans-Serif\" font-size=\"14.00\">class = 0</text>\r\n",
       "</g>\r\n",
       "<!-- 1&#45;&gt;5 -->\r\n",
       "<g id=\"edge5\" class=\"edge\"><title>1&#45;&gt;5</title>\r\n",
       "<path fill=\"none\" stroke=\"black\" d=\"M458,-222.907C458,-214.649 458,-205.864 458,-197.302\"/>\r\n",
       "<polygon fill=\"black\" stroke=\"black\" points=\"461.5,-197.021 458,-187.021 454.5,-197.021 461.5,-197.021\"/>\r\n",
       "</g>\r\n",
       "<!-- 3 -->\r\n",
       "<g id=\"node4\" class=\"node\"><title>3</title>\r\n",
       "<path fill=\"#e58139\" fill-opacity=\"0.839216\" stroke=\"black\" d=\"M126,-68C126,-68 12,-68 12,-68 6,-68 0,-62 0,-56 0,-56 0,-12 0,-12 0,-6 6,-0 12,-0 12,-0 126,-0 126,-0 132,-0 138,-6 138,-12 138,-12 138,-56 138,-56 138,-62 132,-68 126,-68\"/>\r\n",
       "<text text-anchor=\"start\" x=\"31.5\" y=\"-52.8\" font-family=\"Helvetica,sans-Serif\" font-size=\"14.00\">gini = 0.237</text>\r\n",
       "<text text-anchor=\"start\" x=\"17.5\" y=\"-37.8\" font-family=\"Helvetica,sans-Serif\" font-size=\"14.00\">samples = 2871</text>\r\n",
       "<text text-anchor=\"start\" x=\"8\" y=\"-22.8\" font-family=\"Helvetica,sans-Serif\" font-size=\"14.00\">value = [2476, 395]</text>\r\n",
       "<text text-anchor=\"start\" x=\"40\" y=\"-7.8\" font-family=\"Helvetica,sans-Serif\" font-size=\"14.00\">class = 0</text>\r\n",
       "</g>\r\n",
       "<!-- 2&#45;&gt;3 -->\r\n",
       "<g id=\"edge3\" class=\"edge\"><title>2&#45;&gt;3</title>\r\n",
       "<path fill=\"none\" stroke=\"black\" d=\"M156.869,-103.726C144.741,-94.2406 131.847,-84.1551 119.778,-74.7159\"/>\r\n",
       "<polygon fill=\"black\" stroke=\"black\" points=\"121.608,-71.7035 111.575,-68.2996 117.295,-77.2173 121.608,-71.7035\"/>\r\n",
       "</g>\r\n",
       "<!-- 4 -->\r\n",
       "<g id=\"node5\" class=\"node\"><title>4</title>\r\n",
       "<path fill=\"#399de5\" stroke=\"black\" d=\"M249.5,-68C249.5,-68 168.5,-68 168.5,-68 162.5,-68 156.5,-62 156.5,-56 156.5,-56 156.5,-12 156.5,-12 156.5,-6 162.5,-0 168.5,-0 168.5,-0 249.5,-0 249.5,-0 255.5,-0 261.5,-6 261.5,-12 261.5,-12 261.5,-56 261.5,-56 261.5,-62 255.5,-68 249.5,-68\"/>\r\n",
       "<text text-anchor=\"start\" x=\"180\" y=\"-52.8\" font-family=\"Helvetica,sans-Serif\" font-size=\"14.00\">gini = 0.0</text>\r\n",
       "<text text-anchor=\"start\" x=\"165.5\" y=\"-37.8\" font-family=\"Helvetica,sans-Serif\" font-size=\"14.00\">samples = 40</text>\r\n",
       "<text text-anchor=\"start\" x=\"164.5\" y=\"-22.8\" font-family=\"Helvetica,sans-Serif\" font-size=\"14.00\">value = [0, 40]</text>\r\n",
       "<text text-anchor=\"start\" x=\"180\" y=\"-7.8\" font-family=\"Helvetica,sans-Serif\" font-size=\"14.00\">class = 1</text>\r\n",
       "</g>\r\n",
       "<!-- 2&#45;&gt;4 -->\r\n",
       "<g id=\"edge4\" class=\"edge\"><title>2&#45;&gt;4</title>\r\n",
       "<path fill=\"none\" stroke=\"black\" d=\"M209,-103.726C209,-95.5175 209,-86.8595 209,-78.56\"/>\r\n",
       "<polygon fill=\"black\" stroke=\"black\" points=\"212.5,-78.2996 209,-68.2996 205.5,-78.2996 212.5,-78.2996\"/>\r\n",
       "</g>\r\n",
       "<!-- 6 -->\r\n",
       "<g id=\"node7\" class=\"node\"><title>6</title>\r\n",
       "<path fill=\"#e58139\" fill-opacity=\"0.458824\" stroke=\"black\" d=\"M414,-68C414,-68 292,-68 292,-68 286,-68 280,-62 280,-56 280,-56 280,-12 280,-12 280,-6 286,-0 292,-0 292,-0 414,-0 414,-0 420,-0 426,-6 426,-12 426,-12 426,-56 426,-56 426,-62 420,-68 414,-68\"/>\r\n",
       "<text text-anchor=\"start\" x=\"315.5\" y=\"-52.8\" font-family=\"Helvetica,sans-Serif\" font-size=\"14.00\">gini = 0.455</text>\r\n",
       "<text text-anchor=\"start\" x=\"301.5\" y=\"-37.8\" font-family=\"Helvetica,sans-Serif\" font-size=\"14.00\">samples = 4024</text>\r\n",
       "<text text-anchor=\"start\" x=\"288\" y=\"-22.8\" font-family=\"Helvetica,sans-Serif\" font-size=\"14.00\">value = [2613, 1411]</text>\r\n",
       "<text text-anchor=\"start\" x=\"324\" y=\"-7.8\" font-family=\"Helvetica,sans-Serif\" font-size=\"14.00\">class = 0</text>\r\n",
       "</g>\r\n",
       "<!-- 5&#45;&gt;6 -->\r\n",
       "<g id=\"edge6\" class=\"edge\"><title>5&#45;&gt;6</title>\r\n",
       "<path fill=\"none\" stroke=\"black\" d=\"M418.902,-103.726C410.068,-94.5142 400.692,-84.7364 391.869,-75.5343\"/>\r\n",
       "<polygon fill=\"black\" stroke=\"black\" points=\"394.379,-73.095 384.931,-68.2996 389.326,-77.9399 394.379,-73.095\"/>\r\n",
       "</g>\r\n",
       "<!-- 7 -->\r\n",
       "<g id=\"node8\" class=\"node\"><title>7</title>\r\n",
       "<path fill=\"#399de5\" stroke=\"black\" d=\"M537.5,-68C537.5,-68 456.5,-68 456.5,-68 450.5,-68 444.5,-62 444.5,-56 444.5,-56 444.5,-12 444.5,-12 444.5,-6 450.5,-0 456.5,-0 456.5,-0 537.5,-0 537.5,-0 543.5,-0 549.5,-6 549.5,-12 549.5,-12 549.5,-56 549.5,-56 549.5,-62 543.5,-68 537.5,-68\"/>\r\n",
       "<text text-anchor=\"start\" x=\"468\" y=\"-52.8\" font-family=\"Helvetica,sans-Serif\" font-size=\"14.00\">gini = 0.0</text>\r\n",
       "<text text-anchor=\"start\" x=\"453.5\" y=\"-37.8\" font-family=\"Helvetica,sans-Serif\" font-size=\"14.00\">samples = 42</text>\r\n",
       "<text text-anchor=\"start\" x=\"452.5\" y=\"-22.8\" font-family=\"Helvetica,sans-Serif\" font-size=\"14.00\">value = [0, 42]</text>\r\n",
       "<text text-anchor=\"start\" x=\"468\" y=\"-7.8\" font-family=\"Helvetica,sans-Serif\" font-size=\"14.00\">class = 1</text>\r\n",
       "</g>\r\n",
       "<!-- 5&#45;&gt;7 -->\r\n",
       "<g id=\"edge7\" class=\"edge\"><title>5&#45;&gt;7</title>\r\n",
       "<path fill=\"none\" stroke=\"black\" d=\"M472.522,-103.726C475.543,-95.2439 478.735,-86.2819 481.781,-77.7312\"/>\r\n",
       "<polygon fill=\"black\" stroke=\"black\" points=\"485.082,-78.8943 485.14,-68.2996 478.487,-76.5456 485.082,-78.8943\"/>\r\n",
       "</g>\r\n",
       "<!-- 9 -->\r\n",
       "<g id=\"node10\" class=\"node\"><title>9</title>\r\n",
       "<path fill=\"#399de5\" fill-opacity=\"0.341176\" stroke=\"black\" d=\"M733,-187C733,-187 611,-187 611,-187 605,-187 599,-181 599,-175 599,-175 599,-116 599,-116 599,-110 605,-104 611,-104 611,-104 733,-104 733,-104 739,-104 745,-110 745,-116 745,-116 745,-175 745,-175 745,-181 739,-187 733,-187\"/>\r\n",
       "<text text-anchor=\"start\" x=\"621.5\" y=\"-171.8\" font-family=\"Helvetica,sans-Serif\" font-size=\"14.00\">EstValue ≤ 47.5</text>\r\n",
       "<text text-anchor=\"start\" x=\"634.5\" y=\"-156.8\" font-family=\"Helvetica,sans-Serif\" font-size=\"14.00\">gini = 0.479</text>\r\n",
       "<text text-anchor=\"start\" x=\"620.5\" y=\"-141.8\" font-family=\"Helvetica,sans-Serif\" font-size=\"14.00\">samples = 2593</text>\r\n",
       "<text text-anchor=\"start\" x=\"607\" y=\"-126.8\" font-family=\"Helvetica,sans-Serif\" font-size=\"14.00\">value = [1028, 1565]</text>\r\n",
       "<text text-anchor=\"start\" x=\"643\" y=\"-111.8\" font-family=\"Helvetica,sans-Serif\" font-size=\"14.00\">class = 1</text>\r\n",
       "</g>\r\n",
       "<!-- 8&#45;&gt;9 -->\r\n",
       "<g id=\"edge9\" class=\"edge\"><title>8&#45;&gt;9</title>\r\n",
       "<path fill=\"none\" stroke=\"black\" d=\"M672,-222.907C672,-214.649 672,-205.864 672,-197.302\"/>\r\n",
       "<polygon fill=\"black\" stroke=\"black\" points=\"675.5,-197.021 672,-187.021 668.5,-197.021 675.5,-197.021\"/>\r\n",
       "</g>\r\n",
       "<!-- 12 -->\r\n",
       "<g id=\"node13\" class=\"node\"><title>12</title>\r\n",
       "<path fill=\"#399de5\" fill-opacity=\"0.780392\" stroke=\"black\" d=\"M986,-187C986,-187 872,-187 872,-187 866,-187 860,-181 860,-175 860,-175 860,-116 860,-116 860,-110 866,-104 872,-104 872,-104 986,-104 986,-104 992,-104 998,-110 998,-116 998,-116 998,-175 998,-175 998,-181 992,-187 986,-187\"/>\r\n",
       "<text text-anchor=\"start\" x=\"876\" y=\"-171.8\" font-family=\"Helvetica,sans-Serif\" font-size=\"14.00\">Followers ≤ 31.5</text>\r\n",
       "<text text-anchor=\"start\" x=\"891.5\" y=\"-156.8\" font-family=\"Helvetica,sans-Serif\" font-size=\"14.00\">gini = 0.296</text>\r\n",
       "<text text-anchor=\"start\" x=\"877.5\" y=\"-141.8\" font-family=\"Helvetica,sans-Serif\" font-size=\"14.00\">samples = 1703</text>\r\n",
       "<text text-anchor=\"start\" x=\"868\" y=\"-126.8\" font-family=\"Helvetica,sans-Serif\" font-size=\"14.00\">value = [307, 1396]</text>\r\n",
       "<text text-anchor=\"start\" x=\"900\" y=\"-111.8\" font-family=\"Helvetica,sans-Serif\" font-size=\"14.00\">class = 1</text>\r\n",
       "</g>\r\n",
       "<!-- 8&#45;&gt;12 -->\r\n",
       "<g id=\"edge12\" class=\"edge\"><title>8&#45;&gt;12</title>\r\n",
       "<path fill=\"none\" stroke=\"black\" d=\"M745.302,-230.129C778.12,-215.188 816.87,-197.548 850.299,-182.329\"/>\r\n",
       "<polygon fill=\"black\" stroke=\"black\" points=\"851.927,-185.434 859.578,-178.105 849.026,-179.063 851.927,-185.434\"/>\r\n",
       "</g>\r\n",
       "<!-- 10 -->\r\n",
       "<g id=\"node11\" class=\"node\"><title>10</title>\r\n",
       "<path fill=\"#399de5\" fill-opacity=\"0.596078\" stroke=\"black\" d=\"M686,-68C686,-68 580,-68 580,-68 574,-68 568,-62 568,-56 568,-56 568,-12 568,-12 568,-6 574,-0 580,-0 580,-0 686,-0 686,-0 692,-0 698,-6 698,-12 698,-12 698,-56 698,-56 698,-62 692,-68 686,-68\"/>\r\n",
       "<text text-anchor=\"start\" x=\"599.5\" y=\"-52.8\" font-family=\"Helvetica,sans-Serif\" font-size=\"14.00\">gini = 0.41</text>\r\n",
       "<text text-anchor=\"start\" x=\"585.5\" y=\"-37.8\" font-family=\"Helvetica,sans-Serif\" font-size=\"14.00\">samples = 966</text>\r\n",
       "<text text-anchor=\"start\" x=\"576\" y=\"-22.8\" font-family=\"Helvetica,sans-Serif\" font-size=\"14.00\">value = [278, 688]</text>\r\n",
       "<text text-anchor=\"start\" x=\"604\" y=\"-7.8\" font-family=\"Helvetica,sans-Serif\" font-size=\"14.00\">class = 1</text>\r\n",
       "</g>\r\n",
       "<!-- 9&#45;&gt;10 -->\r\n",
       "<g id=\"edge10\" class=\"edge\"><title>9&#45;&gt;10</title>\r\n",
       "<path fill=\"none\" stroke=\"black\" d=\"M657.478,-103.726C654.457,-95.2439 651.265,-86.2819 648.219,-77.7312\"/>\r\n",
       "<polygon fill=\"black\" stroke=\"black\" points=\"651.513,-76.5456 644.86,-68.2996 644.918,-78.8943 651.513,-76.5456\"/>\r\n",
       "</g>\r\n",
       "<!-- 11 -->\r\n",
       "<g id=\"node12\" class=\"node\"><title>11</title>\r\n",
       "<path fill=\"#399de5\" fill-opacity=\"0.145098\" stroke=\"black\" d=\"M834,-68C834,-68 728,-68 728,-68 722,-68 716,-62 716,-56 716,-56 716,-12 716,-12 716,-6 722,-0 728,-0 728,-0 834,-0 834,-0 840,-0 846,-6 846,-12 846,-12 846,-56 846,-56 846,-62 840,-68 834,-68\"/>\r\n",
       "<text text-anchor=\"start\" x=\"743.5\" y=\"-52.8\" font-family=\"Helvetica,sans-Serif\" font-size=\"14.00\">gini = 0.497</text>\r\n",
       "<text text-anchor=\"start\" x=\"729.5\" y=\"-37.8\" font-family=\"Helvetica,sans-Serif\" font-size=\"14.00\">samples = 1627</text>\r\n",
       "<text text-anchor=\"start\" x=\"724\" y=\"-22.8\" font-family=\"Helvetica,sans-Serif\" font-size=\"14.00\">value = [750, 877]</text>\r\n",
       "<text text-anchor=\"start\" x=\"752\" y=\"-7.8\" font-family=\"Helvetica,sans-Serif\" font-size=\"14.00\">class = 1</text>\r\n",
       "</g>\r\n",
       "<!-- 9&#45;&gt;11 -->\r\n",
       "<g id=\"edge11\" class=\"edge\"><title>9&#45;&gt;11</title>\r\n",
       "<path fill=\"none\" stroke=\"black\" d=\"M712.588,-103.726C721.758,-94.5142 731.491,-84.7364 740.651,-75.5343\"/>\r\n",
       "<polygon fill=\"black\" stroke=\"black\" points=\"743.278,-77.8561 747.852,-68.2996 738.317,-72.9176 743.278,-77.8561\"/>\r\n",
       "</g>\r\n",
       "<!-- 13 -->\r\n",
       "<g id=\"node14\" class=\"node\"><title>13</title>\r\n",
       "<path fill=\"#399de5\" fill-opacity=\"0.674510\" stroke=\"black\" d=\"M982,-68C982,-68 876,-68 876,-68 870,-68 864,-62 864,-56 864,-56 864,-12 864,-12 864,-6 870,-0 876,-0 876,-0 982,-0 982,-0 988,-0 994,-6 994,-12 994,-12 994,-56 994,-56 994,-62 988,-68 982,-68\"/>\r\n",
       "<text text-anchor=\"start\" x=\"895.5\" y=\"-52.8\" font-family=\"Helvetica,sans-Serif\" font-size=\"14.00\">gini = 0.37</text>\r\n",
       "<text text-anchor=\"start\" x=\"881.5\" y=\"-37.8\" font-family=\"Helvetica,sans-Serif\" font-size=\"14.00\">samples = 795</text>\r\n",
       "<text text-anchor=\"start\" x=\"872\" y=\"-22.8\" font-family=\"Helvetica,sans-Serif\" font-size=\"14.00\">value = [195, 600]</text>\r\n",
       "<text text-anchor=\"start\" x=\"900\" y=\"-7.8\" font-family=\"Helvetica,sans-Serif\" font-size=\"14.00\">class = 1</text>\r\n",
       "</g>\r\n",
       "<!-- 12&#45;&gt;13 -->\r\n",
       "<g id=\"edge13\" class=\"edge\"><title>12&#45;&gt;13</title>\r\n",
       "<path fill=\"none\" stroke=\"black\" d=\"M929,-103.726C929,-95.5175 929,-86.8595 929,-78.56\"/>\r\n",
       "<polygon fill=\"black\" stroke=\"black\" points=\"932.5,-78.2996 929,-68.2996 925.5,-78.2996 932.5,-78.2996\"/>\r\n",
       "</g>\r\n",
       "<!-- 14 -->\r\n",
       "<g id=\"node15\" class=\"node\"><title>14</title>\r\n",
       "<path fill=\"#399de5\" fill-opacity=\"0.858824\" stroke=\"black\" d=\"M1130,-68C1130,-68 1024,-68 1024,-68 1018,-68 1012,-62 1012,-56 1012,-56 1012,-12 1012,-12 1012,-6 1018,-0 1024,-0 1024,-0 1130,-0 1130,-0 1136,-0 1142,-6 1142,-12 1142,-12 1142,-56 1142,-56 1142,-62 1136,-68 1130,-68\"/>\r\n",
       "<text text-anchor=\"start\" x=\"1039.5\" y=\"-52.8\" font-family=\"Helvetica,sans-Serif\" font-size=\"14.00\">gini = 0.216</text>\r\n",
       "<text text-anchor=\"start\" x=\"1029.5\" y=\"-37.8\" font-family=\"Helvetica,sans-Serif\" font-size=\"14.00\">samples = 908</text>\r\n",
       "<text text-anchor=\"start\" x=\"1020\" y=\"-22.8\" font-family=\"Helvetica,sans-Serif\" font-size=\"14.00\">value = [112, 796]</text>\r\n",
       "<text text-anchor=\"start\" x=\"1048\" y=\"-7.8\" font-family=\"Helvetica,sans-Serif\" font-size=\"14.00\">class = 1</text>\r\n",
       "</g>\r\n",
       "<!-- 12&#45;&gt;14 -->\r\n",
       "<g id=\"edge14\" class=\"edge\"><title>12&#45;&gt;14</title>\r\n",
       "<path fill=\"none\" stroke=\"black\" d=\"M984.11,-103.726C997.054,-94.1494 1010.82,-83.9611 1023.69,-74.4438\"/>\r\n",
       "<polygon fill=\"black\" stroke=\"black\" points=\"1026.04,-77.061 1031.99,-68.2996 1021.87,-71.4337 1026.04,-77.061\"/>\r\n",
       "</g>\r\n",
       "</g>\r\n",
       "</svg>\r\n"
      ],
      "text/plain": [
       "<graphviz.files.Source at 0x145ea628400>"
      ]
     },
     "execution_count": 16,
     "metadata": {},
     "output_type": "execute_result"
    }
   ],
   "source": [
    "features = ['LotNr','Allocate','EstValue','StartPrice','Followers','Bank','Dealer','Liquidator','Volunteer','LotsSale',\n",
    "            'LotsCtgry','Forced','SP.EV','Duration','Year','Category','Sale_nr','Categories_per_sale','CtgryLotNr',\n",
    "            'RelStartPriceCtgry', 'RelLotNr', 'RelCtgryLotNr','RelDurationCtgry']\n",
    "target = 'multiplier_binary'\n",
    "dataset, X, y = select_features(df, target = target)\n",
    "plot_decision_tree(dataset, X, y, max_depth=3)"
   ]
  },
  {
   "cell_type": "markdown",
   "metadata": {},
   "source": [
    "#### <a name=\"importanceforest\">6.2 Random Forest</a> \n",
    "[Back to Table of Contents](#table)\n",
    "\n",
    "A random forest is a better way of indicating which features are important as it can see for each tree in the forest which features allow for the highest increase/decrease in gini/entropy. \n",
    "Unfortunately, Followers is highest and clearly not a decision variable as those are decided beforehand.  \n",
    "However, **LotNr** seems to be an importance feature and is something we can definitely optimize! "
   ]
  },
  {
   "cell_type": "code",
   "execution_count": 17,
   "metadata": {},
   "outputs": [
    {
     "data": {
      "image/png": "[encoded data removed]",
      "text/plain": [
       "<Figure size 720x288 with 1 Axes>"
      ]
     },
     "metadata": {},
     "output_type": "display_data"
    }
   ],
   "source": [
    "plot_feature_importance(dataset, X, y)"
   ]
  },
  {
   "cell_type": "markdown",
   "metadata": {},
   "source": [
    "#### <a name=\"selection\">6.3 Feature Selection</a> \n",
    "[Back to Table of Contents](#table)\n",
    "\n",
    "This an important part of most parts that will follow. This piece of code will let you quickly select   \n",
    "the feature variables that you want in your \"X\" variable and the target feature variable in \"y\".   \n",
    "Moreover, a dataframe called \"dataset\" will be generated that includes the features and target variables.   \n",
    "The target variable will always be the last column in dataframe \"dataset\". \n",
    "\n",
    "You can use this code to change the variables in the **Predictions**, **GridSearch** and **Feature Importance**.  "
   ]
  },
  {
   "cell_type": "code",
   "execution_count": 18,
   "metadata": {},
   "outputs": [],
   "source": [
    "features = ['LotNr','Allocate','EstValue','StartPrice','Followers','Bank','Dealer', \n",
    "            'Liquidator','Volunteer','LotsSale','LotsCtgry','Forced','SP.EV', \n",
    "            'Duration','Year','Category','Sale_nr','Categories_per_sale','CtgryLotNr',\n",
    "            'RelStartPriceCtgry', 'RelLotNr', 'RelCtgryLotNr','RelDurationCtgry']\n",
    "target = 'multiplier_binary'\n",
    "dataset, X, y = select_features(df, features, target)"
   ]
  },
  {
   "cell_type": "markdown",
   "metadata": {},
   "source": [
    "### <a name=\"prediction\">7. Prediction</a> \n",
    "[Back to Table of Contents](#table)"
   ]
  },
  {
   "cell_type": "markdown",
   "metadata": {},
   "source": [
    "#### <a name=\"resultclassifiers\">7.1 Classification with K-Fold</a> \n",
    "[Back to Table of Contents](#table)\n",
    "\n",
    "The initial results show that a Random Forest performs best, even with no parameters tweaked.\n",
    "Some tweaking is ofcourse necessary in order to get the best results.   \n",
    "It should be noted though that I haven't thought yet\n",
    "about the best way to do cross validation in this case. For now, it is simply 5-fold cross validation.   \n",
    "A thought would \n",
    "be to use **leave-one out** as we have multiple different sales and we can see how it would perform if we would predict \n",
    "for each sale.   \n",
    "It would definitely most relevant to the optimization as we are (probably) going to optimize individual sales. "
   ]
  },
  {
   "cell_type": "code",
   "execution_count": 67,
   "metadata": {},
   "outputs": [
    {
     "data": {
      "image/png": "[encoded data removed]",
      "text/plain": [
       "<Figure size 432x288 with 1 Axes>"
      ]
     },
     "metadata": {},
     "output_type": "display_data"
    }
   ],
   "source": [
    "clf = [KNeighborsClassifier(), LGBMClassifier(),DecisionTreeClassifier(),\n",
    "       RandomForestClassifier(),AdaBoostClassifier(),GradientBoostingClassifier(),\n",
    "       GaussianNB(),LogisticRegression(),XGBClassifier()]\n",
    "result = cv_multiple_classifiers(X, y, classifiers = clf, n_splits=10, print_process=False)"
   ]
  },
  {
   "cell_type": "markdown",
   "metadata": {},
   "source": [
    "#### <a name=\"loo\">7.2 Classification with Leave-One-Out CV</a> \n",
    "[Back to Table of Contents](#table)\n",
    "\n",
    "The issue with normal k-fold cross validation is that there will be leakage of data with respect to individual sales. The purpose of cross validation is to prove that your model works on data that it has not seen before. However, if you use k-fold cross validation then it it likely that information regarding a certain sale will end up in both the train and test sets. Therefore, we adopted leave-one-out (LOO) cross validation which is essentially a k-fold cross validation where the k's are defined by the sales themselves. Seeing as we have 27 sales in the dataset, LOO CV will give us a 27-fold cross validation which is a more accurate than any normal k-fold CV. "
   ]
  },
  {
   "cell_type": "code",
   "execution_count": 68,
   "metadata": {},
   "outputs": [],
   "source": [
    "rfc = RandomForestClassifier(n_estimators=100, max_features= 11)\n",
    "lgbm = LGBMClassifier(learning_rate=0.2, max_depth=2,metric='binary_logloss', min_child_samples=20,min_data_in_leaf=15, num_leaves=2, objective='binary',random_state=42)\n",
    "xgb = XGBClassifier(gamma=1, learning_rate=0.000001,max_depth=1, min_child_weight=1,n_estimators=100,n_jobs=-1, objective='binary:logistic', random_state=42,reg_alpha=0.5, reg_lambda=0.5)\n",
    "results, info_folds = loo_cv(dataset, adjust_folds=False, clf=lgbm)"
   ]
  },
  {
   "cell_type": "markdown",
   "metadata": {},
   "source": [
    "27 folds/sales in the cross validation is fairly large, which is typically not an issue if each fold has enough data. However, there are some folds/sale that only have a few lots in them. What you then get is that you have 99% of the data is trained and only 1% is tested on. When you test on 1% of the data, then it is likely you get outliers, either very high or very low accuracy scores. Therefore, I simply removed the accuracy of folds where the target fold has 50 or less datapoints. "
   ]
  },
  {
   "cell_type": "code",
   "execution_count": 69,
   "metadata": {},
   "outputs": [
    {
     "name": "stdout",
     "output_type": "stream",
     "text": [
      "old: 0.7083953661270547\n",
      "new: 0.718611468448668\n"
     ]
    }
   ],
   "source": [
    "folds_to_remove = [fold[0]-1 for fold in info_folds.items() if fold[1]<50]\n",
    "results_new = [value for index, value in enumerate(results) if index not in folds_to_remove]\n",
    "print('old: {}'.format(sum(results)/len(results)))\n",
    "print('new: {}'.format(sum(results_new)/len(results_new)))"
   ]
  },
  {
   "cell_type": "markdown",
   "metadata": {},
   "source": [
    "#### <a name=\"voting\">7.3 Voting Classifier with Leave-One-Out CV</a> \n",
    "[Back to Table of Contents](#table)\n",
    "\n",
    "Instead of choosing a single classifier, let's use multiple classifiers and see if they agree on a better model than simply using a single one. The idea is simple, all classifiers make mistakes but they don't all make the same mistakes. It's a principle very similar to Random Forests and ensembles in general. "
   ]
  },
  {
   "cell_type": "code",
   "execution_count": 76,
   "metadata": {},
   "outputs": [],
   "source": [
    "clf1 = RandomForestClassifier(n_estimators=100, max_features= 11, random_state=42)\n",
    "clf2 = AdaBoostClassifier()\n",
    "clf3 = GradientBoostingClassifier()\n",
    "clf4 = LGBMClassifier(learning_rate=0.2, max_depth=2,metric='binary_logloss', min_child_samples=20,min_data_in_leaf=15, num_leaves=2, objective='binary',random_state=42)\n",
    "clf5 = XGBClassifier(gamma=1, learning_rate=0.000001,max_depth=1, min_child_weight=1,n_estimators=100,n_jobs=-1, objective='binary:logistic', random_state=42,reg_alpha=0.5, reg_lambda=0.5)\n",
    "eclf1 = VotingClassifier(estimators=[('rf', clf1),('ada',clf2),('grad',clf3),('lgbm',clf4),('xgb', clf5)],voting='soft',weights=[1,1,1,3,1])\n",
    "results, info_folds = loo_cv(dataset, adjust_folds=False, clf=eclf1)"
   ]
  },
  {
   "cell_type": "code",
   "execution_count": 77,
   "metadata": {},
   "outputs": [
    {
     "name": "stdout",
     "output_type": "stream",
     "text": [
      "old: 0.7058487953523901\n",
      "new: 0.7183394071044964\n"
     ]
    }
   ],
   "source": [
    "folds_to_remove = [fold[0]-1 for fold in info_folds.items() if fold[1]<50]\n",
    "results_test = [value for index, value in enumerate(results) if index not in folds_to_remove]\n",
    "print('old: {}'.format(sum(results)/len(results)))\n",
    "print('new: {}'.format(sum(results_test)/len(results_test)))"
   ]
  },
  {
   "cell_type": "markdown",
   "metadata": {},
   "source": [
    "As you can see the VotingClassifier does not improve results. This does not mean that it is not possible to get an improvement with a VotingClassifier, merely that it is very difficult to do so. Setting the right weights might do the trick. However, even if we manage to do so optimization we'll be lengthy computationally due to the ensemble of models. Thus, let's just keep LightGBM as our preferred as it computationally fast and gives a high accuracy. "
   ]
  },
  {
   "cell_type": "markdown",
   "metadata": {},
   "source": [
    "#### <a name=\"regression\">7.4 Regression with K-Fold CV</a> \n",
    "[Back to Table of Contents](#table)\n",
    "\n",
    "The next step is obviously to see whether we can do regression instead of classification. The advantage is that you can more accurately predict the multiplier value and therefore increase the performance of optimization. However, this needs to be fairly accurate in order for this to work seeing as most multiplier values are between 0 and 3. Therefore, we would like to have a RMSE of at most 0.5. "
   ]
  },
  {
   "cell_type": "code",
   "execution_count": 47,
   "metadata": {},
   "outputs": [
    {
     "data": {
      "text/plain": [
       "{'ElasticNet': 0.9227761403114669,\n",
       " 'GradientBoostingRegressor': 0.835459893069204,\n",
       " 'KernelRidge': 0.8465575195837018,\n",
       " 'LGBMRegressor': 0.8492899940535616,\n",
       " 'Lasso': 0.9224493829111007,\n",
       " 'RandomForestRegressor': 0.9245381147668305,\n",
       " 'XGBRegressor': 0.8313899573979497}"
      ]
     },
     "execution_count": 47,
     "metadata": {},
     "output_type": "execute_result"
    }
   ],
   "source": [
    "df = resolve_skewedness(df)\n",
    "target = 'multiplier'\n",
    "dataset, X, y = select_features(df, features = [], target = target)\n",
    "models = [GradientBoostingRegressor(), Lasso(),ElasticNet(),KernelRidge(), \n",
    "              RandomForestRegressor(), XGBRegressor(), LGBMRegressor()]\n",
    "result = {name.__class__.__name__: np.mean(rmse_cross_validation(name, X, y)) for name in models}\n",
    "result"
   ]
  },
  {
   "cell_type": "markdown",
   "metadata": {},
   "source": [
    "The results currently show as lowest score 0.83. Removing high multipliers will help with that, but it seems to me that doing so a bit cheating. At some point you are removing valueable information that is needed for when you model data that was not previously seen. "
   ]
  },
  {
   "cell_type": "markdown",
   "metadata": {},
   "source": [
    "### <a name=\"grid\">8. Grid Search</a> \n",
    "[Back to Table of Contents](#table)\n",
    "\n",
    "A simple gridsearch that can be used to find the best parameters for the selected classifier.   \n",
    "However, changing classifier and selecting parameters is a lot of work, so I decided against putting it all into a function. "
   ]
  },
  {
   "cell_type": "markdown",
   "metadata": {},
   "source": [
    "#### <a name=\"gridclassification\">8.1 GridSearch Classification</a> \n",
    "[Back to Table of Contents](#table)"
   ]
  },
  {
   "cell_type": "code",
   "execution_count": 23,
   "metadata": {},
   "outputs": [],
   "source": [
    "target = 'multiplier_binary'\n",
    "dataset, X, y = select_features(df, features = [], target = target)\n",
    "parameters = [{'n_estimators': [1, 10, 50, 100, 200, 300], 'max_features':np.arange(1, len(dataset.columns)-1, 1)}]\n",
    "lgbm_grid = {'num_leaves': [2,3],'max_depth': [2],'min_data_in_leaf': [15],'objective': ['binary'],'boosting': ['gbdt'],'metric': ['binary_logloss'],'learning_rate': [0.2]}\n",
    "xgb_grid = {'max_depth': [1,3], 'learning_rate': [0.0001],'min_child_weight': [1]}\n",
    "# grid_search(xgb_grid, XGBClassifier())"
   ]
  },
  {
   "cell_type": "markdown",
   "metadata": {},
   "source": [
    "#### <a name=\"gridregression\">8.2 GridSearch Regression</a> \n",
    "[Back to Table of Contents](#table)"
   ]
  },
  {
   "cell_type": "code",
   "execution_count": 31,
   "metadata": {},
   "outputs": [],
   "source": [
    "param_grid_gradient = {'n_estimators': [500, 3000], 'learning_rate': np.arange(0.01, 0.1, 0.01), \n",
    "              'max_depth': [1, 3, 5, 7], 'min_samples_leaf': [10, 15, 20], 'min_samples_split': [10, 15, 20]}\n",
    "param_grid_lasso = {'alpha':np.arange(0.0001, 0.001, 0.0001), 'max_iter': np.arange(10000, 50000, 10000)}\n",
    "param_grid_net = {'alpha': np.arange(0.0001, 0.001, 0.0001),'max_iter': np.arange(1000, 10000, 1000)}\n",
    "param_grid_ridge = {'alpha': np.arange(0.1, 0.9, 0.1),'kernel': ['polynomial'],'degree': [2],'coef0':[1.85]} \n",
    "model = [GradientBoostingRegressor(), Lasso(), ElasticNet(), KernelRidge()]\n",
    "# grid_search(param_grid_gradient, model[0])"
   ]
  },
  {
   "cell_type": "markdown",
   "metadata": {},
   "source": [
    "### <a name=\"optimization\">9. Optimization - Description</a> \n",
    "[Back to Table of Contents](#table)\n",
    "\n",
    "\n",
    "**Decision Variables:**  \n",
    "Decision variables are features that we can change before the auction starts in order to optimize the profit made.   \n",
    "For example, the starting price is a decision variable as we can change what it would be before the auction.   \n",
    "The estimated value on the other is *not* a decison variable as they are judged by experts and typically do not change.  \n",
    "  \n",
    "The following are chosen to be the decision variables:  \n",
    "* *StartPrice*: starting bidding price of the lot\n",
    "* *Duration*: duration of auctions in hours on a lot\n",
    "\n",
    "**Sale Selection**  \n",
    "For optimization, it might be best to approach it in one of two ways:\n",
    "* Either leave one sale out and optimize that one, or\n",
    "* Construct our own sale and try to optimize that one\n",
    "\n",
    "Leaving one sale out is preferred as it represents real data. We simply leave one out, train on the rest and then simply optimize that sale. \n",
    "\n",
    "**Performance**  \n",
    "The performance of an auction is judged by the sum of all predicted binary multipliers. If there are 10 items that are predicted a 1, then the total score is a 10.   \n",
    "However, predicting a 1 for an item that is estimated to be worth \\$100 is not necessarely the same as predicting a 1 for an item with a worth of \\$200.   \n",
    "You can choose to do a weighted sum of 0's and 1's in order to approximate a regression task. For example, an item worth \\$100 with a prediction of 1 might be multiplied by 1.1 whereas the \\$200 item is multiplied by 1.2 to indicate that it is more important to score a 1 for a higher valued item than a lower valued item. However, we start by optimizing the number of 1s. \n",
    "\n",
    "Thus, there are three possible performance measures:  \n",
    "* Unweighted Classification \n",
    "* Weighted Classification \n",
    "* Regression (best way, but difficult to achieve a low RMSE)\n",
    "\n",
    "We start with regression so indicate to which extend that is possible. As you will see below, it has difficulties limiting the maximum amount of money that can be made. \n",
    "\n",
    "**Heuristics**  \n",
    "We basically have to find the right combination of decision variables for each lot.   \n",
    "In order to do that we can either brute-force it, which is difficult and might take too much time.   \n",
    "Or we can choose to use a heuristic for that purpose. \n",
    "\n",
    "* Step 1: Insert the LotNr based on Highest Estimated Value\n",
    "* Step 2: Choose the Duration based on the Duration correlated highest to the Multiplier\n",
    "* Step 3: ....\n",
    "* Step 4: Profit! "
   ]
  },
  {
   "cell_type": "markdown",
   "metadata": {},
   "source": [
    "### <a name=\"regressionoptimization\">10. Optimization with Regression</a> \n",
    "[Back to Table of Contents](#table)"
   ]
  },
  {
   "cell_type": "markdown",
   "metadata": {},
   "source": [
    "**Fit Data**  \n",
    "Train on all sales are not sale_nr 10 so we have a pre-trained model on which we can do the optimization"
   ]
  },
  {
   "cell_type": "code",
   "execution_count": 19,
   "metadata": {},
   "outputs": [],
   "source": [
    "df, to_optimize, baseline, X, y = prepare_data_optimization(target='multiplier')\n",
    "regressor = GradientBoostingRegressor(n_estimators = 3000, min_samples_leaf = 15, learning_rate = 0.05, max_features ='sqrt',min_samples_split = 10, loss = 'huber').fit(X, y)\n",
    "regressor = Lasso().fit(X, y)"
   ]
  },
  {
   "cell_type": "markdown",
   "metadata": {},
   "source": [
    "Let's say I randomly put in some numbers, how well would I do? "
   ]
  },
  {
   "cell_type": "code",
   "execution_count": 20,
   "metadata": {},
   "outputs": [],
   "source": [
    "to_optimize.LotNr = range(len(to_optimize), 0, -1)\n",
    "to_optimize.StartPrice = to_optimize.EstValue * 10000000000\n",
    "to_optimize.Duration = 50\n",
    "to_optimize.Part_of_Day = 1"
   ]
  },
  {
   "cell_type": "code",
   "execution_count": 21,
   "metadata": {},
   "outputs": [
    {
     "name": "stdout",
     "output_type": "stream",
     "text": [
      "Baseline: \t$65530,-\n",
      "Optimization: \t$210216374858014,-\n"
     ]
    }
   ],
   "source": [
    "result = int(np.sum(regressor.predict(to_optimize.values) * to_optimize.EstValue.values))\n",
    "print('Baseline: \\t${},-'.format(int(baseline)))\n",
    "print('Optimization: \\t${},-'.format(int(result)))"
   ]
  },
  {
   "cell_type": "markdown",
   "metadata": {},
   "source": [
    "**Problem:**  \n",
    "Clearly we have a problem, the model apparently thinks that a higher Starting Price leads to a higher multiplier. However, if we set the Starting Price at 10 times the Estimated Value then it gives a high score, while in reality nobody would actually bid that much. Thus, this is an indication of the issues when using a regressor in this case. \n",
    "This problem exists for Lasso, Ridge and ElasticNet because they are typical regressors. \n",
    "\n",
    "The regressors that seem to work are:\n",
    "* GradientBoosting\n",
    "* RandomForestRegressor"
   ]
  },
  {
   "cell_type": "markdown",
   "metadata": {},
   "source": [
    "### <a name=\"optimizationfull\">11. Optimization - Classification</a> \n",
    "[Back to Table of Contents](#table)   \n",
    "\n",
    "I've chosen the following variables to be decision variables that we can optimize:\n",
    "* StartPrice\n",
    "* Duration"
   ]
  },
  {
   "cell_type": "markdown",
   "metadata": {},
   "source": [
    "#### <a name=\"geneticalgorithm\">11.1 Genetic Algorithm</a> \n",
    "[Back to Table of Contents](#table)   "
   ]
  },
  {
   "cell_type": "code",
   "execution_count": 3,
   "metadata": {},
   "outputs": [],
   "source": [
    "df, to_optimize, baseline, X, y = prepare_data_optimization()\n",
    "clf = LGBMClassifier(learning_rate=0.2, max_depth=2,metric='binary_logloss', min_child_samples=20,\n",
    "        min_data_in_leaf=15, num_leaves=2, objective='binary',random_state=42).fit(X, y)"
   ]
  },
  {
   "cell_type": "code",
   "execution_count": 4,
   "metadata": {},
   "outputs": [
    {
     "name": "stdout",
     "output_type": "stream",
     "text": [
      "Start of evolution\n",
      "  Evaluated 300 individuals\n",
      "-- End of (successful) evolution --\n"
     ]
    }
   ],
   "source": [
    "temp_to_optimize = heuristic_ga(to_optimize, target = 'StartPrice', min_val = 0, max_val = 500)"
   ]
  },
  {
   "cell_type": "code",
   "execution_count": 6,
   "metadata": {},
   "outputs": [
    {
     "name": "stdout",
     "output_type": "stream",
     "text": [
      "Baseline\n",
      "Sum of 1s: 193\n",
      "Sum of probs that class is 1: 134.31452018508756\n",
      "\n",
      "Genetic Algorithm\n",
      "Sum of 1s: 217\n",
      "Sum of probs that class is 1: 155.1691108767212\n"
     ]
    }
   ],
   "source": [
    "print_results(temp_to_optimize, 'Genetic Algorithm', clf, to_optimize, 'Baseline')"
   ]
  },
  {
   "cell_type": "markdown",
   "metadata": {},
   "source": [
    "#### <a name=\"heuristic\">11.2 Heuristic</a> \n",
    "[Back to Table of Contents](#table)   \n",
    "The heuristic optimizes the value of the feature variable (i.e. StartPrice or Duration)\n",
    "by iterating over values as defined by the interval. Thus,\n",
    "a starting value is selected and added by the interval until\n",
    "it improves. If after 10 iterations there has been no improvement,\n",
    "it resets back to the starting value and goes the other direction. \n",
    "For example, if adding 5 to the starting price of 40 doesn't yield \n",
    "any improvement, reset back to the starting price of 40 and substract\n",
    "5 instead."
   ]
  },
  {
   "cell_type": "code",
   "execution_count": 5,
   "metadata": {},
   "outputs": [],
   "source": [
    "df, to_optimize_v2, baseline, X, y = prepare_data_optimization()\n",
    "\n",
    "results = []\n",
    "for index, row in enumerate(to_optimize_v2.values):\n",
    "    to_optimize_v2.iloc[index], improvements = heuristic_probabilities(row, feature = 'StartPrice',interval = 1)\n",
    "    results.append(improvements)"
   ]
  },
  {
   "cell_type": "code",
   "execution_count": 6,
   "metadata": {},
   "outputs": [
    {
     "name": "stdout",
     "output_type": "stream",
     "text": [
      "Heuristic\n",
      "Sum of 1s: 217\n",
      "Sum of probs that class is 1: 155.51677586136967\n",
      "\n",
      "Baseline\n",
      "Sum of 1s: 193\n",
      "Sum of probs that class is 1: 134.31452018508756\n",
      "\n"
     ]
    }
   ],
   "source": [
    "print_results([(to_optimize_v2, 'Heuristic'), (to_optimize, 'Baseline')], clf)"
   ]
  },
  {
   "cell_type": "code",
   "execution_count": 92,
   "metadata": {},
   "outputs": [
    {
     "data": {
      "image/png": "[encoded data removed]",
      "text/plain": [
       "<Figure size 720x360 with 1 Axes>"
      ]
     },
     "metadata": {},
     "output_type": "display_data"
    }
   ],
   "source": [
    "results = [x for y in results for x in y] # Flatten results\n",
    "results = [(i + 1, sum(results[:i+1])) for i in range(len(results))] # Sum sequence \n",
    "results = pd.DataFrame(results, columns = ['index', 'value'])\n",
    "scatter_plot(results, 'index', 'value', xlabel='Sum of Improved Probabilities', ylabel='Iteration', \n",
    "             title='Improvement of Probabilities')"
   ]
  },
  {
   "cell_type": "markdown",
   "metadata": {},
   "source": [
    "#### <a name=\"validation\">11.3 Validation</a> \n",
    "[Back to Table of Contents](#table)   \n",
    "Our classifier gives ~70% accuracy. In the worst case scenario 30% of classifications are incorrect. Therefore, let's see what happens if change 30% of 0's and 1's to 1's and 0's respectively. "
   ]
  },
  {
   "cell_type": "code",
   "execution_count": 42,
   "metadata": {},
   "outputs": [
    {
     "name": "stdout",
     "output_type": "stream",
     "text": [
      "Baseline: \t200\n",
      "Optimization: \t200.172\n"
     ]
    }
   ],
   "source": [
    "validate_heuristic_results(clf, to_optimize_v2, baseline, percentage=30, iterations=1000)"
   ]
  },
  {
   "cell_type": "markdown",
   "metadata": {},
   "source": [
    "This is a great result! Why? Because this is the minimum sum that we can achieve assuming in practice it is also 70% accuracy. In practice, it may actually result in a better score. \n",
    "\n",
    "Also, there are more 1's after optimization (which is of course the goal) which means that if you are inverting the scores, it is more likely that you would invert a 1 to a 0. Thus, this even further validates that the optimization score is a bare minimum. "
   ]
  }
 ],
 "metadata": {
  "kernelspec": {
   "display_name": "Python [conda env:JADS]",
   "language": "python",
   "name": "conda-env-JADS-py"
  },
  "language_info": {
   "codemirror_mode": {
    "name": "ipython",
    "version": 3
   },
   "file_extension": ".py",
   "mimetype": "text/x-python",
   "name": "python",
   "nbconvert_exporter": "python",
   "pygments_lexer": "ipython3",
   "version": "3.5.3"
  },
  "latex_envs": {
   "LaTeX_envs_menu_present": true,
   "bibliofile": "biblio.bib",
   "cite_by": "apalike",
   "current_citInitial": 1,
   "eqLabelWithNumbers": true,
   "eqNumInitial": 1,
   "labels_anchors": false,
   "latex_user_defs": false,
   "report_style_numbering": false,
   "user_envs_cfg": false
  }
 },
 "nbformat": 4,
 "nbformat_minor": 2
}
